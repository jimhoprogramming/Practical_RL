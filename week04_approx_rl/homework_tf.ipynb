{
 "cells": [
  {
   "cell_type": "markdown",
   "metadata": {},
   "source": [
    "# Deep Q-Network implementation\n",
    "\n",
    "This notebook shamelessly demands you to implement a DQN - an approximate q-learning algorithm with experience replay and target networks - and see if it works any better this way."
   ]
  },
  {
   "cell_type": "code",
   "execution_count": 1,
   "metadata": {},
   "outputs": [],
   "source": [
    "# XVFB will be launched if you run on a server\n",
    "import os\n",
    "if type(os.environ.get(\"DISPLAY\")) is not str or len(os.environ.get(\"DISPLAY\")) == 0:\n",
    "    !bash ../xvfb start\n",
    "    %env DISPLAY = : 1"
   ]
  },
  {
   "cell_type": "markdown",
   "metadata": {},
   "source": [
    "__Frameworks__ - we'll accept this homework in any deep learning framework. This particular notebook was designed for tensorflow, but you will find it easy to adapt it to almost any python-based deep learning framework."
   ]
  },
  {
   "cell_type": "code",
   "execution_count": 2,
   "metadata": {},
   "outputs": [],
   "source": [
    "import gym\n",
    "import numpy as np\n",
    "import pandas as pd\n",
    "import matplotlib.pyplot as plt\n",
    "%matplotlib inline"
   ]
  },
  {
   "cell_type": "markdown",
   "metadata": {},
   "source": [
    "### Let's play some old videogames\n",
    "![img](https://github.com/yandexdataschool/Practical_RL/raw/master/yet_another_week/_resource/nerd.png)\n",
    "\n",
    "This time we're gonna apply approximate q-learning to an atari game called Breakout. It's not the hardest thing out there, but it's definitely way more complex than anything we tried before.\n"
   ]
  },
  {
   "cell_type": "markdown",
   "metadata": {},
   "source": [
    "### Processing game image \n",
    "\n",
    "Raw atari images are large, 210x160x3 by default. However, we don't need that level of detail in order to learn them.\n",
    "\n",
    "We can thus save a lot of time by preprocessing game image, including\n",
    "* Resizing to a smaller shape, 64 x 64\n",
    "* Converting to grayscale\n",
    "* Cropping irrelevant image parts (top & bottom)"
   ]
  },
  {
   "cell_type": "code",
   "execution_count": 3,
   "metadata": {},
   "outputs": [],
   "source": [
    "from gym.core import ObservationWrapper\n",
    "from gym.spaces import Box\n",
    "\n",
    "#from scipy.misc import imresize\n",
    "import tensorflow as tf\n",
    "\n",
    "class PreprocessAtari(ObservationWrapper):\n",
    "    def __init__(self, env):\n",
    "        \"\"\"A gym wrapper that crops, scales image into the desired shapes and optionally grayscales it.\"\"\"\n",
    "        ObservationWrapper.__init__(self, env)\n",
    "\n",
    "        self.img_size = (64, 64)\n",
    "        self.observation_space = Box(low=0.0, high=1.0, shape=(64,64,1), dtype=np.float32)\n",
    "\n",
    "    def _observation(self, img):\n",
    "        \"\"\"what happens to each observation\"\"\"\n",
    "\n",
    "        # Here's what you need to do:\n",
    "        #  * crop image, remove irrelevant parts\n",
    "        #  * resize image to self.img_size\n",
    "        #     (use imresize imported above or any library you want,\n",
    "        #      e.g. opencv, skimage, PIL, keras)\n",
    "        #  * cast image to grayscale\n",
    "        #  * convert image pixels to (0,1) range, float32 type\n",
    "        '''\n",
    "        <Your code here >\n",
    "        '''\n",
    "        img = tf.image.resize(images = img, size = self.img_size)\n",
    "        img = tf.image.rgb_to_grayscale(images = img)\n",
    "        img = img.numpy()\n",
    "        #img = np.squeeze(img)\n",
    "        img = img.astype(np.float32)/255.0\n",
    "        return img"
   ]
  },
  {
   "cell_type": "code",
   "execution_count": 4,
   "metadata": {},
   "outputs": [
    {
     "name": "stdout",
     "output_type": "stream",
     "text": [
<<<<<<< HEAD
      "entry_point is :gym.envs.atari:AtariEnv\n",
      "orgin shape:(210, 160, 3)\n",
      "orgin action space:Discrete(4)\n"
=======
      "entry_point is :gym.envs.atari:AtariEnv\n"
>>>>>>> 87a73886a358aa4bc0dae10efa7c7aabca3a70ac
     ]
    },
    {
     "name": "stderr",
     "output_type": "stream",
     "text": [
      "/home/jim/.local/lib/python3.6/site-packages/gym/envs/registration.py:14: PkgResourcesDeprecationWarning: Parameters to load are deprecated.  Call .resolve and .require separately.\n",
      "  result = entry_point.load(require = False)\n"
     ]
    },
    {
     "name": "stdout",
     "output_type": "stream",
     "text": [
<<<<<<< HEAD
      "\u001b[33mWARN: <class '__main__.PreprocessAtari'> doesn't implement 'observation' method. Maybe it implements deprecated '_observation' method.\u001b[0m\n",
      "after preprocess s ndim=3 \n",
      "and s shape = (64, 64, 1)\n",
      "s element max value = 0.581583559513092, min value = 0.0\n",
=======
      "orgin shape:(210, 160, 3)\n",
      "orgin action space:Discrete(4)\n",
      "\u001b[33mWARN: <class '__main__.PreprocessAtari'> doesn't implement 'observation' method. Maybe it implements deprecated '_observation' method.\u001b[0m\n",
      "3\n",
      "(64, 64, 1)\n",
      "0.58158356\n",
      "0.0\n",
>>>>>>> 87a73886a358aa4bc0dae10efa7c7aabca3a70ac
      "Formal tests seem fine. Here's an example of what you'll get.\n"
     ]
    },
    {
     "data": {
      "text/plain": [
<<<<<<< HEAD
       "<matplotlib.image.AxesImage at 0x7f326561f588>"
=======
       "<matplotlib.image.AxesImage at 0x7f400ae07048>"
>>>>>>> 87a73886a358aa4bc0dae10efa7c7aabca3a70ac
      ]
     },
     "execution_count": 4,
     "metadata": {},
     "output_type": "execute_result"
    },
    {
     "data": {
      "image/png": "iVBORw0KGgoAAAANSUhEUgAAAP4AAAEICAYAAAB/KknhAAAABHNCSVQICAgIfAhkiAAAAAlwSFlzAAALEgAACxIB0t1+/AAAADl0RVh0U29mdHdhcmUAbWF0cGxvdGxpYiB2ZXJzaW9uIDIuMi4yLCBodHRwOi8vbWF0cGxvdGxpYi5vcmcvhp/UCwAAFbBJREFUeJzt3XvUVXWdx/H3R4TwwkV8DFFUaLxlK0ViOZpkilpY3taqHO2GxQqnqUlXOorVNLZyTdqaMmdqStKStLykIuqMqaGolKPiLRAyyFCu4qMQKlai3/lj/x7cPD6XA88+5zwPv89rrWedffntvb9nn/M5+3L2s48iAjPLyzbNLsDMGs/BN8uQg2+WIQffLEMOvlmGHHyzDGURfEkhae9m15ErSRdIurrZddibsgh+T0haIumYZtdRNUmnS5rT7DqsORz8PkLSts2uYUv01bq3dn02+JI+I+nWUv8iSb8s9S+VNKY0yTGpzVpJP5Ck1O7vJN0t6QVJrZJ+LmloGncVsCdwq6SXJZ3bQR3zJZ1Q6u+f5nNw6j9R0pNpubMlvbPUdpNDEElXSrowdR8paZmk8yStAn7awbJPlzRH0n9IWiPpT5KOK40fIukKSSslLZd0oaR+qYYfAYel57VW0uj0uE2a9seSVpfmdZWks1L3bpJukfSipMWSPldqd4GkGyRdLWkdcHq7mvtLukbSjZIGdPCcdpZ0q6R1kh5ONc8pjX9vGv7n9Pje0rjZkr4p6TeSXpJ0p6SWNG5UWt+TJD2bXqOvlqY9RNIDaR2slPT9jupLbQem5/dCav+wpOFdrfPStJ+VtDC9XndI2qujZdRdRPTJP+AdwFqKD6/dgGeAZaVxa4BtUn8AtwFDKYL8PDAxjdsbOBZ4G7ALcB/wvdJylgDHdFHHucB1pf6TgHmpe1/glTT//qntYmBAqa69S9NeCVyYuo8ENgAXp9q262DZpwOvAZ8D+gGfB1YASuNnAJcBOwBvBx4CzihNO6fd/J4F3pO6nwKeBt5ZGndw6r4P+G9gIDAmrc8JadwFqaaT02uzXRp2der+n/Q8+3WyPq9Nf9sDBwBL2+oEhqXX9VPAtsBpqX/nNH428Me03rdL/RelcaPS+v5xGncQ8NfS83sPcGia7yhgIXBWJzWeAdyaauyXph1cwzo/Kb3+70zL+Rrw26bkp9kB7mH4lwJjgVOBaWkl7w98Bril1C6A8aX+64GpnczzZOCxUv8Sug7+bsBLpRf+BuDc1P2vwPWlttsAy4EjS3V1Ffy/AQO7WPbpwOJS//ZpnrsCw9Mbe7vS+NOAe0rTtg/+VcCX0/RPAd8G/hEYzZsfsnsArwODStN9C7gydV8A3NduvhcAtwD3Av9J+mDq4Pn0o/jQ2K807ELeDP6ngIfaTfMAcHrqng18rTTun4Bfpe5Rad2MLI1/CDi1k1rOAmZ0Mu6zwG+BA9sN726d3w5Mbvd+WA/s1ejs9PXjr3spArJ36l4LvB84LPWXrSp1rwd2BEi7aJcC7wMGUbwYa2otICJWSPoN8BFJM4DjgDPT6LY9kba2b0haCuxe4+yfj4i/dNNm4/OKiPXpCGZHiq1jf2BlGgbFc1vaxbzuBU4EllFs1WdThO0vwP2p/t2AFyPipdJ0zwDjSv0dLePQVM9pkd71HdiFYktYnr7cvcn6LC27vD47fJ27Gy9pX+C7FM9j+1THI53UeRXFB+C16bDwauCrwF50vc73Ai6V9J3SvJTqb/+86qrPHuMnbcF/X+q+lyL47+etwe/Mv1NsCd4dEYOBT1K8GG1q+ffF6Wm6jwEPRMTyNHwFxYsNQDqvsAfFVh+KN972pfns2m6+PfnXyaUUW5+WiBia/gZHxLu6mPe9FOvyyNQ9BzicTdfnCmCYpEGl6fbkzefU2bzvpNgzmNV2PNyB5ykOb0aWhu1R6t5kfXay7C31Q+D3wD7pffAVNn0fbBQRr0XENyLiAOC9wPHAp+l+nS+l2O0fWvrbLiJ+W0H9m2VrCP5RFLtWy4D7gYnAzsBjNc5jEPAy8GdJuwP/0m78cxTnDLpyM8Uhx5nAz0rDrwc+LOloSf2BsyneGG0v9OPAx9MJt4kUAatERKykCNt3JA2WtI2KE5lty3gOGFk+gRURi4BXKT7E7o2IdandR0jBj4ilqf5vpZNcBwKTKbZ63dX0beAXFOFv6WD868BNwAWStpe0P0Wg2vwvsK+kj0vaVtI/UJwHuG0zVk1nBgHrgJfTcj/fWUNJR0l6dzppt47i8OSNGtb5j4DzJb0rzWeIpI9VUPtm69PBj4g/UIT2/tS/juKE1G/Sm6gW36AI7Z8pTjzd1G78t4CvpbO353RSx6vAjRTHwjeVhj9FEaL/AlqBE4ATIuJvqcmZadha4BMUHyBV+jQwAFhAcfhyAzAijbsbeBJYJam1NM29wAsp4G39Ah4ttTmN4ph5BcXJrH+LiF/XUlBEfJPief5a0rAOmnwRGEKxS34VcA3FhyUR8QLF1vVs4AWKk6XHR0RrB/PZXOcAH6c4X/Nj4Lou2u5KsS7XUZwEvDfVCl2s84iYQXGy9tr0jcd8ikPDhms7+2s9JOnrwL4R8clm17I1kXQxsGtETGp2LVuTPr3F7y3SlmsyxTcL1gOS9pd0oAqHUKzXGc2ua2vj4PdQunhlKXB7RNzX7Hq2AoMoDpdeodjd/g4ws6kVbYW8q2+WoR5t8SVNlPRUumxzalVFmVl9bfEWP32V8QeKy1GXAQ9TXJyxoItpvHthVmcR0eH1B2U92eIfQnG56NPp66lrKa5FNrNerifB351NL6dcRgeXokqaImmupLk9WJaZVaju1+pHxDTS11x9fVf/hBM2/vctu+222xbN47LLLut03BlnnLHZ81uxYsUm/bfeuvE/lbdofu11VW/V+lq97XX1/mhmXR3pyRZ/OZteRz2Saq6ZNrM660nwHwb2UXEDhwEU/xp7SzVlmVk9bfGufkRskPRF4A6K/6P+SUQ8WVllZlY3Db2Ap68f499+++0bu4844oiN3TvssMMm7caPH7+x+4477thkXPu2Za+88srG7g9+8IMbu+fMmdNpu/vu2/RiweOOO67Ddu2V6yg/L+j6udVT+3rLz638vHqrzt4f0Nj1WO+v88ysj3LwzTLU12+9ZVuRwYMHdzquX7+NN6pl3bp1nbZr5C51X+YtvlmGHHyzDDn4ZhnyMf5meOyxN+/fuWHDho3d5ctk27v77rtrnn+57Xnnnddhd/t28+bN26Jll2suP5fupqunm2+u7ZaDzaqvO529P3ojb/HNMuTgm2WooVfujR07NtpfhWZm1Rk/fjyPPvqor9wzs7dy8M0y5OCbZcjBN8uQg2+WIQffLEMOvlmGHHyzDDn4Zhly8M0y5OCbZcjBN8uQg2+WIQffLEMOvlmGug2+pJ9IWi1pfmnYMEl3SVqUHneqb5lmVqVa7rl3JfB94GelYVOBWRFxkaSpqf+8DqbdIr43utlbdfWTaJur2y1+RNwHvNhu8EnA9NQ9HTi5sorMrO629Bh/eESsTN2rgOGdNZQ0RdJcSXNbW1u3cHFmVqUen9yL4qZ9nd64LyKmRcS4iBjX0tLS08WZWQW2NPjPSRoBkB5XV1eSmdXblgb/FmBS6p4EzKymHDNrhFq+zrsGeADYT9IySZOBi4BjJS0Cjkn9ZtZHdPt1XkSc1smooyuuxcwaxFfumWXIwTfLkINvliEH3yxDDr5Zhhx8sww5+GYZcvDNMuTgm2XIwTfLkINvliEH3yxDDr5Zhhx8sww5+GYZcvDNMlTLffUbbsaMGc0uwWyr5i2+WYYcfLMM9cpd/SFDhjS7BLOtmrf4Zhly8M0y5OCbZahXHuOPHj262SWYbdW8xTfLUC0/obWHpHskLZD0pKQz0/Bhku6StCg97lT/cs2sCrVs8TcAZ0fEAcChwBckHQBMBWZFxD7ArNRvZn1At8GPiJUR8WjqfglYCOwOnARMT82mAyfXq0gzq9ZmHeNLGgUcDDwIDI+IlWnUKmB4J9NMkTRX0tzW1tYelGpmVak5+JJ2BG4EzoqIdeVxERFAdDRdREyLiHERMa6lpaVHxZpZNWr6Ok9Sf4rQ/zwibkqDn5M0IiJWShoBrK6qqG228ZcNZvVUy1l9AVcACyPiu6VRtwCTUvckYGb15ZlZPdSyxT8c+BQwT9LjadhXgIuA6yVNBp4BTqlPiWZWtW6DHxFzAHUy+uhqyzGzRvDBtFmGHHyzDPXKf9LZc889m12CWa+zfv36yublLb5Zhhx8sww5+GYZcvDNMuTgm2XIwTfLUK/8Om/BggXNLsGs1xk1alRl8/IW3yxDDr5Zhhx8swz1ymP8Z599ttklmPU6PsY3sx5x8M0y1Ct39RctWtTsEsx6nSOOOKKyeXmLb5YhB98sQ71yV/9LX/pSs0sw63UmT55c2by8xTfLkINvliEH3yxDDr5Zhhx8swzV8tt5AyU9JOkJSU9K+kYaPlrSg5IWS7pO0oD6l2tmVahli/9XYEJEHASMASZKOhS4GLgkIvYG1gDVfddgZnXVbfCj8HLq7Z/+ApgA3JCGTwdOrkuFZla5mo7xJfVLv5S7GrgL+COwNiI2pCbLgN07mXaKpLmS5ra2tlZRs5n1UE3Bj4jXI2IMMBI4BNi/1gVExLSIGBcR41paWrawTDOr0mad1Y+ItcA9wGHAUEltl/yOBJZXXJuZ1UktZ/V3kTQ0dW8HHAsspPgA+GhqNgmYWa8izaxatfyTzghguqR+FB8U10fEbZIWANdKuhB4DLiijnWaWYW6DX5E/A44uIPhT1Mc75tZH+Mr98wy5OCbZcjBN8uQg2+WIQffLEMOvlmGHHyzDDn4Zhly8M0y5OCbZcjBN8uQg2+WIQffLEMOvlmGHHyzDDn4Zhly8M0y5OCbZcjBN8uQg2+WIQffLEMOvlmGHHyzDDn4Zhly8M0yVHPw009lPybpttQ/WtKDkhZLuk7SgPqVaWZV2pwt/pkUP5bZ5mLgkojYG1gDTK6yMDOrn5qCL2kk8GHg8tQvYAJwQ2oyHTi5HgWaWfVq3eJ/DzgXeCP17wysjYgNqX8ZsHtHE0qaImmupLmtra09KtbMqtFt8CUdD6yOiEe2ZAERMS0ixkXEuJaWli2ZhZlVrNufyQYOB06U9CFgIDAYuBQYKmnbtNUfCSyvX5lmVqVut/gRcX5EjIyIUcCpwN0R8QngHuCjqdkkYGbdqjSzSvXke/zzgC9LWkxxzH9FNSWZWb3Vsqu/UUTMBman7qeBQ6ovyczqzVfumWXIwTfLkINvliEH3yxDDr5Zhhx8sww5+GYZcvDNMuTgm2XIwTfLkINvliEH3yxDDr5Zhhx8sww5+GYZcvDNMuTgm2XIwTfLkINvliEH3yxDDr5Zhhx8sww5+GYZcvDNMuTgm2Wopl/SkbQEeAl4HdgQEeMkDQOuA0YBS4BTImJNfco0syptzhb/qIgYExHjUv9UYFZE7APMSv1m1gf0ZFf/JGB66p4OnNzzcsysEWoNfgB3SnpE0pQ0bHhErEzdq4DhHU0oaYqkuZLmtra29rBcM6tCrb+WOz4ilkt6O3CXpN+XR0ZESIqOJoyIacA0gLFjx3bYxswaq6YtfkQsT4+rgRkUP4/9nKQRAOlxdb2KNLNqdRt8STtIGtTWDXwAmA/cAkxKzSYBM+tVpJlVq5Zd/eHADElt7X8REb+S9DBwvaTJwDPAKfUr08yq1G3wI+Jp4KAOhr8AHF2PosysvnzlnlmGHHyzDDn4Zhly8M0y5OCbZcjBN8uQg2+WIQffLEMOvlmGHHyzDDn4Zhly8M0y5OCbZcjBN8uQg2+WIQffLEO13myzEhHBa6+91shFWi83cODAjd277rpr5fNfsmRJ5fNslvXr13fb5o033qhpXt7im2XIwTfLkINvlqGGHuNv2LCB559/vpGLtF5uv/3229h9ySWXVD7/CRMmVD7PZpk3b163bV599dWa5uUtvlmGHHyzDDV0V9+svSeeeGJj99a0W14P55xzTrdtli1bVtO8vMU3y1BNwZc0VNINkn4vaaGkwyQNk3SXpEXpcad6F2tm1VBE979cLWk6cH9EXC5pALA98BXgxYi4SNJUYKeIOK+b+fhnss3qLCLUXZtugy9pCPA48I4oNZb0FHBkRKxMP5M9OyL262w+aRoH36zOagl+Lbv6o4HngZ9KekzS5ennsodHxMrUZhXFr+q+haQpkuZKmltr4WZWX7Vs8ccB/wccHhEPSroUWAf8c0QMLbVbExFdHud7i29Wf1Vt8ZcByyLiwdR/AzAWeC7t4pMeV29poWbWWN0GPyJWAUsltR2/Hw0sAG4BJqVhk4CZdanQzCpX61n9McDlwADgaeAzFB8a1wN7As8Ap0TEi93Mx7v6ZnVWyVn9Kjn4ZvVX1TG+mW1lHHyzDDn4Zhly8M0y5OCbZcjBN8tQo2/E0UrxnX9L6m6m3lADuI72XMemNreOvWpp1NDv8TcuVJobEeMavuBeVoPrcB3NqsO7+mYZcvDNMtSs4E9r0nLLekMN4Dracx2bqksdTTnGN7Pm8q6+WYYcfLMMNTT4kiZKekrS4nRn3kYt9yeSVkuaXxrW8NuDS9pD0j2SFkh6UtKZzahF0kBJD0l6ItXxjTR8tKQH0+tzXbqjct1J6pfu53hbs+qQtETSPEmPt90fsknvkYbcyr5hwZfUD/gBcBxwAHCapAMatPgrgYnthk0FZkXEPsCs1F9vG4CzI+IA4FDgC2kdNLqWvwITIuIgYAwwUdKhwMXAJRGxN7AGmFznOtqcCSws9TerjqMiYkzpe/NmvEcuBX4VEfsDB1Gsl+rriIiG/AGHAXeU+s8Hzm/g8kcB80v9TwEjUvcI4KlG1VKqYSZwbDNrofiNhEeBv6e4Qmzbjl6vOi5/ZHozTwBuA9SkOpYALe2GNfR1AYYAfyKddK9nHY3c1d8dWFrqX5aGNUtNtwevF0mjgIOBB5tRS9q9fpziJql3AX8E1kbEhtSkUa/P94BzgTdS/85NqiOAOyU9ImlKGtbo16VHt7LfHD65B0TxUdqw7zUl7QjcCJwVEeuaUUtEvB4RYyi2uIcA+9d7me1JOh5YHRGPNHrZHRgfEWMpDkW/IOmI8sgGvS7bUtzB+ocRcTDwCu1266uqo5HBXw7sUeofmYY1S1NuDy6pP0Xofx4RNzWzFoCIWAvcQ7FLPVRS2z9uNeL1ORw4UdIS4FqK3f1Lm1AHEbE8Pa4GZlB8GDb6dWnYrewbGfyHgX3SGdsBwKkUt+hulobfHlySgCuAhRHx3WbVImkXSUNT93YU5xkWUnwAfLRRdUTE+RExMiJGUbwf7o6ITzS6Dkk7SBrU1g18AJhPg1+XaOSt7Ot90qTdSYoPAX+gOJ78agOXew2wEniN4lN1MsWx5CxgEfBrYFgD6hhPsZv2O4rfI3w8rZOG1gIcCDyW6pgPfD0NfwfwELAY+CXwtga+RkcCtzWjjrS8J9Lfk23vzSa9R8YAc9NrczOwUz3q8CW7ZhnyyT2zDDn4Zhly8M0y5OCbZcjBN8uQg2+WIQffLEP/D9iyWZrj+CoFAAAAAElFTkSuQmCC\n",
      "text/plain": [
       "<Figure size 432x288 with 1 Axes>"
      ]
     },
     "metadata": {},
     "output_type": "display_data"
    }
   ],
   "source": [
    "import gym\n",
    "# spawn game instance for tests\n",
    "env = gym.make(\"BreakoutDeterministic-v4\")  # create raw env\n",
    "print('orgin shape:{}'.format(env.observation_space.shape))\n",
    "print('orgin action space:{}'.format(env.action_space))\n",
    "obs = env.reset()\n",
    "plt.title(\"what your network gonna origin see ? \")\n",
    "plt.imshow(obs, interpolation='none')\n",
    "\n",
    "# 增加图像处理\n",
    "\n",
    "env = PreprocessAtari(env)\n",
    "obs = env.reset()\n",
    "\n",
    "observation_shape = env.observation_space.shape\n",
    "n_actions = env.action_space.n\n",
<<<<<<< HEAD
    "print('after preprocess s ndim={} '.format(obs.ndim))\n",
    "print('and s shape = {}'.format(obs.shape))\n",
    "print('s element max value = {}, min value = {}'.format(np.max(obs),np.min(obs)))\n",
=======
    "print(obs.ndim)\n",
    "print(obs.shape)\n",
    "print(np.max(obs))\n",
    "print(np.min(obs))\n",
>>>>>>> 87a73886a358aa4bc0dae10efa7c7aabca3a70ac
    "\n",
    "# test observation\n",
    "assert obs.ndim == 3, \"observation must be [batch, time, channels] even if there's just one channel\"\n",
    "assert obs.shape == observation_shape\n",
    "assert obs.dtype == 'float32'\n",
    "assert len(np.unique(obs)) > 2, \"your image must not be binary\"\n",
    "assert 0 <= np.min(obs) and np.max(obs) <= 1, \"convert image pixels to (0,1) range\"\n",
    "\n",
    "print(\"Formal tests seem fine. Here's an example of what you'll get.\")\n",
    "\n",
    "plt.title(\"what your network gonna see\")\n",
    "plt.imshow(np.squeeze(obs), interpolation='none', cmap='gray')\n"
   ]
  },
  {
   "cell_type": "markdown",
   "metadata": {},
   "source": [
    "### Frame buffer\n",
    "\n",
    "Our agent can only process one observation at a time, so we gotta make sure it contains enough information to fing optimal actions. For instance, agent has to react to moving objects so he must be able to measure object's velocity.\n",
    "\n",
    "To do so, we introduce a buffer that stores 4 last images. This time everything is pre-implemented for you."
   ]
  },
  {
   "cell_type": "code",
   "execution_count": 5,
   "metadata": {
    "scrolled": false
   },
   "outputs": [
    {
     "name": "stdout",
     "output_type": "stream",
     "text": [
      "entry_point is :gym.envs.atari:AtariEnv\n",
      "\u001b[33mWARN: gym.spaces.Box autodetected dtype as <class 'numpy.float32'>. Please provide explicit dtype.\u001b[0m\n",
      "state shape = (64, 64, 4)\n",
      "n_action = 4\n"
     ]
    },
    {
     "name": "stderr",
     "output_type": "stream",
     "text": [
      "/home/jim/.local/lib/python3.6/site-packages/gym/envs/registration.py:14: PkgResourcesDeprecationWarning: Parameters to load are deprecated.  Call .resolve and .require separately.\n",
      "  result = entry_point.load(require = False)\n"
     ]
    }
   ],
   "source": [
    "from framebuffer import FrameBuffer\n",
    "\n",
<<<<<<< HEAD
=======
    "\n",
>>>>>>> 87a73886a358aa4bc0dae10efa7c7aabca3a70ac
    "def make_env():\n",
    "    env = gym.make(\"BreakoutDeterministic-v4\")\n",
    "    env = PreprocessAtari(env)\n",
    "    env = FrameBuffer(env, n_frames=4, dim_order='tensorflow')\n",
    "    return env\n",
    "\n",
    "\n",
    "env = make_env()\n",
    "env.reset()\n",
    "n_actions = env.action_space.n\n",
    "state_dim = env.observation_space.shape\n",
    "print('state shape = {}'.format(state_dim))\n",
    "print('n_action = {}'.format(n_actions))"
   ]
  },
  {
   "cell_type": "code",
   "execution_count": 6,
   "metadata": {},
   "outputs": [
    {
     "data": {
      "image/png": "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\n",
      "text/plain": [
       "<Figure size 432x288 with 1 Axes>"
      ]
     },
     "metadata": {},
     "output_type": "display_data"
    },
    {
<<<<<<< HEAD
     "name": "stdout",
     "output_type": "stream",
     "text": [
      "(64, 64, 4)\n"
     ]
    },
    {
     "data": {
      "text/plain": [
       "<matplotlib.image.AxesImage at 0x7f3260520400>"
=======
     "data": {
      "text/plain": [
       "<matplotlib.image.AxesImage at 0x7f40084f81d0>"
>>>>>>> 87a73886a358aa4bc0dae10efa7c7aabca3a70ac
      ]
     },
     "execution_count": 6,
     "metadata": {},
     "output_type": "execute_result"
    },
    {
     "data": {
      "image/png": "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\n",
      "text/plain": [
       "<Figure size 432x288 with 1 Axes>"
      ]
     },
     "metadata": {},
     "output_type": "display_data"
    }
   ],
   "source": [
    "for _ in range(50):\n",
    "    obs, _, _, _ = env.step(env.action_space.sample())\n",
    "\n",
    "\n",
    "plt.title(\"Game image\")\n",
    "plt.imshow(env.render(\"rgb_array\"))\n",
    "plt.show()\n",
    "plt.title(\"Agent observation (4 frames left to right)\")\n",
<<<<<<< HEAD
    "print(obs.shape)\n",
=======
>>>>>>> 87a73886a358aa4bc0dae10efa7c7aabca3a70ac
    "plt.imshow(obs.transpose([0, 2, 1]).reshape([state_dim[0], -1]))"
   ]
  },
  {
   "cell_type": "markdown",
   "metadata": {},
   "source": [
    "### Building a network\n",
    "\n",
    "We now need to build a neural network that can map images to state q-values. This network will be called on every agent's step so it better not be resnet-152 unless you have an array of GPUs. Instead, you can use strided convolutions with a small number of features to save time and memory.\n",
    "\n",
    "You can build any architecture you want, but for reference, here's something that will more or less work:"
   ]
  },
  {
   "cell_type": "markdown",
   "metadata": {},
   "source": [
    "![img](https://github.com/yandexdataschool/Practical_RL/raw/master/yet_another_week/_resource/dqn_arch.png)"
   ]
  },
  {
   "cell_type": "code",
   "execution_count": 7,
   "metadata": {},
   "outputs": [
    {
     "name": "stdout",
     "output_type": "stream",
     "text": [
<<<<<<< HEAD
      "2.1.0\n",
=======
      "2.0.0-beta1\n",
>>>>>>> 87a73886a358aa4bc0dae10efa7c7aabca3a70ac
      "Object `assert` not found.\n"
     ]
    }
   ],
   "source": [
    "import tensorflow as tf\n",
    "print(tf.__version__)\n",
    "assert?\n",
    "from tensorflow.keras.layers import Conv2D, Dense, Flatten"
   ]
  },
  {
   "cell_type": "code",
<<<<<<< HEAD
   "execution_count": 8,
=======
   "execution_count": 37,
>>>>>>> 87a73886a358aa4bc0dae10efa7c7aabca3a70ac
   "metadata": {},
   "outputs": [],
   "source": [
    "class DQNAgent:\n",
    "    def __init__(self, name, state_shape, n_actions, epsilon=0, reuse=False):\n",
    "        \"\"\"A simple DQN agent\"\"\"\n",
<<<<<<< HEAD
    "        # call define nn\n",
    "        self.model = self.define_nn()\n",
    "        # prepare a graph for agent step\n",
    "        self.state_t =  tf.zeros(shape = state_shape)# 自己见一个模拟图像\n",
=======
    "        self.state_t =  tf.zeros(shape = state_shape)# 自己见一个模拟图像\n",
    "        # call define nn\n",
    "        self.model = self.define_nn()\n",
    "        # prepare a graph for agent step\n",
>>>>>>> 87a73886a358aa4bc0dae10efa7c7aabca3a70ac
    "        self.qvalues_t = self.get_symbolic_qvalues(self.state_t)\n",
    "        self.weights = self.model.get_weights()\n",
    "        self.epsilon = epsilon\n",
    "    \n",
    "    def define_nn(self):    \n",
    "        '''\n",
    "        < Define your network body here. Please make sure you don't use any layers created elsewhere >\n",
    "        '''\n",
<<<<<<< HEAD
    "        inputs = tf.keras.Input(shape = [64,64,1], name = 'game_img')\n",
=======
    "        inputs = tf.keras.Input(shape = self.state_t.shape, name = 'game_img')\n",
>>>>>>> 87a73886a358aa4bc0dae10efa7c7aabca3a70ac
    "        x = Conv2D(filters = 16, kernel_size = (3,3), strides = (2, 2), activation = 'relu')(inputs)\n",
    "        x = Conv2D(filters = 32, kernel_size = (3,3), strides = (2, 2), activation = 'relu')(x)\n",
    "        x = Conv2D(filters = 64, kernel_size = (3,3), strides = (2, 2), activation = 'relu')(x)\n",
    "        x = Flatten()(x)\n",
    "        x = Dense(units = 256, activation = 'relu')(x)\n",
    "        outputs = Dense(units = 4 , activation = 'softmax')(x)\n",
    "        model = tf.keras.Model(inputs = inputs, outputs = outputs, name = 'nn')\n",
    "        model.summary()\n",
    "        #tf.keras.utils.plot_model(model, 'nn.png', show_shapes = True)\n",
    "        base_learning_rate = 0.001\n",
    "        model.compile(optimizer=tf.keras.optimizers.RMSprop(lr=base_learning_rate),\n",
    "                           loss='sparse_categorical_crossentropy',\n",
    "                           metrics=['sparse_categorical_accuracy'])\n",
    "        return model\n",
    "    \n",
    "    def get_symbolic_qvalues(self, state_t):\n",
    "        \"\"\"takes agent's observation, returns qvalues. Both are tf Tensors\"\"\"\n",
    "        #< apply your network layers here >\n",
    "        #qvalues = < symbolic tensor for q-values >\n",
    "        qvalues = self.model.predict(x = state_t)\n",
<<<<<<< HEAD
    "        print('in get_symbolic_qvalues qvalues shape = {}'.format(qvalues.shape))\n",
=======
    "        print(type(qvalues))\n",
>>>>>>> 87a73886a358aa4bc0dae10efa7c7aabca3a70ac
    "        #\n",
    "        assert qvalues.ndim == 2, 'please return 2d tf tensor of qvalues you got {}'.format(qvalues)\n",
    "        assert int(qvalues.shape[1]) == n_actions,'qvalues.shape = {}'.format(qvalues.shape)\n",
    "        #\n",
    "        return qvalues\n",
    "    \n",
    "    \n",
    "    def get_qvalues(self, state_t):\n",
    "        \"\"\"Same as symbolic step except it operates on numpy arrays\"\"\"\n",
<<<<<<< HEAD
    "        print('qvalue_t shape = :{}'.format(self.qvalues_t.shape))\n",
    "        print('state_t shape = :{}'.format(state_t.shape))\n",
    "        return self.get_symbolic_qvalues(state_t)\n",
=======
    "        pass\n",
    "        return self.model.evaluate(self.qvalues_t, {self.state_t: state_t})\n",
>>>>>>> 87a73886a358aa4bc0dae10efa7c7aabca3a70ac
    "\n",
    "    def sample_actions(self, qvalues):\n",
    "        \"\"\"pick actions given qvalues. Uses epsilon-greedy exploration strategy. \"\"\"\n",
    "        epsilon = self.epsilon\n",
    "        batch_size, n_actions = qvalues.shape\n",
    "        random_actions = np.random.choice(n_actions, size=batch_size)\n",
    "        best_actions = qvalues.argmax(axis=-1)\n",
    "        should_explore = np.random.choice(\n",
    "            [0, 1], batch_size, p=[1-epsilon, epsilon])\n",
    "        return np.where(should_explore, random_actions, best_actions)"
   ]
  },
  {
   "cell_type": "code",
<<<<<<< HEAD
   "execution_count": 9,
=======
   "execution_count": 38,
>>>>>>> 87a73886a358aa4bc0dae10efa7c7aabca3a70ac
   "metadata": {},
   "outputs": [
    {
     "name": "stdout",
     "output_type": "stream",
     "text": [
      "Model: \"nn\"\n",
      "_________________________________________________________________\n",
      "Layer (type)                 Output Shape              Param #   \n",
      "=================================================================\n",
<<<<<<< HEAD
      "game_img (InputLayer)        [(None, 64, 64, 1)]       0         \n",
      "_________________________________________________________________\n",
      "conv2d (Conv2D)              (None, 31, 31, 16)        160       \n",
      "_________________________________________________________________\n",
      "conv2d_1 (Conv2D)            (None, 15, 15, 32)        4640      \n",
      "_________________________________________________________________\n",
      "conv2d_2 (Conv2D)            (None, 7, 7, 64)          18496     \n",
      "_________________________________________________________________\n",
      "flatten (Flatten)            (None, 3136)              0         \n",
      "_________________________________________________________________\n",
      "dense (Dense)                (None, 256)               803072    \n",
      "_________________________________________________________________\n",
      "dense_1 (Dense)              (None, 4)                 1028      \n",
      "=================================================================\n",
      "Total params: 827,396\n",
      "Trainable params: 827,396\n",
      "Non-trainable params: 0\n",
      "_________________________________________________________________\n",
      "in get_symbolic_qvalues qvalues shape = (4, 4)\n"
=======
      "game_img (InputLayer)        [(None, 64, 64, 4)]       0         \n",
      "_________________________________________________________________\n",
      "conv2d_6 (Conv2D)            (None, 31, 31, 16)        592       \n",
      "_________________________________________________________________\n",
      "conv2d_7 (Conv2D)            (None, 15, 15, 32)        4640      \n",
      "_________________________________________________________________\n",
      "conv2d_8 (Conv2D)            (None, 7, 7, 64)          18496     \n",
      "_________________________________________________________________\n",
      "flatten_2 (Flatten)          (None, 3136)              0         \n",
      "_________________________________________________________________\n",
      "dense_4 (Dense)              (None, 256)               803072    \n",
      "_________________________________________________________________\n",
      "dense_5 (Dense)              (None, 4)                 1028      \n",
      "=================================================================\n",
      "Total params: 827,828\n",
      "Trainable params: 827,828\n",
      "Non-trainable params: 0\n",
      "_________________________________________________________________\n"
     ]
    },
    {
     "ename": "ValueError",
     "evalue": "Error when checking input: expected game_img to have 4 dimensions, but got array with shape (64, 64, 4)",
     "output_type": "error",
     "traceback": [
      "\u001b[0;31m---------------------------------------------------------------------------\u001b[0m",
      "\u001b[0;31mValueError\u001b[0m                                Traceback (most recent call last)",
      "\u001b[0;32m<ipython-input-38-a7aa5e9ef1b1>\u001b[0m in \u001b[0;36m<module>\u001b[0;34m()\u001b[0m\n\u001b[1;32m      1\u001b[0m \u001b[0;31m#?tf.keras.Model.predict\u001b[0m\u001b[0;34m\u001b[0m\u001b[0;34m\u001b[0m\u001b[0;34m\u001b[0m\u001b[0m\n\u001b[0;32m----> 2\u001b[0;31m \u001b[0magent\u001b[0m \u001b[0;34m=\u001b[0m \u001b[0mDQNAgent\u001b[0m\u001b[0;34m(\u001b[0m\u001b[0;34m\"dqn_agent\"\u001b[0m\u001b[0;34m,\u001b[0m \u001b[0mstate_dim\u001b[0m\u001b[0;34m,\u001b[0m \u001b[0mn_actions\u001b[0m\u001b[0;34m,\u001b[0m \u001b[0mepsilon\u001b[0m\u001b[0;34m=\u001b[0m\u001b[0;36m0.5\u001b[0m\u001b[0;34m)\u001b[0m\u001b[0;34m\u001b[0m\u001b[0;34m\u001b[0m\u001b[0m\n\u001b[0m",
      "\u001b[0;32m<ipython-input-37-2ea45966877d>\u001b[0m in \u001b[0;36m__init__\u001b[0;34m(self, name, state_shape, n_actions, epsilon, reuse)\u001b[0m\n\u001b[1;32m      6\u001b[0m         \u001b[0mself\u001b[0m\u001b[0;34m.\u001b[0m\u001b[0mmodel\u001b[0m \u001b[0;34m=\u001b[0m \u001b[0mself\u001b[0m\u001b[0;34m.\u001b[0m\u001b[0mdefine_nn\u001b[0m\u001b[0;34m(\u001b[0m\u001b[0;34m)\u001b[0m\u001b[0;34m\u001b[0m\u001b[0;34m\u001b[0m\u001b[0m\n\u001b[1;32m      7\u001b[0m         \u001b[0;31m# prepare a graph for agent step\u001b[0m\u001b[0;34m\u001b[0m\u001b[0;34m\u001b[0m\u001b[0;34m\u001b[0m\u001b[0m\n\u001b[0;32m----> 8\u001b[0;31m         \u001b[0mself\u001b[0m\u001b[0;34m.\u001b[0m\u001b[0mqvalues_t\u001b[0m \u001b[0;34m=\u001b[0m \u001b[0mself\u001b[0m\u001b[0;34m.\u001b[0m\u001b[0mget_symbolic_qvalues\u001b[0m\u001b[0;34m(\u001b[0m\u001b[0mself\u001b[0m\u001b[0;34m.\u001b[0m\u001b[0mstate_t\u001b[0m\u001b[0;34m)\u001b[0m\u001b[0;34m\u001b[0m\u001b[0;34m\u001b[0m\u001b[0m\n\u001b[0m\u001b[1;32m      9\u001b[0m         \u001b[0mself\u001b[0m\u001b[0;34m.\u001b[0m\u001b[0mweights\u001b[0m \u001b[0;34m=\u001b[0m \u001b[0mself\u001b[0m\u001b[0;34m.\u001b[0m\u001b[0mmodel\u001b[0m\u001b[0;34m.\u001b[0m\u001b[0mget_weights\u001b[0m\u001b[0;34m(\u001b[0m\u001b[0;34m)\u001b[0m\u001b[0;34m\u001b[0m\u001b[0;34m\u001b[0m\u001b[0m\n\u001b[1;32m     10\u001b[0m         \u001b[0mself\u001b[0m\u001b[0;34m.\u001b[0m\u001b[0mepsilon\u001b[0m \u001b[0;34m=\u001b[0m \u001b[0mepsilon\u001b[0m\u001b[0;34m\u001b[0m\u001b[0;34m\u001b[0m\u001b[0m\n",
      "\u001b[0;32m<ipython-input-37-2ea45966877d>\u001b[0m in \u001b[0;36mget_symbolic_qvalues\u001b[0;34m(self, state_t)\u001b[0m\n\u001b[1;32m     34\u001b[0m         \u001b[0;31m#< apply your network layers here >\u001b[0m\u001b[0;34m\u001b[0m\u001b[0;34m\u001b[0m\u001b[0;34m\u001b[0m\u001b[0m\n\u001b[1;32m     35\u001b[0m         \u001b[0;31m#qvalues = < symbolic tensor for q-values >\u001b[0m\u001b[0;34m\u001b[0m\u001b[0;34m\u001b[0m\u001b[0;34m\u001b[0m\u001b[0m\n\u001b[0;32m---> 36\u001b[0;31m         \u001b[0mqvalues\u001b[0m \u001b[0;34m=\u001b[0m \u001b[0mself\u001b[0m\u001b[0;34m.\u001b[0m\u001b[0mmodel\u001b[0m\u001b[0;34m.\u001b[0m\u001b[0mpredict\u001b[0m\u001b[0;34m(\u001b[0m\u001b[0mx\u001b[0m \u001b[0;34m=\u001b[0m \u001b[0mstate_t\u001b[0m\u001b[0;34m)\u001b[0m\u001b[0;34m\u001b[0m\u001b[0;34m\u001b[0m\u001b[0m\n\u001b[0m\u001b[1;32m     37\u001b[0m         \u001b[0mprint\u001b[0m\u001b[0;34m(\u001b[0m\u001b[0mtype\u001b[0m\u001b[0;34m(\u001b[0m\u001b[0mqvalues\u001b[0m\u001b[0;34m)\u001b[0m\u001b[0;34m)\u001b[0m\u001b[0;34m\u001b[0m\u001b[0;34m\u001b[0m\u001b[0m\n\u001b[1;32m     38\u001b[0m         \u001b[0;31m#\u001b[0m\u001b[0;34m\u001b[0m\u001b[0;34m\u001b[0m\u001b[0;34m\u001b[0m\u001b[0m\n",
      "\u001b[0;32m/usr/local/lib/python3.6/dist-packages/tensorflow/python/keras/engine/training.py\u001b[0m in \u001b[0;36mpredict\u001b[0;34m(self, x, batch_size, verbose, steps, callbacks, max_queue_size, workers, use_multiprocessing)\u001b[0m\n\u001b[1;32m    819\u001b[0m         \u001b[0mmax_queue_size\u001b[0m\u001b[0;34m=\u001b[0m\u001b[0mmax_queue_size\u001b[0m\u001b[0;34m,\u001b[0m\u001b[0;34m\u001b[0m\u001b[0;34m\u001b[0m\u001b[0m\n\u001b[1;32m    820\u001b[0m         \u001b[0mworkers\u001b[0m\u001b[0;34m=\u001b[0m\u001b[0mworkers\u001b[0m\u001b[0;34m,\u001b[0m\u001b[0;34m\u001b[0m\u001b[0;34m\u001b[0m\u001b[0m\n\u001b[0;32m--> 821\u001b[0;31m         use_multiprocessing=use_multiprocessing)\n\u001b[0m\u001b[1;32m    822\u001b[0m \u001b[0;34m\u001b[0m\u001b[0m\n\u001b[1;32m    823\u001b[0m   \u001b[0;32mdef\u001b[0m \u001b[0mreset_metrics\u001b[0m\u001b[0;34m(\u001b[0m\u001b[0mself\u001b[0m\u001b[0;34m)\u001b[0m\u001b[0;34m:\u001b[0m\u001b[0;34m\u001b[0m\u001b[0;34m\u001b[0m\u001b[0m\n",
      "\u001b[0;32m/usr/local/lib/python3.6/dist-packages/tensorflow/python/keras/engine/training_arrays.py\u001b[0m in \u001b[0;36mpredict\u001b[0;34m(self, model, x, batch_size, verbose, steps, callbacks, **kwargs)\u001b[0m\n\u001b[1;32m    703\u001b[0m     \u001b[0mbatch_size\u001b[0m \u001b[0;34m=\u001b[0m \u001b[0mmodel\u001b[0m\u001b[0;34m.\u001b[0m\u001b[0m_validate_or_infer_batch_size\u001b[0m\u001b[0;34m(\u001b[0m\u001b[0mbatch_size\u001b[0m\u001b[0;34m,\u001b[0m \u001b[0msteps\u001b[0m\u001b[0;34m,\u001b[0m \u001b[0mx\u001b[0m\u001b[0;34m)\u001b[0m\u001b[0;34m\u001b[0m\u001b[0;34m\u001b[0m\u001b[0m\n\u001b[1;32m    704\u001b[0m     x, _, _ = model._standardize_user_data(\n\u001b[0;32m--> 705\u001b[0;31m         x, check_steps=True, steps_name='steps', steps=steps)\n\u001b[0m\u001b[1;32m    706\u001b[0m     return predict_loop(\n\u001b[1;32m    707\u001b[0m         \u001b[0mmodel\u001b[0m\u001b[0;34m,\u001b[0m\u001b[0;34m\u001b[0m\u001b[0;34m\u001b[0m\u001b[0m\n",
      "\u001b[0;32m/usr/local/lib/python3.6/dist-packages/tensorflow/python/keras/engine/training.py\u001b[0m in \u001b[0;36m_standardize_user_data\u001b[0;34m(self, x, y, sample_weight, class_weight, batch_size, check_steps, steps_name, steps, validation_split, shuffle, extract_tensors_from_dataset)\u001b[0m\n\u001b[1;32m   2426\u001b[0m           \u001b[0mfeed_input_shapes\u001b[0m\u001b[0;34m,\u001b[0m\u001b[0;34m\u001b[0m\u001b[0;34m\u001b[0m\u001b[0m\n\u001b[1;32m   2427\u001b[0m           \u001b[0mcheck_batch_axis\u001b[0m\u001b[0;34m=\u001b[0m\u001b[0;32mFalse\u001b[0m\u001b[0;34m,\u001b[0m  \u001b[0;31m# Don't enforce the batch size.\u001b[0m\u001b[0;34m\u001b[0m\u001b[0;34m\u001b[0m\u001b[0m\n\u001b[0;32m-> 2428\u001b[0;31m           exception_prefix='input')\n\u001b[0m\u001b[1;32m   2429\u001b[0m \u001b[0;34m\u001b[0m\u001b[0m\n\u001b[1;32m   2430\u001b[0m     \u001b[0;32mif\u001b[0m \u001b[0my\u001b[0m \u001b[0;32mis\u001b[0m \u001b[0;32mnot\u001b[0m \u001b[0;32mNone\u001b[0m\u001b[0;34m:\u001b[0m\u001b[0;34m\u001b[0m\u001b[0;34m\u001b[0m\u001b[0m\n",
      "\u001b[0;32m/usr/local/lib/python3.6/dist-packages/tensorflow/python/keras/engine/training_utils.py\u001b[0m in \u001b[0;36mstandardize_input_data\u001b[0;34m(data, names, shapes, check_batch_axis, exception_prefix)\u001b[0m\n\u001b[1;32m    510\u001b[0m                            \u001b[0;34m': expected '\u001b[0m \u001b[0;34m+\u001b[0m \u001b[0mnames\u001b[0m\u001b[0;34m[\u001b[0m\u001b[0mi\u001b[0m\u001b[0;34m]\u001b[0m \u001b[0;34m+\u001b[0m \u001b[0;34m' to have '\u001b[0m \u001b[0;34m+\u001b[0m\u001b[0;34m\u001b[0m\u001b[0;34m\u001b[0m\u001b[0m\n\u001b[1;32m    511\u001b[0m                            \u001b[0mstr\u001b[0m\u001b[0;34m(\u001b[0m\u001b[0mlen\u001b[0m\u001b[0;34m(\u001b[0m\u001b[0mshape\u001b[0m\u001b[0;34m)\u001b[0m\u001b[0;34m)\u001b[0m \u001b[0;34m+\u001b[0m \u001b[0;34m' dimensions, but got array '\u001b[0m\u001b[0;34m\u001b[0m\u001b[0;34m\u001b[0m\u001b[0m\n\u001b[0;32m--> 512\u001b[0;31m                            'with shape ' + str(data_shape))\n\u001b[0m\u001b[1;32m    513\u001b[0m         \u001b[0;32mif\u001b[0m \u001b[0;32mnot\u001b[0m \u001b[0mcheck_batch_axis\u001b[0m\u001b[0;34m:\u001b[0m\u001b[0;34m\u001b[0m\u001b[0;34m\u001b[0m\u001b[0m\n\u001b[1;32m    514\u001b[0m           \u001b[0mdata_shape\u001b[0m \u001b[0;34m=\u001b[0m \u001b[0mdata_shape\u001b[0m\u001b[0;34m[\u001b[0m\u001b[0;36m1\u001b[0m\u001b[0;34m:\u001b[0m\u001b[0;34m]\u001b[0m\u001b[0;34m\u001b[0m\u001b[0;34m\u001b[0m\u001b[0m\n",
      "\u001b[0;31mValueError\u001b[0m: Error when checking input: expected game_img to have 4 dimensions, but got array with shape (64, 64, 4)"
>>>>>>> 87a73886a358aa4bc0dae10efa7c7aabca3a70ac
     ]
    }
   ],
   "source": [
    "#?tf.keras.Model.predict\n",
<<<<<<< HEAD
    "agent = DQNAgent(\"dqn_agent\", [4,64,64,1], n_actions, epsilon=0.5)"
=======
    "agent = DQNAgent(\"dqn_agent\", state_dim, n_actions, epsilon=0.5)"
>>>>>>> 87a73886a358aa4bc0dae10efa7c7aabca3a70ac
   ]
  },
  {
   "cell_type": "markdown",
   "metadata": {},
   "source": [
    "Now let's try out our agent to see if it raises any errors."
   ]
  },
  {
   "cell_type": "code",
<<<<<<< HEAD
   "execution_count": 10,
=======
   "execution_count": 31,
>>>>>>> 87a73886a358aa4bc0dae10efa7c7aabca3a70ac
   "metadata": {},
   "outputs": [],
   "source": [
    "def evaluate(env, agent, n_games=1, greedy=False, t_max=10000):\n",
    "    \"\"\" Plays n_games full games. If greedy, picks actions as argmax(qvalues). Returns mean reward. \"\"\"\n",
    "    rewards = []\n",
    "    for _ in range(n_games):\n",
    "        s = env.reset()\n",
    "        print(type(s))\n",
    "        reward = 0\n",
    "        for _ in range(t_max):\n",
<<<<<<< HEAD
    "            s_temp = np.expand_dims(s,axis = 0).transpose([-1,1,2,0])\n",
    "            print(s_temp.shape)\n",
    "            qvalues = agent.get_qvalues(s_temp)\n",
    "            print('main q_v:{}'.format(qvalues.shape))\n",
=======
    "            s_temp = np.expand_dims(s,axis = 0)\n",
    "            print(s_temp.shape)\n",
    "            qvalues = agent.get_qvalues(s_temp)\n",
>>>>>>> 87a73886a358aa4bc0dae10efa7c7aabca3a70ac
    "            action = qvalues.argmax(\n",
    "                axis=-1)[0] if greedy else agent.sample_actions(qvalues)[0]\n",
    "            s, r, done, _ = env.step(action)\n",
    "            reward += r\n",
    "            if done:\n",
    "                break\n",
    "\n",
    "        rewards.append(reward)\n",
    "    return np.mean(rewards)"
   ]
  },
  {
   "cell_type": "code",
<<<<<<< HEAD
   "execution_count": 11,
=======
   "execution_count": 32,
>>>>>>> 87a73886a358aa4bc0dae10efa7c7aabca3a70ac
   "metadata": {},
   "outputs": [
    {
     "name": "stdout",
     "output_type": "stream",
     "text": [
      "<class 'numpy.ndarray'>\n",
<<<<<<< HEAD
      "(4, 64, 64, 1)\n",
      "qvalue_t shape = :(4, 4)\n",
      "state_t shape = :(4, 64, 64, 1)\n",
      "in get_symbolic_qvalues qvalues shape = (4, 4)\n",
      "main q_v:(4, 4)\n",
      "(4, 64, 64, 1)\n",
      "qvalue_t shape = :(4, 4)\n",
      "state_t shape = :(4, 64, 64, 1)\n",
      "in get_symbolic_qvalues qvalues shape = (4, 4)\n",
      "main q_v:(4, 4)\n",
      "(4, 64, 64, 1)\n",
      "qvalue_t shape = :(4, 4)\n",
      "state_t shape = :(4, 64, 64, 1)\n",
      "in get_symbolic_qvalues qvalues shape = (4, 4)\n",
      "main q_v:(4, 4)\n",
      "(4, 64, 64, 1)\n",
      "qvalue_t shape = :(4, 4)\n",
      "state_t shape = :(4, 64, 64, 1)\n",
      "in get_symbolic_qvalues qvalues shape = (4, 4)\n",
      "main q_v:(4, 4)\n",
      "(4, 64, 64, 1)\n",
      "qvalue_t shape = :(4, 4)\n",
      "state_t shape = :(4, 64, 64, 1)\n",
      "in get_symbolic_qvalues qvalues shape = (4, 4)\n",
      "main q_v:(4, 4)\n",
      "(4, 64, 64, 1)\n",
      "qvalue_t shape = :(4, 4)\n",
      "state_t shape = :(4, 64, 64, 1)\n",
      "in get_symbolic_qvalues qvalues shape = (4, 4)\n",
      "main q_v:(4, 4)\n",
      "(4, 64, 64, 1)\n",
      "qvalue_t shape = :(4, 4)\n",
      "state_t shape = :(4, 64, 64, 1)\n",
      "in get_symbolic_qvalues qvalues shape = (4, 4)\n",
      "main q_v:(4, 4)\n",
      "(4, 64, 64, 1)\n",
      "qvalue_t shape = :(4, 4)\n",
      "state_t shape = :(4, 64, 64, 1)\n",
      "in get_symbolic_qvalues qvalues shape = (4, 4)\n",
      "main q_v:(4, 4)\n",
      "(4, 64, 64, 1)\n",
      "qvalue_t shape = :(4, 4)\n",
      "state_t shape = :(4, 64, 64, 1)\n",
      "in get_symbolic_qvalues qvalues shape = (4, 4)\n",
      "main q_v:(4, 4)\n",
      "(4, 64, 64, 1)\n",
      "qvalue_t shape = :(4, 4)\n",
      "state_t shape = :(4, 64, 64, 1)\n",
      "in get_symbolic_qvalues qvalues shape = (4, 4)\n",
      "main q_v:(4, 4)\n",
      "(4, 64, 64, 1)\n",
      "qvalue_t shape = :(4, 4)\n",
      "state_t shape = :(4, 64, 64, 1)\n",
      "in get_symbolic_qvalues qvalues shape = (4, 4)\n",
      "main q_v:(4, 4)\n",
      "(4, 64, 64, 1)\n",
      "qvalue_t shape = :(4, 4)\n",
      "state_t shape = :(4, 64, 64, 1)\n",
      "in get_symbolic_qvalues qvalues shape = (4, 4)\n",
      "main q_v:(4, 4)\n",
      "(4, 64, 64, 1)\n",
      "qvalue_t shape = :(4, 4)\n",
      "state_t shape = :(4, 64, 64, 1)\n",
      "in get_symbolic_qvalues qvalues shape = (4, 4)\n",
      "main q_v:(4, 4)\n",
      "(4, 64, 64, 1)\n",
      "qvalue_t shape = :(4, 4)\n",
      "state_t shape = :(4, 64, 64, 1)\n",
      "in get_symbolic_qvalues qvalues shape = (4, 4)\n",
      "main q_v:(4, 4)\n",
      "(4, 64, 64, 1)\n",
      "qvalue_t shape = :(4, 4)\n",
      "state_t shape = :(4, 64, 64, 1)\n",
      "in get_symbolic_qvalues qvalues shape = (4, 4)\n",
      "main q_v:(4, 4)\n",
      "(4, 64, 64, 1)\n",
      "qvalue_t shape = :(4, 4)\n",
      "state_t shape = :(4, 64, 64, 1)\n",
      "in get_symbolic_qvalues qvalues shape = (4, 4)\n",
      "main q_v:(4, 4)\n",
      "(4, 64, 64, 1)\n",
      "qvalue_t shape = :(4, 4)\n",
      "state_t shape = :(4, 64, 64, 1)\n",
      "in get_symbolic_qvalues qvalues shape = (4, 4)\n",
      "main q_v:(4, 4)\n",
      "(4, 64, 64, 1)\n",
      "qvalue_t shape = :(4, 4)\n",
      "state_t shape = :(4, 64, 64, 1)\n",
      "in get_symbolic_qvalues qvalues shape = (4, 4)\n",
      "main q_v:(4, 4)\n",
      "(4, 64, 64, 1)\n",
      "qvalue_t shape = :(4, 4)\n",
      "state_t shape = :(4, 64, 64, 1)\n",
      "in get_symbolic_qvalues qvalues shape = (4, 4)\n",
      "main q_v:(4, 4)\n",
      "(4, 64, 64, 1)\n",
      "qvalue_t shape = :(4, 4)\n",
      "state_t shape = :(4, 64, 64, 1)\n",
      "in get_symbolic_qvalues qvalues shape = (4, 4)\n",
      "main q_v:(4, 4)\n",
      "(4, 64, 64, 1)\n",
      "qvalue_t shape = :(4, 4)\n",
      "state_t shape = :(4, 64, 64, 1)\n",
      "in get_symbolic_qvalues qvalues shape = (4, 4)\n",
      "main q_v:(4, 4)\n",
      "(4, 64, 64, 1)\n",
      "qvalue_t shape = :(4, 4)\n",
      "state_t shape = :(4, 64, 64, 1)\n",
      "in get_symbolic_qvalues qvalues shape = (4, 4)\n",
      "main q_v:(4, 4)\n",
      "(4, 64, 64, 1)\n",
      "qvalue_t shape = :(4, 4)\n",
      "state_t shape = :(4, 64, 64, 1)\n",
      "in get_symbolic_qvalues qvalues shape = (4, 4)\n",
      "main q_v:(4, 4)\n",
      "(4, 64, 64, 1)\n",
      "qvalue_t shape = :(4, 4)\n",
      "state_t shape = :(4, 64, 64, 1)\n",
      "in get_symbolic_qvalues qvalues shape = (4, 4)\n",
      "main q_v:(4, 4)\n",
      "(4, 64, 64, 1)\n",
      "qvalue_t shape = :(4, 4)\n",
      "state_t shape = :(4, 64, 64, 1)\n",
      "in get_symbolic_qvalues qvalues shape = (4, 4)\n",
      "main q_v:(4, 4)\n",
      "(4, 64, 64, 1)\n",
      "qvalue_t shape = :(4, 4)\n",
      "state_t shape = :(4, 64, 64, 1)\n",
      "in get_symbolic_qvalues qvalues shape = (4, 4)\n",
      "main q_v:(4, 4)\n",
      "(4, 64, 64, 1)\n",
      "qvalue_t shape = :(4, 4)\n",
      "state_t shape = :(4, 64, 64, 1)\n",
      "in get_symbolic_qvalues qvalues shape = (4, 4)\n",
      "main q_v:(4, 4)\n",
      "(4, 64, 64, 1)\n",
      "qvalue_t shape = :(4, 4)\n",
      "state_t shape = :(4, 64, 64, 1)\n",
      "in get_symbolic_qvalues qvalues shape = (4, 4)\n",
      "main q_v:(4, 4)\n",
      "(4, 64, 64, 1)\n",
      "qvalue_t shape = :(4, 4)\n",
      "state_t shape = :(4, 64, 64, 1)\n",
      "in get_symbolic_qvalues qvalues shape = (4, 4)\n",
      "main q_v:(4, 4)\n",
      "(4, 64, 64, 1)\n",
      "qvalue_t shape = :(4, 4)\n",
      "state_t shape = :(4, 64, 64, 1)\n",
      "in get_symbolic_qvalues qvalues shape = (4, 4)\n",
      "main q_v:(4, 4)\n",
      "(4, 64, 64, 1)\n",
      "qvalue_t shape = :(4, 4)\n",
      "state_t shape = :(4, 64, 64, 1)\n",
      "in get_symbolic_qvalues qvalues shape = (4, 4)\n",
      "main q_v:(4, 4)\n",
      "(4, 64, 64, 1)\n",
      "qvalue_t shape = :(4, 4)\n",
      "state_t shape = :(4, 64, 64, 1)\n",
      "in get_symbolic_qvalues qvalues shape = (4, 4)\n",
      "main q_v:(4, 4)\n",
      "(4, 64, 64, 1)\n",
      "qvalue_t shape = :(4, 4)\n",
      "state_t shape = :(4, 64, 64, 1)\n",
      "in get_symbolic_qvalues qvalues shape = (4, 4)\n",
      "main q_v:(4, 4)\n",
      "(4, 64, 64, 1)\n",
      "qvalue_t shape = :(4, 4)\n",
      "state_t shape = :(4, 64, 64, 1)\n",
      "in get_symbolic_qvalues qvalues shape = (4, 4)\n",
      "main q_v:(4, 4)\n",
      "(4, 64, 64, 1)\n",
      "qvalue_t shape = :(4, 4)\n",
      "state_t shape = :(4, 64, 64, 1)\n",
      "in get_symbolic_qvalues qvalues shape = (4, 4)\n",
      "main q_v:(4, 4)\n",
      "(4, 64, 64, 1)\n",
      "qvalue_t shape = :(4, 4)\n",
      "state_t shape = :(4, 64, 64, 1)\n",
      "in get_symbolic_qvalues qvalues shape = (4, 4)\n",
      "main q_v:(4, 4)\n",
      "(4, 64, 64, 1)\n",
      "qvalue_t shape = :(4, 4)\n",
      "state_t shape = :(4, 64, 64, 1)\n",
      "in get_symbolic_qvalues qvalues shape = (4, 4)\n",
      "main q_v:(4, 4)\n",
      "(4, 64, 64, 1)\n",
      "qvalue_t shape = :(4, 4)\n",
      "state_t shape = :(4, 64, 64, 1)\n",
      "in get_symbolic_qvalues qvalues shape = (4, 4)\n",
      "main q_v:(4, 4)\n",
      "(4, 64, 64, 1)\n",
      "qvalue_t shape = :(4, 4)\n",
      "state_t shape = :(4, 64, 64, 1)\n",
      "in get_symbolic_qvalues qvalues shape = (4, 4)\n",
      "main q_v:(4, 4)\n",
      "(4, 64, 64, 1)\n",
      "qvalue_t shape = :(4, 4)\n",
      "state_t shape = :(4, 64, 64, 1)\n",
      "in get_symbolic_qvalues qvalues shape = (4, 4)\n",
      "main q_v:(4, 4)\n",
      "(4, 64, 64, 1)\n",
      "qvalue_t shape = :(4, 4)\n",
      "state_t shape = :(4, 64, 64, 1)\n",
      "in get_symbolic_qvalues qvalues shape = (4, 4)\n",
      "main q_v:(4, 4)\n",
      "(4, 64, 64, 1)\n",
      "qvalue_t shape = :(4, 4)\n",
      "state_t shape = :(4, 64, 64, 1)\n",
      "in get_symbolic_qvalues qvalues shape = (4, 4)\n",
      "main q_v:(4, 4)\n",
      "(4, 64, 64, 1)\n",
      "qvalue_t shape = :(4, 4)\n",
      "state_t shape = :(4, 64, 64, 1)\n",
      "in get_symbolic_qvalues qvalues shape = (4, 4)\n",
      "main q_v:(4, 4)\n",
      "(4, 64, 64, 1)\n",
      "qvalue_t shape = :(4, 4)\n",
      "state_t shape = :(4, 64, 64, 1)\n",
      "in get_symbolic_qvalues qvalues shape = (4, 4)\n",
      "main q_v:(4, 4)\n",
      "(4, 64, 64, 1)\n",
      "qvalue_t shape = :(4, 4)\n",
      "state_t shape = :(4, 64, 64, 1)\n",
      "in get_symbolic_qvalues qvalues shape = (4, 4)\n",
      "main q_v:(4, 4)\n",
      "(4, 64, 64, 1)\n",
      "qvalue_t shape = :(4, 4)\n",
      "state_t shape = :(4, 64, 64, 1)\n",
      "in get_symbolic_qvalues qvalues shape = (4, 4)\n",
      "main q_v:(4, 4)\n",
      "(4, 64, 64, 1)\n",
      "qvalue_t shape = :(4, 4)\n",
      "state_t shape = :(4, 64, 64, 1)\n",
      "in get_symbolic_qvalues qvalues shape = (4, 4)\n",
      "main q_v:(4, 4)\n",
      "(4, 64, 64, 1)\n",
      "qvalue_t shape = :(4, 4)\n",
      "state_t shape = :(4, 64, 64, 1)\n",
      "in get_symbolic_qvalues qvalues shape = (4, 4)\n",
      "main q_v:(4, 4)\n",
      "(4, 64, 64, 1)\n",
      "qvalue_t shape = :(4, 4)\n",
      "state_t shape = :(4, 64, 64, 1)\n",
      "in get_symbolic_qvalues qvalues shape = (4, 4)\n",
      "main q_v:(4, 4)\n",
      "(4, 64, 64, 1)\n",
      "qvalue_t shape = :(4, 4)\n",
      "state_t shape = :(4, 64, 64, 1)\n",
      "in get_symbolic_qvalues qvalues shape = (4, 4)\n",
      "main q_v:(4, 4)\n",
      "(4, 64, 64, 1)\n",
      "qvalue_t shape = :(4, 4)\n",
      "state_t shape = :(4, 64, 64, 1)\n",
      "in get_symbolic_qvalues qvalues shape = (4, 4)\n",
      "main q_v:(4, 4)\n",
      "(4, 64, 64, 1)\n",
      "qvalue_t shape = :(4, 4)\n",
      "state_t shape = :(4, 64, 64, 1)\n",
      "in get_symbolic_qvalues qvalues shape = (4, 4)\n",
      "main q_v:(4, 4)\n",
      "(4, 64, 64, 1)\n",
      "qvalue_t shape = :(4, 4)\n",
      "state_t shape = :(4, 64, 64, 1)\n",
      "in get_symbolic_qvalues qvalues shape = (4, 4)\n",
      "main q_v:(4, 4)\n",
      "(4, 64, 64, 1)\n",
      "qvalue_t shape = :(4, 4)\n",
      "state_t shape = :(4, 64, 64, 1)\n",
      "in get_symbolic_qvalues qvalues shape = (4, 4)\n",
      "main q_v:(4, 4)\n",
      "(4, 64, 64, 1)\n",
      "qvalue_t shape = :(4, 4)\n",
      "state_t shape = :(4, 64, 64, 1)\n",
      "in get_symbolic_qvalues qvalues shape = (4, 4)\n",
      "main q_v:(4, 4)\n",
      "(4, 64, 64, 1)\n",
      "qvalue_t shape = :(4, 4)\n",
      "state_t shape = :(4, 64, 64, 1)\n",
      "in get_symbolic_qvalues qvalues shape = (4, 4)\n",
      "main q_v:(4, 4)\n",
      "(4, 64, 64, 1)\n",
      "qvalue_t shape = :(4, 4)\n",
      "state_t shape = :(4, 64, 64, 1)\n",
      "in get_symbolic_qvalues qvalues shape = (4, 4)\n",
      "main q_v:(4, 4)\n",
      "(4, 64, 64, 1)\n",
      "qvalue_t shape = :(4, 4)\n",
      "state_t shape = :(4, 64, 64, 1)\n",
      "in get_symbolic_qvalues qvalues shape = (4, 4)\n",
      "main q_v:(4, 4)\n",
      "(4, 64, 64, 1)\n",
      "qvalue_t shape = :(4, 4)\n",
      "state_t shape = :(4, 64, 64, 1)\n",
      "in get_symbolic_qvalues qvalues shape = (4, 4)\n",
      "main q_v:(4, 4)\n",
      "(4, 64, 64, 1)\n",
      "qvalue_t shape = :(4, 4)\n",
      "state_t shape = :(4, 64, 64, 1)\n",
      "in get_symbolic_qvalues qvalues shape = (4, 4)\n",
      "main q_v:(4, 4)\n",
      "(4, 64, 64, 1)\n",
      "qvalue_t shape = :(4, 4)\n",
      "state_t shape = :(4, 64, 64, 1)\n",
      "in get_symbolic_qvalues qvalues shape = (4, 4)\n",
      "main q_v:(4, 4)\n",
      "(4, 64, 64, 1)\n",
      "qvalue_t shape = :(4, 4)\n",
      "state_t shape = :(4, 64, 64, 1)\n",
      "in get_symbolic_qvalues qvalues shape = (4, 4)\n",
      "main q_v:(4, 4)\n",
      "(4, 64, 64, 1)\n",
      "qvalue_t shape = :(4, 4)\n",
      "state_t shape = :(4, 64, 64, 1)\n",
      "in get_symbolic_qvalues qvalues shape = (4, 4)\n",
      "main q_v:(4, 4)\n",
      "(4, 64, 64, 1)\n",
      "qvalue_t shape = :(4, 4)\n",
      "state_t shape = :(4, 64, 64, 1)\n",
      "in get_symbolic_qvalues qvalues shape = (4, 4)\n",
      "main q_v:(4, 4)\n",
      "(4, 64, 64, 1)\n",
      "qvalue_t shape = :(4, 4)\n",
      "state_t shape = :(4, 64, 64, 1)\n",
      "in get_symbolic_qvalues qvalues shape = (4, 4)\n",
      "main q_v:(4, 4)\n",
      "(4, 64, 64, 1)\n",
      "qvalue_t shape = :(4, 4)\n",
      "state_t shape = :(4, 64, 64, 1)\n",
      "in get_symbolic_qvalues qvalues shape = (4, 4)\n",
      "main q_v:(4, 4)\n",
      "(4, 64, 64, 1)\n",
      "qvalue_t shape = :(4, 4)\n",
      "state_t shape = :(4, 64, 64, 1)\n"
     ]
    },
    {
     "name": "stdout",
     "output_type": "stream",
     "text": [
      "in get_symbolic_qvalues qvalues shape = (4, 4)\n",
      "main q_v:(4, 4)\n",
      "(4, 64, 64, 1)\n",
      "qvalue_t shape = :(4, 4)\n",
      "state_t shape = :(4, 64, 64, 1)\n",
      "in get_symbolic_qvalues qvalues shape = (4, 4)\n",
      "main q_v:(4, 4)\n",
      "(4, 64, 64, 1)\n",
      "qvalue_t shape = :(4, 4)\n",
      "state_t shape = :(4, 64, 64, 1)\n",
      "in get_symbolic_qvalues qvalues shape = (4, 4)\n",
      "main q_v:(4, 4)\n",
      "(4, 64, 64, 1)\n",
      "qvalue_t shape = :(4, 4)\n",
      "state_t shape = :(4, 64, 64, 1)\n",
      "in get_symbolic_qvalues qvalues shape = (4, 4)\n",
      "main q_v:(4, 4)\n",
      "(4, 64, 64, 1)\n",
      "qvalue_t shape = :(4, 4)\n",
      "state_t shape = :(4, 64, 64, 1)\n",
      "in get_symbolic_qvalues qvalues shape = (4, 4)\n",
      "main q_v:(4, 4)\n",
      "(4, 64, 64, 1)\n",
      "qvalue_t shape = :(4, 4)\n",
      "state_t shape = :(4, 64, 64, 1)\n",
      "in get_symbolic_qvalues qvalues shape = (4, 4)\n",
      "main q_v:(4, 4)\n",
      "(4, 64, 64, 1)\n",
      "qvalue_t shape = :(4, 4)\n",
      "state_t shape = :(4, 64, 64, 1)\n",
      "in get_symbolic_qvalues qvalues shape = (4, 4)\n",
      "main q_v:(4, 4)\n",
      "(4, 64, 64, 1)\n",
      "qvalue_t shape = :(4, 4)\n",
      "state_t shape = :(4, 64, 64, 1)\n",
      "in get_symbolic_qvalues qvalues shape = (4, 4)\n",
      "main q_v:(4, 4)\n",
      "(4, 64, 64, 1)\n",
      "qvalue_t shape = :(4, 4)\n",
      "state_t shape = :(4, 64, 64, 1)\n",
      "in get_symbolic_qvalues qvalues shape = (4, 4)\n",
      "main q_v:(4, 4)\n",
      "(4, 64, 64, 1)\n",
      "qvalue_t shape = :(4, 4)\n",
      "state_t shape = :(4, 64, 64, 1)\n",
      "in get_symbolic_qvalues qvalues shape = (4, 4)\n",
      "main q_v:(4, 4)\n",
      "(4, 64, 64, 1)\n",
      "qvalue_t shape = :(4, 4)\n",
      "state_t shape = :(4, 64, 64, 1)\n",
      "in get_symbolic_qvalues qvalues shape = (4, 4)\n",
      "main q_v:(4, 4)\n",
      "(4, 64, 64, 1)\n",
      "qvalue_t shape = :(4, 4)\n",
      "state_t shape = :(4, 64, 64, 1)\n",
      "in get_symbolic_qvalues qvalues shape = (4, 4)\n",
      "main q_v:(4, 4)\n",
      "(4, 64, 64, 1)\n",
      "qvalue_t shape = :(4, 4)\n",
      "state_t shape = :(4, 64, 64, 1)\n",
      "in get_symbolic_qvalues qvalues shape = (4, 4)\n",
      "main q_v:(4, 4)\n",
      "(4, 64, 64, 1)\n",
      "qvalue_t shape = :(4, 4)\n",
      "state_t shape = :(4, 64, 64, 1)\n",
      "in get_symbolic_qvalues qvalues shape = (4, 4)\n",
      "main q_v:(4, 4)\n",
      "(4, 64, 64, 1)\n",
      "qvalue_t shape = :(4, 4)\n",
      "state_t shape = :(4, 64, 64, 1)\n",
      "in get_symbolic_qvalues qvalues shape = (4, 4)\n",
      "main q_v:(4, 4)\n",
      "(4, 64, 64, 1)\n",
      "qvalue_t shape = :(4, 4)\n",
      "state_t shape = :(4, 64, 64, 1)\n",
      "in get_symbolic_qvalues qvalues shape = (4, 4)\n",
      "main q_v:(4, 4)\n",
      "(4, 64, 64, 1)\n",
      "qvalue_t shape = :(4, 4)\n",
      "state_t shape = :(4, 64, 64, 1)\n",
      "in get_symbolic_qvalues qvalues shape = (4, 4)\n",
      "main q_v:(4, 4)\n",
      "(4, 64, 64, 1)\n",
      "qvalue_t shape = :(4, 4)\n",
      "state_t shape = :(4, 64, 64, 1)\n",
      "in get_symbolic_qvalues qvalues shape = (4, 4)\n",
      "main q_v:(4, 4)\n",
      "(4, 64, 64, 1)\n",
      "qvalue_t shape = :(4, 4)\n",
      "state_t shape = :(4, 64, 64, 1)\n",
      "in get_symbolic_qvalues qvalues shape = (4, 4)\n",
      "main q_v:(4, 4)\n",
      "(4, 64, 64, 1)\n",
      "qvalue_t shape = :(4, 4)\n",
      "state_t shape = :(4, 64, 64, 1)\n",
      "in get_symbolic_qvalues qvalues shape = (4, 4)\n",
      "main q_v:(4, 4)\n",
      "(4, 64, 64, 1)\n",
      "qvalue_t shape = :(4, 4)\n",
      "state_t shape = :(4, 64, 64, 1)\n",
      "in get_symbolic_qvalues qvalues shape = (4, 4)\n",
      "main q_v:(4, 4)\n",
      "(4, 64, 64, 1)\n",
      "qvalue_t shape = :(4, 4)\n",
      "state_t shape = :(4, 64, 64, 1)\n",
      "in get_symbolic_qvalues qvalues shape = (4, 4)\n",
      "main q_v:(4, 4)\n",
      "(4, 64, 64, 1)\n",
      "qvalue_t shape = :(4, 4)\n",
      "state_t shape = :(4, 64, 64, 1)\n",
      "in get_symbolic_qvalues qvalues shape = (4, 4)\n",
      "main q_v:(4, 4)\n",
      "(4, 64, 64, 1)\n",
      "qvalue_t shape = :(4, 4)\n",
      "state_t shape = :(4, 64, 64, 1)\n",
      "in get_symbolic_qvalues qvalues shape = (4, 4)\n",
      "main q_v:(4, 4)\n",
      "(4, 64, 64, 1)\n",
      "qvalue_t shape = :(4, 4)\n",
      "state_t shape = :(4, 64, 64, 1)\n",
      "in get_symbolic_qvalues qvalues shape = (4, 4)\n",
      "main q_v:(4, 4)\n",
      "(4, 64, 64, 1)\n",
      "qvalue_t shape = :(4, 4)\n",
      "state_t shape = :(4, 64, 64, 1)\n",
      "in get_symbolic_qvalues qvalues shape = (4, 4)\n",
      "main q_v:(4, 4)\n",
      "(4, 64, 64, 1)\n",
      "qvalue_t shape = :(4, 4)\n",
      "state_t shape = :(4, 64, 64, 1)\n",
      "in get_symbolic_qvalues qvalues shape = (4, 4)\n",
      "main q_v:(4, 4)\n",
      "(4, 64, 64, 1)\n",
      "qvalue_t shape = :(4, 4)\n",
      "state_t shape = :(4, 64, 64, 1)\n",
      "in get_symbolic_qvalues qvalues shape = (4, 4)\n",
      "main q_v:(4, 4)\n",
      "(4, 64, 64, 1)\n",
      "qvalue_t shape = :(4, 4)\n",
      "state_t shape = :(4, 64, 64, 1)\n",
      "in get_symbolic_qvalues qvalues shape = (4, 4)\n",
      "main q_v:(4, 4)\n",
      "(4, 64, 64, 1)\n",
      "qvalue_t shape = :(4, 4)\n",
      "state_t shape = :(4, 64, 64, 1)\n",
      "in get_symbolic_qvalues qvalues shape = (4, 4)\n",
      "main q_v:(4, 4)\n",
      "(4, 64, 64, 1)\n",
      "qvalue_t shape = :(4, 4)\n",
      "state_t shape = :(4, 64, 64, 1)\n",
      "in get_symbolic_qvalues qvalues shape = (4, 4)\n",
      "main q_v:(4, 4)\n",
      "(4, 64, 64, 1)\n",
      "qvalue_t shape = :(4, 4)\n",
      "state_t shape = :(4, 64, 64, 1)\n",
      "in get_symbolic_qvalues qvalues shape = (4, 4)\n",
      "main q_v:(4, 4)\n",
      "(4, 64, 64, 1)\n",
      "qvalue_t shape = :(4, 4)\n",
      "state_t shape = :(4, 64, 64, 1)\n",
      "in get_symbolic_qvalues qvalues shape = (4, 4)\n",
      "main q_v:(4, 4)\n",
      "(4, 64, 64, 1)\n",
      "qvalue_t shape = :(4, 4)\n",
      "state_t shape = :(4, 64, 64, 1)\n",
      "in get_symbolic_qvalues qvalues shape = (4, 4)\n",
      "main q_v:(4, 4)\n",
      "(4, 64, 64, 1)\n",
      "qvalue_t shape = :(4, 4)\n",
      "state_t shape = :(4, 64, 64, 1)\n",
      "in get_symbolic_qvalues qvalues shape = (4, 4)\n",
      "main q_v:(4, 4)\n",
      "(4, 64, 64, 1)\n",
      "qvalue_t shape = :(4, 4)\n",
      "state_t shape = :(4, 64, 64, 1)\n",
      "in get_symbolic_qvalues qvalues shape = (4, 4)\n",
      "main q_v:(4, 4)\n",
      "(4, 64, 64, 1)\n",
      "qvalue_t shape = :(4, 4)\n",
      "state_t shape = :(4, 64, 64, 1)\n",
      "in get_symbolic_qvalues qvalues shape = (4, 4)\n",
      "main q_v:(4, 4)\n",
      "(4, 64, 64, 1)\n",
      "qvalue_t shape = :(4, 4)\n",
      "state_t shape = :(4, 64, 64, 1)\n",
      "in get_symbolic_qvalues qvalues shape = (4, 4)\n",
      "main q_v:(4, 4)\n",
      "(4, 64, 64, 1)\n",
      "qvalue_t shape = :(4, 4)\n",
      "state_t shape = :(4, 64, 64, 1)\n",
      "in get_symbolic_qvalues qvalues shape = (4, 4)\n",
      "main q_v:(4, 4)\n",
      "(4, 64, 64, 1)\n",
      "qvalue_t shape = :(4, 4)\n",
      "state_t shape = :(4, 64, 64, 1)\n",
      "in get_symbolic_qvalues qvalues shape = (4, 4)\n",
      "main q_v:(4, 4)\n",
      "(4, 64, 64, 1)\n",
      "qvalue_t shape = :(4, 4)\n",
      "state_t shape = :(4, 64, 64, 1)\n",
      "in get_symbolic_qvalues qvalues shape = (4, 4)\n",
      "main q_v:(4, 4)\n",
      "(4, 64, 64, 1)\n",
      "qvalue_t shape = :(4, 4)\n",
      "state_t shape = :(4, 64, 64, 1)\n",
      "in get_symbolic_qvalues qvalues shape = (4, 4)\n",
      "main q_v:(4, 4)\n",
      "(4, 64, 64, 1)\n",
      "qvalue_t shape = :(4, 4)\n",
      "state_t shape = :(4, 64, 64, 1)\n",
      "in get_symbolic_qvalues qvalues shape = (4, 4)\n",
      "main q_v:(4, 4)\n",
      "(4, 64, 64, 1)\n",
      "qvalue_t shape = :(4, 4)\n",
      "state_t shape = :(4, 64, 64, 1)\n",
      "in get_symbolic_qvalues qvalues shape = (4, 4)\n",
      "main q_v:(4, 4)\n",
      "(4, 64, 64, 1)\n",
      "qvalue_t shape = :(4, 4)\n",
      "state_t shape = :(4, 64, 64, 1)\n",
      "in get_symbolic_qvalues qvalues shape = (4, 4)\n",
      "main q_v:(4, 4)\n",
      "(4, 64, 64, 1)\n",
      "qvalue_t shape = :(4, 4)\n",
      "state_t shape = :(4, 64, 64, 1)\n",
      "in get_symbolic_qvalues qvalues shape = (4, 4)\n",
      "main q_v:(4, 4)\n",
      "(4, 64, 64, 1)\n",
      "qvalue_t shape = :(4, 4)\n",
      "state_t shape = :(4, 64, 64, 1)\n",
      "in get_symbolic_qvalues qvalues shape = (4, 4)\n",
      "main q_v:(4, 4)\n",
      "(4, 64, 64, 1)\n",
      "qvalue_t shape = :(4, 4)\n",
      "state_t shape = :(4, 64, 64, 1)\n",
      "in get_symbolic_qvalues qvalues shape = (4, 4)\n",
      "main q_v:(4, 4)\n",
      "(4, 64, 64, 1)\n",
      "qvalue_t shape = :(4, 4)\n",
      "state_t shape = :(4, 64, 64, 1)\n",
      "in get_symbolic_qvalues qvalues shape = (4, 4)\n",
      "main q_v:(4, 4)\n",
      "(4, 64, 64, 1)\n",
      "qvalue_t shape = :(4, 4)\n",
      "state_t shape = :(4, 64, 64, 1)\n",
      "in get_symbolic_qvalues qvalues shape = (4, 4)\n",
      "main q_v:(4, 4)\n",
      "(4, 64, 64, 1)\n",
      "qvalue_t shape = :(4, 4)\n",
      "state_t shape = :(4, 64, 64, 1)\n",
      "in get_symbolic_qvalues qvalues shape = (4, 4)\n",
      "main q_v:(4, 4)\n",
      "(4, 64, 64, 1)\n",
      "qvalue_t shape = :(4, 4)\n",
      "state_t shape = :(4, 64, 64, 1)\n",
      "in get_symbolic_qvalues qvalues shape = (4, 4)\n",
      "main q_v:(4, 4)\n",
      "(4, 64, 64, 1)\n",
      "qvalue_t shape = :(4, 4)\n",
      "state_t shape = :(4, 64, 64, 1)\n",
      "in get_symbolic_qvalues qvalues shape = (4, 4)\n",
      "main q_v:(4, 4)\n",
      "(4, 64, 64, 1)\n",
      "qvalue_t shape = :(4, 4)\n",
      "state_t shape = :(4, 64, 64, 1)\n",
      "in get_symbolic_qvalues qvalues shape = (4, 4)\n",
      "main q_v:(4, 4)\n",
      "(4, 64, 64, 1)\n",
      "qvalue_t shape = :(4, 4)\n",
      "state_t shape = :(4, 64, 64, 1)\n",
      "in get_symbolic_qvalues qvalues shape = (4, 4)\n",
      "main q_v:(4, 4)\n",
      "(4, 64, 64, 1)\n",
      "qvalue_t shape = :(4, 4)\n",
      "state_t shape = :(4, 64, 64, 1)\n",
      "in get_symbolic_qvalues qvalues shape = (4, 4)\n",
      "main q_v:(4, 4)\n",
      "(4, 64, 64, 1)\n",
      "qvalue_t shape = :(4, 4)\n",
      "state_t shape = :(4, 64, 64, 1)\n",
      "in get_symbolic_qvalues qvalues shape = (4, 4)\n",
      "main q_v:(4, 4)\n",
      "(4, 64, 64, 1)\n",
      "qvalue_t shape = :(4, 4)\n",
      "state_t shape = :(4, 64, 64, 1)\n",
      "in get_symbolic_qvalues qvalues shape = (4, 4)\n",
      "main q_v:(4, 4)\n",
      "(4, 64, 64, 1)\n",
      "qvalue_t shape = :(4, 4)\n",
      "state_t shape = :(4, 64, 64, 1)\n",
      "in get_symbolic_qvalues qvalues shape = (4, 4)\n",
      "main q_v:(4, 4)\n",
      "(4, 64, 64, 1)\n",
      "qvalue_t shape = :(4, 4)\n",
      "state_t shape = :(4, 64, 64, 1)\n",
      "in get_symbolic_qvalues qvalues shape = (4, 4)\n",
      "main q_v:(4, 4)\n",
      "(4, 64, 64, 1)\n",
      "qvalue_t shape = :(4, 4)\n",
      "state_t shape = :(4, 64, 64, 1)\n",
      "in get_symbolic_qvalues qvalues shape = (4, 4)\n",
      "main q_v:(4, 4)\n",
      "(4, 64, 64, 1)\n",
      "qvalue_t shape = :(4, 4)\n",
      "state_t shape = :(4, 64, 64, 1)\n",
      "in get_symbolic_qvalues qvalues shape = (4, 4)\n",
      "main q_v:(4, 4)\n",
      "(4, 64, 64, 1)\n",
      "qvalue_t shape = :(4, 4)\n",
      "state_t shape = :(4, 64, 64, 1)\n",
      "in get_symbolic_qvalues qvalues shape = (4, 4)\n",
      "main q_v:(4, 4)\n",
      "(4, 64, 64, 1)\n",
      "qvalue_t shape = :(4, 4)\n",
      "state_t shape = :(4, 64, 64, 1)\n"
     ]
    },
    {
     "name": "stdout",
     "output_type": "stream",
     "text": [
      "in get_symbolic_qvalues qvalues shape = (4, 4)\n",
      "main q_v:(4, 4)\n",
      "(4, 64, 64, 1)\n",
      "qvalue_t shape = :(4, 4)\n",
      "state_t shape = :(4, 64, 64, 1)\n",
      "in get_symbolic_qvalues qvalues shape = (4, 4)\n",
      "main q_v:(4, 4)\n",
      "(4, 64, 64, 1)\n",
      "qvalue_t shape = :(4, 4)\n",
      "state_t shape = :(4, 64, 64, 1)\n",
      "in get_symbolic_qvalues qvalues shape = (4, 4)\n",
      "main q_v:(4, 4)\n",
      "(4, 64, 64, 1)\n",
      "qvalue_t shape = :(4, 4)\n",
      "state_t shape = :(4, 64, 64, 1)\n",
      "in get_symbolic_qvalues qvalues shape = (4, 4)\n",
      "main q_v:(4, 4)\n",
      "(4, 64, 64, 1)\n",
      "qvalue_t shape = :(4, 4)\n",
      "state_t shape = :(4, 64, 64, 1)\n",
      "in get_symbolic_qvalues qvalues shape = (4, 4)\n",
      "main q_v:(4, 4)\n",
      "(4, 64, 64, 1)\n",
      "qvalue_t shape = :(4, 4)\n",
      "state_t shape = :(4, 64, 64, 1)\n",
      "in get_symbolic_qvalues qvalues shape = (4, 4)\n",
      "main q_v:(4, 4)\n",
      "(4, 64, 64, 1)\n",
      "qvalue_t shape = :(4, 4)\n",
      "state_t shape = :(4, 64, 64, 1)\n",
      "in get_symbolic_qvalues qvalues shape = (4, 4)\n",
      "main q_v:(4, 4)\n",
      "(4, 64, 64, 1)\n",
      "qvalue_t shape = :(4, 4)\n",
      "state_t shape = :(4, 64, 64, 1)\n",
      "in get_symbolic_qvalues qvalues shape = (4, 4)\n",
      "main q_v:(4, 4)\n",
      "(4, 64, 64, 1)\n",
      "qvalue_t shape = :(4, 4)\n",
      "state_t shape = :(4, 64, 64, 1)\n",
      "in get_symbolic_qvalues qvalues shape = (4, 4)\n",
      "main q_v:(4, 4)\n",
      "(4, 64, 64, 1)\n",
      "qvalue_t shape = :(4, 4)\n",
      "state_t shape = :(4, 64, 64, 1)\n",
      "in get_symbolic_qvalues qvalues shape = (4, 4)\n",
      "main q_v:(4, 4)\n",
      "(4, 64, 64, 1)\n",
      "qvalue_t shape = :(4, 4)\n",
      "state_t shape = :(4, 64, 64, 1)\n",
      "in get_symbolic_qvalues qvalues shape = (4, 4)\n",
      "main q_v:(4, 4)\n",
      "(4, 64, 64, 1)\n",
      "qvalue_t shape = :(4, 4)\n",
      "state_t shape = :(4, 64, 64, 1)\n",
      "in get_symbolic_qvalues qvalues shape = (4, 4)\n",
      "main q_v:(4, 4)\n",
      "(4, 64, 64, 1)\n",
      "qvalue_t shape = :(4, 4)\n",
      "state_t shape = :(4, 64, 64, 1)\n",
      "in get_symbolic_qvalues qvalues shape = (4, 4)\n",
      "main q_v:(4, 4)\n",
      "(4, 64, 64, 1)\n",
      "qvalue_t shape = :(4, 4)\n",
      "state_t shape = :(4, 64, 64, 1)\n",
      "in get_symbolic_qvalues qvalues shape = (4, 4)\n",
      "main q_v:(4, 4)\n",
      "(4, 64, 64, 1)\n",
      "qvalue_t shape = :(4, 4)\n",
      "state_t shape = :(4, 64, 64, 1)\n",
      "in get_symbolic_qvalues qvalues shape = (4, 4)\n",
      "main q_v:(4, 4)\n",
      "(4, 64, 64, 1)\n",
      "qvalue_t shape = :(4, 4)\n",
      "state_t shape = :(4, 64, 64, 1)\n",
      "in get_symbolic_qvalues qvalues shape = (4, 4)\n",
      "main q_v:(4, 4)\n",
      "(4, 64, 64, 1)\n",
      "qvalue_t shape = :(4, 4)\n",
      "state_t shape = :(4, 64, 64, 1)\n",
      "in get_symbolic_qvalues qvalues shape = (4, 4)\n",
      "main q_v:(4, 4)\n",
      "(4, 64, 64, 1)\n",
      "qvalue_t shape = :(4, 4)\n",
      "state_t shape = :(4, 64, 64, 1)\n",
      "in get_symbolic_qvalues qvalues shape = (4, 4)\n",
      "main q_v:(4, 4)\n",
      "(4, 64, 64, 1)\n",
      "qvalue_t shape = :(4, 4)\n",
      "state_t shape = :(4, 64, 64, 1)\n",
      "in get_symbolic_qvalues qvalues shape = (4, 4)\n",
      "main q_v:(4, 4)\n",
      "(4, 64, 64, 1)\n",
      "qvalue_t shape = :(4, 4)\n",
      "state_t shape = :(4, 64, 64, 1)\n",
      "in get_symbolic_qvalues qvalues shape = (4, 4)\n",
      "main q_v:(4, 4)\n",
      "(4, 64, 64, 1)\n",
      "qvalue_t shape = :(4, 4)\n",
      "state_t shape = :(4, 64, 64, 1)\n",
      "in get_symbolic_qvalues qvalues shape = (4, 4)\n",
      "main q_v:(4, 4)\n",
      "(4, 64, 64, 1)\n",
      "qvalue_t shape = :(4, 4)\n",
      "state_t shape = :(4, 64, 64, 1)\n",
      "in get_symbolic_qvalues qvalues shape = (4, 4)\n",
      "main q_v:(4, 4)\n",
      "(4, 64, 64, 1)\n",
      "qvalue_t shape = :(4, 4)\n",
      "state_t shape = :(4, 64, 64, 1)\n",
      "in get_symbolic_qvalues qvalues shape = (4, 4)\n",
      "main q_v:(4, 4)\n",
      "(4, 64, 64, 1)\n",
      "qvalue_t shape = :(4, 4)\n",
      "state_t shape = :(4, 64, 64, 1)\n",
      "in get_symbolic_qvalues qvalues shape = (4, 4)\n",
      "main q_v:(4, 4)\n",
      "(4, 64, 64, 1)\n",
      "qvalue_t shape = :(4, 4)\n",
      "state_t shape = :(4, 64, 64, 1)\n",
      "in get_symbolic_qvalues qvalues shape = (4, 4)\n",
      "main q_v:(4, 4)\n"
     ]
    },
    {
     "data": {
      "text/plain": [
       "0.0"
      ]
     },
     "execution_count": 11,
     "metadata": {},
     "output_type": "execute_result"
=======
      "(1, 64, 64, 4)\n"
     ]
    },
    {
     "ename": "ValueError",
     "evalue": "Error when checking input: expected game_img to have 4 dimensions, but got array with shape (4, 4)",
     "output_type": "error",
     "traceback": [
      "\u001b[0;31m---------------------------------------------------------------------------\u001b[0m",
      "\u001b[0;31mValueError\u001b[0m                                Traceback (most recent call last)",
      "\u001b[0;32m<ipython-input-32-f4e6a028ce72>\u001b[0m in \u001b[0;36m<module>\u001b[0;34m()\u001b[0m\n\u001b[0;32m----> 1\u001b[0;31m \u001b[0mevaluate\u001b[0m\u001b[0;34m(\u001b[0m\u001b[0menv\u001b[0m\u001b[0;34m,\u001b[0m \u001b[0magent\u001b[0m\u001b[0;34m,\u001b[0m \u001b[0mn_games\u001b[0m\u001b[0;34m=\u001b[0m\u001b[0;36m1\u001b[0m\u001b[0;34m)\u001b[0m\u001b[0;34m\u001b[0m\u001b[0;34m\u001b[0m\u001b[0m\n\u001b[0m",
      "\u001b[0;32m<ipython-input-31-575040125994>\u001b[0m in \u001b[0;36mevaluate\u001b[0;34m(env, agent, n_games, greedy, t_max)\u001b[0m\n\u001b[1;32m      9\u001b[0m             \u001b[0ms_temp\u001b[0m \u001b[0;34m=\u001b[0m \u001b[0mnp\u001b[0m\u001b[0;34m.\u001b[0m\u001b[0mexpand_dims\u001b[0m\u001b[0;34m(\u001b[0m\u001b[0ms\u001b[0m\u001b[0;34m,\u001b[0m\u001b[0maxis\u001b[0m \u001b[0;34m=\u001b[0m \u001b[0;36m0\u001b[0m\u001b[0;34m)\u001b[0m\u001b[0;34m\u001b[0m\u001b[0;34m\u001b[0m\u001b[0m\n\u001b[1;32m     10\u001b[0m             \u001b[0mprint\u001b[0m\u001b[0;34m(\u001b[0m\u001b[0ms_temp\u001b[0m\u001b[0;34m.\u001b[0m\u001b[0mshape\u001b[0m\u001b[0;34m)\u001b[0m\u001b[0;34m\u001b[0m\u001b[0;34m\u001b[0m\u001b[0m\n\u001b[0;32m---> 11\u001b[0;31m             \u001b[0mqvalues\u001b[0m \u001b[0;34m=\u001b[0m \u001b[0magent\u001b[0m\u001b[0;34m.\u001b[0m\u001b[0mget_qvalues\u001b[0m\u001b[0;34m(\u001b[0m\u001b[0ms_temp\u001b[0m\u001b[0;34m)\u001b[0m\u001b[0;34m\u001b[0m\u001b[0;34m\u001b[0m\u001b[0m\n\u001b[0m\u001b[1;32m     12\u001b[0m             action = qvalues.argmax(\n\u001b[1;32m     13\u001b[0m                 axis=-1)[0] if greedy else agent.sample_actions(qvalues)[0]\n",
      "\u001b[0;32m<ipython-input-15-dd5e11f85f56>\u001b[0m in \u001b[0;36mget_qvalues\u001b[0;34m(self, state_t)\u001b[0m\n\u001b[1;32m     46\u001b[0m         \u001b[0;34m\"\"\"Same as symbolic step except it operates on numpy arrays\"\"\"\u001b[0m\u001b[0;34m\u001b[0m\u001b[0;34m\u001b[0m\u001b[0m\n\u001b[1;32m     47\u001b[0m         \u001b[0;32mpass\u001b[0m\u001b[0;34m\u001b[0m\u001b[0;34m\u001b[0m\u001b[0m\n\u001b[0;32m---> 48\u001b[0;31m         \u001b[0;32mreturn\u001b[0m \u001b[0mself\u001b[0m\u001b[0;34m.\u001b[0m\u001b[0mmodel\u001b[0m\u001b[0;34m.\u001b[0m\u001b[0mevaluate\u001b[0m\u001b[0;34m(\u001b[0m\u001b[0mself\u001b[0m\u001b[0;34m.\u001b[0m\u001b[0mqvalues_t\u001b[0m\u001b[0;34m,\u001b[0m \u001b[0;34m{\u001b[0m\u001b[0mself\u001b[0m\u001b[0;34m.\u001b[0m\u001b[0mstate_t\u001b[0m\u001b[0;34m:\u001b[0m \u001b[0mstate_t\u001b[0m\u001b[0;34m}\u001b[0m\u001b[0;34m)\u001b[0m\u001b[0;34m\u001b[0m\u001b[0;34m\u001b[0m\u001b[0m\n\u001b[0m\u001b[1;32m     49\u001b[0m \u001b[0;34m\u001b[0m\u001b[0m\n\u001b[1;32m     50\u001b[0m     \u001b[0;32mdef\u001b[0m \u001b[0msample_actions\u001b[0m\u001b[0;34m(\u001b[0m\u001b[0mself\u001b[0m\u001b[0;34m,\u001b[0m \u001b[0mqvalues\u001b[0m\u001b[0;34m)\u001b[0m\u001b[0;34m:\u001b[0m\u001b[0;34m\u001b[0m\u001b[0;34m\u001b[0m\u001b[0m\n",
      "\u001b[0;32m/usr/local/lib/python3.6/dist-packages/tensorflow/python/keras/engine/training.py\u001b[0m in \u001b[0;36mevaluate\u001b[0;34m(self, x, y, batch_size, verbose, sample_weight, steps, callbacks, max_queue_size, workers, use_multiprocessing)\u001b[0m\n\u001b[1;32m    744\u001b[0m         \u001b[0mmax_queue_size\u001b[0m\u001b[0;34m=\u001b[0m\u001b[0mmax_queue_size\u001b[0m\u001b[0;34m,\u001b[0m\u001b[0;34m\u001b[0m\u001b[0;34m\u001b[0m\u001b[0m\n\u001b[1;32m    745\u001b[0m         \u001b[0mworkers\u001b[0m\u001b[0;34m=\u001b[0m\u001b[0mworkers\u001b[0m\u001b[0;34m,\u001b[0m\u001b[0;34m\u001b[0m\u001b[0;34m\u001b[0m\u001b[0m\n\u001b[0;32m--> 746\u001b[0;31m         use_multiprocessing=use_multiprocessing)\n\u001b[0m\u001b[1;32m    747\u001b[0m \u001b[0;34m\u001b[0m\u001b[0m\n\u001b[1;32m    748\u001b[0m   def predict(self,\n",
      "\u001b[0;32m/usr/local/lib/python3.6/dist-packages/tensorflow/python/keras/engine/training_arrays.py\u001b[0m in \u001b[0;36mevaluate\u001b[0;34m(self, model, x, y, batch_size, verbose, sample_weight, steps, callbacks, **kwargs)\u001b[0m\n\u001b[1;32m    682\u001b[0m         \u001b[0mcheck_steps\u001b[0m\u001b[0;34m=\u001b[0m\u001b[0;32mTrue\u001b[0m\u001b[0;34m,\u001b[0m\u001b[0;34m\u001b[0m\u001b[0;34m\u001b[0m\u001b[0m\n\u001b[1;32m    683\u001b[0m         \u001b[0msteps_name\u001b[0m\u001b[0;34m=\u001b[0m\u001b[0;34m'steps'\u001b[0m\u001b[0;34m,\u001b[0m\u001b[0;34m\u001b[0m\u001b[0;34m\u001b[0m\u001b[0m\n\u001b[0;32m--> 684\u001b[0;31m         steps=steps)\n\u001b[0m\u001b[1;32m    685\u001b[0m     return test_loop(\n\u001b[1;32m    686\u001b[0m         \u001b[0mmodel\u001b[0m\u001b[0;34m,\u001b[0m\u001b[0;34m\u001b[0m\u001b[0;34m\u001b[0m\u001b[0m\n",
      "\u001b[0;32m/usr/local/lib/python3.6/dist-packages/tensorflow/python/keras/engine/training.py\u001b[0m in \u001b[0;36m_standardize_user_data\u001b[0;34m(self, x, y, sample_weight, class_weight, batch_size, check_steps, steps_name, steps, validation_split, shuffle, extract_tensors_from_dataset)\u001b[0m\n\u001b[1;32m   2426\u001b[0m           \u001b[0mfeed_input_shapes\u001b[0m\u001b[0;34m,\u001b[0m\u001b[0;34m\u001b[0m\u001b[0;34m\u001b[0m\u001b[0m\n\u001b[1;32m   2427\u001b[0m           \u001b[0mcheck_batch_axis\u001b[0m\u001b[0;34m=\u001b[0m\u001b[0;32mFalse\u001b[0m\u001b[0;34m,\u001b[0m  \u001b[0;31m# Don't enforce the batch size.\u001b[0m\u001b[0;34m\u001b[0m\u001b[0;34m\u001b[0m\u001b[0m\n\u001b[0;32m-> 2428\u001b[0;31m           exception_prefix='input')\n\u001b[0m\u001b[1;32m   2429\u001b[0m \u001b[0;34m\u001b[0m\u001b[0m\n\u001b[1;32m   2430\u001b[0m     \u001b[0;32mif\u001b[0m \u001b[0my\u001b[0m \u001b[0;32mis\u001b[0m \u001b[0;32mnot\u001b[0m \u001b[0;32mNone\u001b[0m\u001b[0;34m:\u001b[0m\u001b[0;34m\u001b[0m\u001b[0;34m\u001b[0m\u001b[0m\n",
      "\u001b[0;32m/usr/local/lib/python3.6/dist-packages/tensorflow/python/keras/engine/training_utils.py\u001b[0m in \u001b[0;36mstandardize_input_data\u001b[0;34m(data, names, shapes, check_batch_axis, exception_prefix)\u001b[0m\n\u001b[1;32m    510\u001b[0m                            \u001b[0;34m': expected '\u001b[0m \u001b[0;34m+\u001b[0m \u001b[0mnames\u001b[0m\u001b[0;34m[\u001b[0m\u001b[0mi\u001b[0m\u001b[0;34m]\u001b[0m \u001b[0;34m+\u001b[0m \u001b[0;34m' to have '\u001b[0m \u001b[0;34m+\u001b[0m\u001b[0;34m\u001b[0m\u001b[0;34m\u001b[0m\u001b[0m\n\u001b[1;32m    511\u001b[0m                            \u001b[0mstr\u001b[0m\u001b[0;34m(\u001b[0m\u001b[0mlen\u001b[0m\u001b[0;34m(\u001b[0m\u001b[0mshape\u001b[0m\u001b[0;34m)\u001b[0m\u001b[0;34m)\u001b[0m \u001b[0;34m+\u001b[0m \u001b[0;34m' dimensions, but got array '\u001b[0m\u001b[0;34m\u001b[0m\u001b[0;34m\u001b[0m\u001b[0m\n\u001b[0;32m--> 512\u001b[0;31m                            'with shape ' + str(data_shape))\n\u001b[0m\u001b[1;32m    513\u001b[0m         \u001b[0;32mif\u001b[0m \u001b[0;32mnot\u001b[0m \u001b[0mcheck_batch_axis\u001b[0m\u001b[0;34m:\u001b[0m\u001b[0;34m\u001b[0m\u001b[0;34m\u001b[0m\u001b[0m\n\u001b[1;32m    514\u001b[0m           \u001b[0mdata_shape\u001b[0m \u001b[0;34m=\u001b[0m \u001b[0mdata_shape\u001b[0m\u001b[0;34m[\u001b[0m\u001b[0;36m1\u001b[0m\u001b[0;34m:\u001b[0m\u001b[0;34m]\u001b[0m\u001b[0;34m\u001b[0m\u001b[0;34m\u001b[0m\u001b[0m\n",
      "\u001b[0;31mValueError\u001b[0m: Error when checking input: expected game_img to have 4 dimensions, but got array with shape (4, 4)"
     ]
>>>>>>> 87a73886a358aa4bc0dae10efa7c7aabca3a70ac
    }
   ],
   "source": [
    "evaluate(env, agent, n_games=1)"
   ]
  },
  {
   "cell_type": "markdown",
   "metadata": {},
   "source": [
    "### Experience replay\n",
    "For this assignment, we provide you with experience replay buffer. If you implemented experience replay buffer in last week's assignment, you can copy-paste it here __to get 2 bonus points__.\n",
    "\n",
    "![img](https://github.com/yandexdataschool/Practical_RL/raw/master/yet_another_week/_resource/exp_replay.png)"
   ]
  },
  {
   "cell_type": "markdown",
   "metadata": {},
   "source": [
    "#### The interface is fairly simple:\n",
    "* `exp_replay.add(obs, act, rw, next_obs, done)` - saves (s,a,r,s',done) tuple into the buffer\n",
    "* `exp_replay.sample(batch_size)` - returns observations, actions, rewards, next_observations and is_done for `batch_size` random samples.\n",
    "* `len(exp_replay)` - returns number of elements stored in replay buffer."
   ]
  },
  {
   "cell_type": "code",
<<<<<<< HEAD
   "execution_count": 12,
   "metadata": {},
=======
   "execution_count": null,
   "metadata": {
    "collapsed": true
   },
>>>>>>> 87a73886a358aa4bc0dae10efa7c7aabca3a70ac
   "outputs": [],
   "source": [
    "from replay_buffer import ReplayBuffer\n",
    "exp_replay = ReplayBuffer(10)\n",
    "\n",
    "for _ in range(30):\n",
<<<<<<< HEAD
    "    exp_replay.add(env.reset(), env.action_space.sample(), 1.0, env.reset(), done=False) \n",
    "    obs_batch, act_batch, reward_batch, next_obs_batch, is_done_batch = exp_replay.sample(5)\n",
=======
    "    exp_replay.add(env.reset(), env.action_space.sample(),\n",
    "                   1.0, env.reset(), done=False)\n",
    "\n",
    "obs_batch, act_batch, reward_batch, next_obs_batch, is_done_batch = exp_replay.sample(\n",
    "    5)\n",
>>>>>>> 87a73886a358aa4bc0dae10efa7c7aabca3a70ac
    "\n",
    "assert len(exp_replay) == 10, \"experience replay size should be 10 because that's what maximum capacity is\""
   ]
  },
  {
   "cell_type": "code",
<<<<<<< HEAD
   "execution_count": 13,
   "metadata": {},
=======
   "execution_count": null,
   "metadata": {
    "collapsed": true
   },
>>>>>>> 87a73886a358aa4bc0dae10efa7c7aabca3a70ac
   "outputs": [],
   "source": [
    "def play_and_record(agent, env, exp_replay, n_steps=1):\n",
    "    \"\"\"\n",
    "    Play the game for exactly n steps, record every (s,a,r,s', done) to replay buffer. \n",
    "    Whenever game ends, add record with done=True and reset the game.\n",
    "    It is guaranteed that env has done=False when passed to this function.\n",
    "\n",
    "    PLEASE DO NOT RESET ENV UNLESS IT IS \"DONE\"\n",
    "\n",
    "    :returns: return sum of rewards over time\n",
    "    \"\"\"\n",
    "    # initial state\n",
    "    s = env.framebuffer\n",
<<<<<<< HEAD
    "    sum_r = 0\n",
    "    # Play the game for n_steps as per instructions above\n",
    "    #<YOUR CODE >\n",
    "    a = env.action_space.sample()\n",
    "    for _ in range(n_steps):\n",
    "        s_pi,r,done,_ = env.step(a)\n",
    "        #print([a,s_pi,r,done])\n",
    "        exp_replay.add(s,a,r,s_pi,done)\n",
    "        s = s_pi\n",
    "        a = env.action_space.sample()\n",
    "        if done:\n",
    "            env.reset()\n",
    "            a = env.action_space.sample()\n",
    "        sum_r += r\n",
    "    return sum_r \n",
    "         "
=======
    "\n",
    "    # Play the game for n_steps as per instructions above\n",
    "    <YOUR CODE >"
>>>>>>> 87a73886a358aa4bc0dae10efa7c7aabca3a70ac
   ]
  },
  {
   "cell_type": "code",
<<<<<<< HEAD
   "execution_count": 14,
   "metadata": {},
   "outputs": [
    {
     "name": "stdout",
     "output_type": "stream",
     "text": [
      "Well done!\n"
     ]
    }
   ],
=======
   "execution_count": null,
   "metadata": {
    "collapsed": true
   },
   "outputs": [],
>>>>>>> 87a73886a358aa4bc0dae10efa7c7aabca3a70ac
   "source": [
    "# testing your code. This may take a minute...\n",
    "exp_replay = ReplayBuffer(20000)\n",
    "\n",
    "play_and_record(agent, env, exp_replay, n_steps=10000)\n",
    "\n",
    "# if you're using your own experience replay buffer, some of those tests may need correction.\n",
    "# just make sure you know what your code does\n",
    "assert len(exp_replay) == 10000, \"play_and_record should have added exactly 10000 steps, \"\\\n",
    "                                 \"but instead added %i\" % len(exp_replay)\n",
    "is_dones = list(zip(*exp_replay._storage))[-1]\n",
    "\n",
    "assert 0 < np.mean(is_dones) < 0.1, \"Please make sure you restart the game whenever it is 'done' and record the is_done correctly into the buffer.\"\\\n",
    "                                    \"Got %f is_done rate over %i steps. [If you think it's your tough luck, just re-run the test]\" % (\n",
    "                                        np.mean(is_dones), len(exp_replay))\n",
    "\n",
    "for _ in range(100):\n",
    "    obs_batch, act_batch, reward_batch, next_obs_batch, is_done_batch = exp_replay.sample(\n",
    "        10)\n",
    "    assert obs_batch.shape == next_obs_batch.shape == (10,) + state_dim\n",
    "    assert act_batch.shape == (\n",
    "        10,), \"actions batch should have shape (10,) but is instead %s\" % str(act_batch.shape)\n",
    "    assert reward_batch.shape == (\n",
    "        10,), \"rewards batch should have shape (10,) but is instead %s\" % str(reward_batch.shape)\n",
    "    assert is_done_batch.shape == (\n",
    "        10,), \"is_done batch should have shape (10,) but is instead %s\" % str(is_done_batch.shape)\n",
    "    assert [int(i) in (0, 1)\n",
    "            for i in is_dones], \"is_done should be strictly True or False\"\n",
    "    assert [\n",
    "        0 <= a <= n_actions for a in act_batch], \"actions should be within [0, n_actions]\"\n",
    "\n",
    "print(\"Well done!\")"
   ]
  },
  {
   "cell_type": "markdown",
   "metadata": {},
   "source": [
    "### Target networks\n",
    "\n",
    "We also employ the so called \"target network\" - a copy of neural network weights to be used for reference Q-values:\n",
    "\n",
    "The network itself is an exact copy of agent network, but it's parameters are not trained. Instead, they are moved here from agent's actual network every so often.\n",
    "\n",
    "$$ Q_{reference}(s,a) = r + \\gamma \\cdot \\max _{a'} Q_{target}(s',a') $$\n",
    "\n",
    "![img](https://github.com/yandexdataschool/Practical_RL/raw/master/yet_another_week/_resource/target_net.png)\n",
    "\n"
   ]
  },
  {
   "cell_type": "code",
<<<<<<< HEAD
   "execution_count": 15,
   "metadata": {},
   "outputs": [
    {
     "name": "stdout",
     "output_type": "stream",
     "text": [
      "Model: \"nn\"\n",
      "_________________________________________________________________\n",
      "Layer (type)                 Output Shape              Param #   \n",
      "=================================================================\n",
      "game_img (InputLayer)        [(None, 64, 64, 1)]       0         \n",
      "_________________________________________________________________\n",
      "conv2d_3 (Conv2D)            (None, 31, 31, 16)        160       \n",
      "_________________________________________________________________\n",
      "conv2d_4 (Conv2D)            (None, 15, 15, 32)        4640      \n",
      "_________________________________________________________________\n",
      "conv2d_5 (Conv2D)            (None, 7, 7, 64)          18496     \n",
      "_________________________________________________________________\n",
      "flatten_1 (Flatten)          (None, 3136)              0         \n",
      "_________________________________________________________________\n",
      "dense_2 (Dense)              (None, 256)               803072    \n",
      "_________________________________________________________________\n",
      "dense_3 (Dense)              (None, 4)                 1028      \n",
      "=================================================================\n",
      "Total params: 827,396\n",
      "Trainable params: 827,396\n",
      "Non-trainable params: 0\n",
      "_________________________________________________________________\n",
      "in get_symbolic_qvalues qvalues shape = (4, 4)\n"
     ]
    }
   ],
   "source": [
    "target_network = DQNAgent(\"target_network\", [4,64,64,1], n_actions)"
=======
   "execution_count": null,
   "metadata": {
    "collapsed": true
   },
   "outputs": [],
   "source": [
    "target_network = DQNAgent(\"target_network\", state_dim, n_actions)"
>>>>>>> 87a73886a358aa4bc0dae10efa7c7aabca3a70ac
   ]
  },
  {
   "cell_type": "code",
<<<<<<< HEAD
   "execution_count": 16,
   "metadata": {},
=======
   "execution_count": null,
   "metadata": {
    "collapsed": true
   },
>>>>>>> 87a73886a358aa4bc0dae10efa7c7aabca3a70ac
   "outputs": [],
   "source": [
    "def load_weigths_into_target_network(agent, target_network):\n",
    "    \"\"\" assign target_network.weights variables to their respective agent.weights values. \"\"\"\n",
<<<<<<< HEAD
    "    target_network.model.set_weights(agent.weights)\n",
    "    \n",
    "    \n",
    "    return True"
=======
    "    assigns = []\n",
    "    for w_agent, w_target in zip(agent.weights, target_network.weights):\n",
    "        assigns.append(tf.assign(w_target, w_agent, validate_shape=True))\n",
    "    # tf.get_default_session().run(assigns)\n",
    "    return assigns"
>>>>>>> 87a73886a358aa4bc0dae10efa7c7aabca3a70ac
   ]
  },
  {
   "cell_type": "code",
<<<<<<< HEAD
   "execution_count": 17,
   "metadata": {},
   "outputs": [
    {
     "data": {
      "text/plain": [
       "True"
      ]
     },
     "execution_count": 17,
     "metadata": {},
     "output_type": "execute_result"
    }
   ],
   "source": [
    "# create the tf copy graph only once.\n",
    "load_weigths_into_target_network(agent, target_network)"
=======
   "execution_count": null,
   "metadata": {
    "collapsed": true
   },
   "outputs": [],
   "source": [
    "# create the tf copy graph only once.\n",
    "copy_step = load_weigths_into_target_network(agent, target_network)\n",
    "sess.run(copy_step)\n",
    "# check that it works\n",
    "sess.run([tf.assert_equal(w, w_target)\n",
    "          for w, w_target in zip(agent.weights, target_network.weights)])\n",
    "print(\"It works!\")"
>>>>>>> 87a73886a358aa4bc0dae10efa7c7aabca3a70ac
   ]
  },
  {
   "cell_type": "markdown",
   "metadata": {},
   "source": [
    "### Learning with... Q-learning\n",
    "Here we write a function similar to `agent.update` from tabular q-learning."
   ]
  },
  {
<<<<<<< HEAD
   "cell_type": "raw",
   "metadata": {},
   "source": [
    "# placeholders that will be fed with exp_replay.sample(batch_size)\n",
    "obs_ph = tf.Variable(tf.ones(shape=(None,) + state_dim), tf.float32, shape=(None,) + state_dim)\n",
    "actions_ph = tf.Variable(tf.ones(shape=[None]), tf.int32, shape=[None])\n",
    "rewards_ph = tf.Variable(tf.ones(shape=[None]), tf.float32, shape=[None])\n",
    "next_obs_ph = tf.Variable(tf.ones(shape=(None,) + state_dim), tf.float32, shape=(None,) + state_dim)\n",
    "is_done_ph = tf.Variable(tf.ones(shape=[None]), tf.float32, shape=[None])\n",
=======
   "cell_type": "code",
   "execution_count": null,
   "metadata": {
    "collapsed": true
   },
   "outputs": [],
   "source": [
    "# placeholders that will be fed with exp_replay.sample(batch_size)\n",
    "obs_ph = tf.placeholder(tf.float32, shape=(None,) + state_dim)\n",
    "actions_ph = tf.placeholder(tf.int32, shape=[None])\n",
    "rewards_ph = tf.placeholder(tf.float32, shape=[None])\n",
    "next_obs_ph = tf.placeholder(tf.float32, shape=(None,) + state_dim)\n",
    "is_done_ph = tf.placeholder(tf.float32, shape=[None])\n",
>>>>>>> 87a73886a358aa4bc0dae10efa7c7aabca3a70ac
    "\n",
    "is_not_done = 1 - is_done_ph\n",
    "gamma = 0.99"
   ]
  },
  {
   "cell_type": "markdown",
   "metadata": {},
   "source": [
    "Take q-values for actions agent just took"
   ]
  },
  {
   "cell_type": "code",
<<<<<<< HEAD
   "execution_count": 21,
   "metadata": {},
   "outputs": [
    {
     "ename": "NameError",
     "evalue": "name 'obs_ph' is not defined",
     "output_type": "error",
     "traceback": [
      "\u001b[0;31m---------------------------------------------------------------------------\u001b[0m",
      "\u001b[0;31mNameError\u001b[0m                                 Traceback (most recent call last)",
      "\u001b[0;32m<ipython-input-21-e27421ff1bd6>\u001b[0m in \u001b[0;36m<module>\u001b[0;34m()\u001b[0m\n\u001b[0;32m----> 1\u001b[0;31m \u001b[0mprint\u001b[0m\u001b[0;34m(\u001b[0m\u001b[0mobs_ph\u001b[0m\u001b[0;34m)\u001b[0m\u001b[0;34m\u001b[0m\u001b[0;34m\u001b[0m\u001b[0m\n\u001b[0m\u001b[1;32m      2\u001b[0m \u001b[0mcurrent_qvalues\u001b[0m \u001b[0;34m=\u001b[0m \u001b[0magent\u001b[0m\u001b[0;34m.\u001b[0m\u001b[0mget_symbolic_qvalues\u001b[0m\u001b[0;34m(\u001b[0m\u001b[0mobs_ph\u001b[0m\u001b[0;34m)\u001b[0m\u001b[0;34m\u001b[0m\u001b[0;34m\u001b[0m\u001b[0m\n\u001b[1;32m      3\u001b[0m \u001b[0mcurrent_action_qvalues\u001b[0m \u001b[0;34m=\u001b[0m \u001b[0mtf\u001b[0m\u001b[0;34m.\u001b[0m\u001b[0mreduce_sum\u001b[0m\u001b[0;34m(\u001b[0m\u001b[0mtf\u001b[0m\u001b[0;34m.\u001b[0m\u001b[0mone_hot\u001b[0m\u001b[0;34m(\u001b[0m\u001b[0mactions_ph\u001b[0m\u001b[0;34m,\u001b[0m \u001b[0mn_actions\u001b[0m\u001b[0;34m)\u001b[0m \u001b[0;34m*\u001b[0m \u001b[0mcurrent_qvalues\u001b[0m\u001b[0;34m,\u001b[0m \u001b[0maxis\u001b[0m\u001b[0;34m=\u001b[0m\u001b[0;36m1\u001b[0m\u001b[0;34m)\u001b[0m\u001b[0;34m\u001b[0m\u001b[0;34m\u001b[0m\u001b[0m\n",
      "\u001b[0;31mNameError\u001b[0m: name 'obs_ph' is not defined"
     ]
    }
   ],
   "source": [
    "print(obs_ph)\n",
    "\n",
    "def current_action_qvalues(obs_ph, actions_ph, n_action):\n",
    "    current_qvalues = agent.get_symbolic_qvalues(obs_ph)\n",
    "    tf.reduce_sum(tf.one_hot(actions_ph, n_actions) * current_qvalues, axis=1)"
=======
   "execution_count": null,
   "metadata": {
    "collapsed": true
   },
   "outputs": [],
   "source": [
    "current_qvalues = agent.get_symbolic_qvalues(obs_ph)\n",
    "current_action_qvalues = tf.reduce_sum(tf.one_hot(\n",
    "    actions_ph, n_actions) * current_qvalues, axis=1)"
>>>>>>> 87a73886a358aa4bc0dae10efa7c7aabca3a70ac
   ]
  },
  {
   "cell_type": "markdown",
   "metadata": {},
   "source": [
    "Compute Q-learning TD error:\n",
    "\n",
    "$$ L = { 1 \\over N} \\sum_i [ Q_{\\theta}(s,a) - Q_{reference}(s,a) ] ^2 $$\n",
    "\n",
    "With Q-reference defined as\n",
    "\n",
    "$$ Q_{reference}(s,a) = r(s,a) + \\gamma \\cdot max_{a'} Q_{target}(s', a') $$\n",
    "\n",
    "Where\n",
    "* $Q_{target}(s',a')$ denotes q-value of next state and next action predicted by __target_network__\n",
    "* $s, a, r, s'$ are current state, action, reward and next state respectively\n",
    "* $\\gamma$ is a discount factor defined two cells above."
   ]
  },
  {
   "cell_type": "code",
   "execution_count": null,
   "metadata": {
    "collapsed": true
   },
   "outputs": [],
   "source": [
    "next_qvalues_target =  # YOUR CODE: compute q-values for NEXT states with target network\n",
    "# YOUR CODE: compute state values by taking max over next_qvalues_target for all actions\n",
    "next_state_values_target =\n",
    "reference_qvalues =  # YOUR CODE: compute Q_reference(s,a) as per formula above\n",
    "\n",
    "# Define loss function for sgd.\n",
    "td_loss = (current_action_qvalues - reference_qvalues) ** 2\n",
    "td_loss = tf.reduce_mean(td_loss)\n",
    "\n",
    "train_step = tf.train.AdamOptimizer(\n",
    "    1e-3).minimize(td_loss, var_list=agent.weights)"
   ]
  },
  {
   "cell_type": "code",
   "execution_count": null,
   "metadata": {
    "collapsed": true
   },
   "outputs": [],
   "source": [
    "sess.run(tf.global_variables_initializer())"
   ]
  },
  {
   "cell_type": "code",
   "execution_count": null,
   "metadata": {
    "collapsed": true
   },
   "outputs": [],
   "source": [
    "for chk_grad in tf.gradients(reference_qvalues, agent.weights):\n",
    "    error_msg = \"Reference q-values should have no gradient w.r.t. agent weights. Make sure you used target_network qvalues! \"\n",
    "    error_msg += \"If you know what you're doing, ignore this assert.\"\n",
    "    assert chk_grad is None or np.allclose(\n",
    "        sess.run(chk_grad), sess.run(chk_grad * 0)), error_msg\n",
    "\n",
    "assert tf.gradients(reference_qvalues, is_not_done)[\n",
    "    0] is not None, \"make sure you used is_not_done\"\n",
    "assert tf.gradients(reference_qvalues, rewards_ph)[\n",
    "    0] is not None, \"make sure you used rewards\"\n",
    "assert tf.gradients(reference_qvalues, next_obs_ph)[\n",
    "    0] is not None, \"make sure you used next states\"\n",
    "assert tf.gradients(reference_qvalues, obs_ph)[\n",
    "    0] is None, \"reference qvalues shouldn't depend on current observation!\"  # ignore if you're certain it's ok\n",
    "print(\"Splendid!\")"
   ]
  },
  {
   "cell_type": "markdown",
   "metadata": {},
   "source": [
    "### Main loop\n",
    "\n",
    "It's time to put everything together and see if it learns anything."
   ]
  },
  {
   "cell_type": "code",
   "execution_count": null,
   "metadata": {
    "collapsed": true
   },
   "outputs": [],
   "source": [
    "from tqdm import trange\n",
    "from IPython.display import clear_output\n",
    "import matplotlib.pyplot as plt\n",
    "from pandas import DataFrame\n",
    "moving_average = lambda x, span=100, **kw: DataFrame(\n",
    "    {'x': np.asarray(x)}).x.ewm(span=span, **kw).mean().values\n",
    "%matplotlib inline\n",
    "\n",
    "mean_rw_history = []\n",
    "td_loss_history = []"
   ]
  },
  {
   "cell_type": "code",
   "execution_count": null,
   "metadata": {
    "collapsed": true
   },
   "outputs": [],
   "source": [
    "exp_replay = ReplayBuffer(10**5)\n",
    "play_and_record(agent, env, exp_replay, n_steps=10000)\n",
    "\n",
    "\n",
    "def sample_batch(exp_replay, batch_size):\n",
    "    obs_batch, act_batch, reward_batch, next_obs_batch, is_done_batch = exp_replay.sample(\n",
    "        batch_size)\n",
    "    return {\n",
    "        obs_ph: obs_batch, actions_ph: act_batch, rewards_ph: reward_batch,\n",
    "        next_obs_ph: next_obs_batch, is_done_ph: is_done_batch\n",
    "    }"
   ]
  },
  {
   "cell_type": "code",
   "execution_count": null,
   "metadata": {
    "collapsed": true,
    "scrolled": true
   },
   "outputs": [],
   "source": [
    "for i in trange(10**5):\n",
    "\n",
    "    # play\n",
    "    play_and_record(agent, env, exp_replay, 10)\n",
    "\n",
    "    # train\n",
    "    _, loss_t = sess.run([train_step, td_loss],\n",
    "                         sample_batch(exp_replay, batch_size=64))\n",
    "    td_loss_history.append(loss_t)\n",
    "\n",
    "    # adjust agent parameters\n",
    "    if i % 500 == 0:\n",
    "        #load_weigths_into_target_network(agent, target_network)\n",
    "        # calling 'load_weights_into_target_network' repeatedly cause creating tf copy operator\n",
    "        # again and again, which bloat memory consumption along training step\n",
    "        # create'copy_step' once\n",
    "        sess.run(copy_step)\n",
    "        agent.epsilon = max(agent.epsilon * 0.99, 0.01)\n",
    "        mean_rw_history.append(evaluate(make_env(), agent, n_games=3))\n",
    "\n",
    "    if i % 100 == 0:\n",
    "        clear_output(True)\n",
    "        print(\"buffer size = %i, epsilon = %.5f\" %\n",
    "              (len(exp_replay), agent.epsilon))\n",
    "\n",
    "        plt.subplot(1, 2, 1)\n",
    "        plt.title(\"mean reward per game\")\n",
    "        plt.plot(mean_rw_history)\n",
    "        plt.grid()\n",
    "\n",
    "        assert not np.isnan(loss_t)\n",
    "        plt.figure(figsize=[12, 4])\n",
    "        plt.subplot(1, 2, 2)\n",
    "        plt.title(\"TD loss history (moving average)\")\n",
    "        plt.plot(moving_average(\n",
    "            np.array(td_loss_history), span=100, min_periods=100))\n",
    "        plt.grid()\n",
    "        plt.show()"
   ]
  },
  {
   "cell_type": "code",
   "execution_count": null,
   "metadata": {
    "collapsed": true
   },
   "outputs": [],
   "source": [
    "assert np.mean(mean_rw_history[-10:]) > 10.\n",
    "print(\"That's good enough for tutorial.\")"
   ]
  },
  {
   "cell_type": "markdown",
   "metadata": {},
   "source": [
    "__ How to interpret plots: __\n",
    "\n",
    "\n",
    "This aint no supervised learning so don't expect anything to improve monotonously. \n",
    "* __ TD loss __ is the MSE between agent's current Q-values and target Q-values. It may slowly increase or decrease, it's ok. The \"not ok\" behavior includes going NaN or stayng at exactly zero before agent has perfect performance.\n",
    "* __ mean reward__ is the expected sum of r(s,a) agent gets over the full game session. It will oscillate, but on average it should get higher over time (after a few thousand iterations...). \n",
    " * In basic q-learning implementation it takes 5-10k steps to \"warm up\" agent before it starts to get better.\n",
    "* __ buffer size__ - this one is simple. It should go up and cap at max size.\n",
    "* __ epsilon__ - agent's willingness to explore. If you see that agent's already at 0.01 epsilon before it's average reward is above 0 - __ it means you need to increase epsilon__. Set it back to some 0.2 - 0.5 and decrease the pace at which it goes down.\n",
    "* Also please ignore first 100-200 steps of each plot - they're just oscillations because of the way moving average works.\n",
    "\n",
    "At first your agent will lose quickly. Then it will learn to suck less and at least hit the ball a few times before it loses. Finally it will learn to actually score points.\n",
    "\n",
    "__Training will take time.__ A lot of it actually. An optimistic estimate is to say it's gonna start winning (average reward > 10) after 10k steps. \n",
    "\n",
    "But hey, look on the bright side of things:\n",
    "\n",
    "![img](https://github.com/yandexdataschool/Practical_RL/raw/master/yet_another_week/_resource/training.png)"
   ]
  },
  {
   "cell_type": "markdown",
   "metadata": {},
   "source": [
    "### Video"
   ]
  },
  {
   "cell_type": "code",
   "execution_count": null,
   "metadata": {
    "collapsed": true
   },
   "outputs": [],
   "source": [
    "# Don't forget to reset epsilon back to previous value if you want to go on training\n",
    "agent.epsilon = 0"
   ]
  },
  {
   "cell_type": "code",
   "execution_count": null,
   "metadata": {
    "collapsed": true,
    "scrolled": true
   },
   "outputs": [],
   "source": [
    "# record sessions\n",
    "import gym.wrappers\n",
    "env_monitor = gym.wrappers.Monitor(make_env(), directory=\"videos\", force=True)\n",
    "sessions = [evaluate(env_monitor, agent, n_games=1) for _ in range(100)]\n",
    "env_monitor.close()"
   ]
  },
  {
   "cell_type": "code",
   "execution_count": null,
   "metadata": {
    "collapsed": true
   },
   "outputs": [],
   "source": [
    "# show video\n",
    "from IPython.display import HTML\n",
    "import os\n",
    "\n",
    "video_names = list(\n",
    "    filter(lambda s: s.endswith(\".mp4\"), os.listdir(\"./videos/\")))\n",
    "\n",
    "HTML(\"\"\"\n",
    "<video width=\"640\" height=\"480\" controls>\n",
    "  <source src=\"{}\" type=\"video/mp4\">\n",
    "</video>\n",
    "\"\"\".format(\"./videos/\"+video_names[-1]))  # this may or may not be _last_ video. Try other indices"
   ]
  },
  {
   "cell_type": "markdown",
   "metadata": {},
   "source": [
    "## Assignment part I (5 pts)\n",
    "\n",
    "We'll start by implementing target network to stabilize training.\n",
    "\n",
    "To do that you should use TensorFlow functionality. \n",
    "\n",
    "We recommend thoroughly debugging your code on simple tests before applying it in atari dqn."
   ]
  },
  {
   "cell_type": "markdown",
   "metadata": {},
   "source": [
    "## Bonus I (2+ pts)\n",
    "\n",
    "Implement and train double q-learning.\n",
    "\n",
    "This task contains of\n",
    "* Implementing __double q-learning__ or __dueling q-learning__ or both (see tips below)\n",
    "* Training a network till convergence\n",
    "  * Full points will be awwarded if your network gets average score of >=10 (see \"evaluating results\")\n",
    "  * Higher score = more points as usual\n",
    "  * If you're running out of time, it's okay to submit a solution that hasn't converged yet and updating it when it converges. _Lateness penalty will not increase for second submission_, so submitting first one in time gets you no penalty.\n",
    "\n",
    "\n",
    "#### Tips:\n",
    "* Implementing __double q-learning__ shouldn't be a problem if you've already have target networks in place.\n",
    "  * You will probably need `tf.argmax` to select best actions\n",
    "  * Here's an original [article](https://arxiv.org/abs/1509.06461)\n",
    "\n",
    "* __Dueling__ architecture is also quite straightforward if you have standard DQN.\n",
    "  * You will need to change network architecture, namely the q-values layer\n",
    "  * It must now contain two heads: V(s) and A(s,a), both dense layers\n",
    "  * You should then add them up via elemwise sum layer.\n",
    "  * Here's an [article](https://arxiv.org/pdf/1511.06581.pdf)"
   ]
  },
  {
   "cell_type": "markdown",
   "metadata": {},
   "source": [
    "## Bonus II (5+ pts): Prioritized experience replay\n",
    "\n",
    "In this section, you're invited to implement prioritized experience replay\n",
    "\n",
    "* You will probably need to provide a custom data structure\n",
    "* Once pool.update is called, collect the pool.experience_replay.observations, actions, rewards and is_alive and store them in your data structure\n",
    "* You can now sample such transitions in proportion to the error (see [article](https://arxiv.org/abs/1511.05952)) for training.\n",
    "\n",
    "It's probably more convenient to explicitly declare inputs for \"sample observations\", \"sample actions\" and so on to plug them into q-learning.\n",
    "\n",
    "Prioritized (and even normal) experience replay should greatly reduce amount of game sessions you need to play in order to achieve good performance. \n",
    "\n",
    "While it's effect on runtime is limited for atari, more complicated envs (further in the course) will certainly benefit for it.\n",
    "\n",
    "Prioritized experience replay only supports off-policy algorithms, so pls enforce `n_steps=1` in your q-learning reference computation (default is 10)."
   ]
  },
  {
   "cell_type": "code",
   "execution_count": null,
   "metadata": {
    "collapsed": true
   },
   "outputs": [],
   "source": []
  }
 ],
 "metadata": {
  "anaconda-cloud": {},
  "kernelspec": {
   "display_name": "Python 3",
   "language": "python",
   "name": "python3"
  },
  "language_info": {
   "codemirror_mode": {
    "name": "ipython",
    "version": 3
   },
   "file_extension": ".py",
   "mimetype": "text/x-python",
   "name": "python",
   "nbconvert_exporter": "python",
   "pygments_lexer": "ipython3",
   "version": "3.6.8"
  }
 },
 "nbformat": 4,
 "nbformat_minor": 1
}
