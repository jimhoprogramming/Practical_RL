{
 "cells": [
  {
   "cell_type": "code",
   "execution_count": 1,
   "metadata": {},
   "outputs": [],
   "source": [
    "# # in google colab uncomment this\n",
    "\n",
    "# import os\n",
    "\n",
    "# os.system('apt-get install -y xvfb')\n",
    "# os.system('wget https://raw.githubusercontent.com/yandexdataschool/Practical_DL/fall18/xvfb -O ../xvfb')\n",
    "# os.system('apt-get install -y python-opengl ffmpeg')\n",
    "# os.system('pip install pyglet==1.2.4')\n",
    "\n",
    "# os.system('python -m pip install -U pygame --user')\n",
    "\n",
    "# print('setup complete')\n",
    "\n",
    "# XVFB will be launched if you run on a server\n",
    "import os\n",
    "if type(os.environ.get(\"DISPLAY\")) is not str or len(os.environ.get(\"DISPLAY\")) == 0:\n",
    "    !bash ../xvfb start\n",
    "    %env DISPLAY = : 1"
   ]
  },
  {
   "cell_type": "markdown",
   "metadata": {},
   "source": [
    "# Implementing Advantage-Actor Critic (A2C)"
   ]
  },
  {
   "cell_type": "markdown",
   "metadata": {},
   "source": [
    "In this notebook you will implement Advantage Actor Critic algorithm that trains on a batch of Atari 2600 environments running in parallel. \n",
    "\n",
    "Firstly, we will use environment wrappers implemented in file `atari_wrappers.py`. These wrappers preprocess observations (resize, grayscal, take max between frames, skip frames and stack them together) and rewards. Some of the wrappers help to reset the environment and pass `done` flag equal to `True` when agent dies.\n",
    "File `env_batch.py` includes implementation of `ParallelEnvBatch` class that allows to run multiple environments in parallel. To create an environment we can use `nature_dqn_env` function. Note that if you are using \n",
    "PyTorch and not using `tensorboardX` you will need to implement a wrapper that will log **raw** total rewards that the *unwrapped* environment returns and redefine the implemention of `nature_dqn_env` function here. \n",
    "\n"
   ]
  },
  {
   "cell_type": "code",
   "execution_count": 2,
   "metadata": {},
   "outputs": [
    {
     "name": "stdout",
     "output_type": "stream",
     "text": [
      "entry_point is :gym.envs.atari:AtariEnv\n",
      "entry_point is :gym.envs.atari:AtariEnv\n"
     ]
    },
    {
     "name": "stderr",
     "output_type": "stream",
     "text": [
      "/home/jim/.local/lib/python3.6/site-packages/gym/envs/registration.py:14: PkgResourcesDeprecationWarning: Parameters to load are deprecated.  Call .resolve and .require separately.\n",
      "  result = entry_point.load(require = False)\n"
     ]
    },
    {
     "name": "stdout",
     "output_type": "stream",
     "text": [
      "entry_point is :gym.envs.atari:AtariEnv\n"
     ]
    },
    {
     "name": "stderr",
     "output_type": "stream",
     "text": [
      "/home/jim/.local/lib/python3.6/site-packages/gym/envs/registration.py:14: PkgResourcesDeprecationWarning: Parameters to load are deprecated.  Call .resolve and .require separately.\n",
      "  result = entry_point.load(require = False)\n",
      "/home/jim/.local/lib/python3.6/site-packages/gym/envs/registration.py:14: PkgResourcesDeprecationWarning: Parameters to load are deprecated.  Call .resolve and .require separately.\n",
      "  result = entry_point.load(require = False)\n"
     ]
    },
    {
     "name": "stdout",
     "output_type": "stream",
     "text": [
      "entry_point is :gym.envs.atari:AtariEnv\n",
      "entry_point is :gym.envs.atari:AtariEnv\n",
      "entry_point is :gym.envs.atari:AtariEnv\n"
     ]
    },
    {
     "name": "stderr",
     "output_type": "stream",
     "text": [
      "/home/jim/.local/lib/python3.6/site-packages/gym/envs/registration.py:14: PkgResourcesDeprecationWarning: Parameters to load are deprecated.  Call .resolve and .require separately.\n",
      "  result = entry_point.load(require = False)\n",
      "/home/jim/.local/lib/python3.6/site-packages/gym/envs/registration.py:14: PkgResourcesDeprecationWarning: Parameters to load are deprecated.  Call .resolve and .require separately.\n",
      "  result = entry_point.load(require = False)\n"
     ]
    },
    {
     "name": "stdout",
     "output_type": "stream",
     "text": [
      "entry_point is :gym.envs.atari:AtariEnv\n",
      "entry_point is :gym.envs.atari:AtariEnv\n"
     ]
    },
    {
     "name": "stderr",
     "output_type": "stream",
     "text": [
      "/home/jim/.local/lib/python3.6/site-packages/gym/envs/registration.py:14: PkgResourcesDeprecationWarning: Parameters to load are deprecated.  Call .resolve and .require separately.\n",
      "  result = entry_point.load(require = False)\n",
      "/home/jim/.local/lib/python3.6/site-packages/gym/envs/registration.py:14: PkgResourcesDeprecationWarning: Parameters to load are deprecated.  Call .resolve and .require separately.\n",
      "  result = entry_point.load(require = False)\n",
      "/home/jim/.local/lib/python3.6/site-packages/gym/envs/registration.py:14: PkgResourcesDeprecationWarning: Parameters to load are deprecated.  Call .resolve and .require separately.\n",
      "  result = entry_point.load(require = False)\n"
     ]
    },
    {
     "name": "stdout",
     "output_type": "stream",
     "text": [
      "<env_batch.SpaceBatch object at 0x7f574f72f898>\n",
      "[4 5 0 3 3 3 1 3]\n"
     ]
    }
   ],
   "source": [
    "import numpy as np\n",
    "from atari_wrappers import nature_dqn_env\n",
    "\n",
    "\n",
    "env = nature_dqn_env(\"SpaceInvadersNoFrameskip-v4\", nenvs=8)\n",
    "obs = env.reset()\n",
    "assert obs.shape == (8, 84, 84, 4) # 8 个环境并行，84x84单色，4帧合并 \n",
    "assert obs.dtype == np.uint8\n",
    "print(env.action_space) # Discrete(6) 0-5\n",
    "print(env.action_space.sample()) # 8 个环境并行 ,每个连续按动同一个动作 "
   ]
  },
  {
   "cell_type": "markdown",
   "metadata": {},
   "source": [
    "Next, we will need to implement a model that predicts logits and values. It is suggested that you use the same model as in [Nature DQN paper](https://web.stanford.edu/class/psych209/Readings/MnihEtAlHassibis15NatureControlDeepRL.pdf) with a modification that instead of having a single output layer, it will have two output layers taking as input the output of the last hidden layer. **Note** that this model is different from the model you used in homework where you implemented DQN. You can use your favorite deep learning framework here. We suggest that you use orthogonal initialization with parameter $\\sqrt{2}$ for kernels and initialize biases with zeros. "
   ]
  },
  {
   "cell_type": "code",
   "execution_count": 34,
   "metadata": {
    "code_folding": [
     20
    ]
   },
   "outputs": [
    {
     "name": "stdout",
     "output_type": "stream",
     "text": [
      "my_model_class(\n",
      "  (net): HybridSequential(\n",
      "    (0): Conv2D(None -> 4, kernel_size=(3, 3), stride=(1, 1))\n",
      "    (1): Conv2D(None -> 16, kernel_size=(3, 3), stride=(1, 1))\n",
      "    (2): Conv2D(None -> 16, kernel_size=(2, 2), stride=(1, 1))\n",
      "    (3): Conv2D(None -> 8, kernel_size=(2, 2), stride=(1, 1))\n",
      "    (4): Conv2D(None -> 4, kernel_size=(3, 3), stride=(1, 1))\n",
      "    (5): AvgPool2D(size=(2, 2), stride=(2, 2), padding=(0, 0), ceil_mode=False, global_pool=False, pool_type=avg, layout=NCHW)\n",
      "  )\n",
      "  (actions_conv2d): Conv2D(None -> 1, kernel_size=(3, 3), stride=(1, 1))\n",
      "  (actions_desen): Dense(None -> 6, Activation(relu))\n",
      "  (values_conv2d): Conv2D(None -> 1, kernel_size=(3, 3), stride=(1, 1))\n",
      "  (values_desen): Dense(None -> 1, Activation(sigmoid))\n",
      ")\n"
     ]
    }
   ],
   "source": [
    "# import tensorflow as torch\n",
    "# import torch as tf\n",
    "import mxnet as mx\n",
    "#<Define your model here>\n",
    "class my_model_class(mx.gluon.nn.HybridBlock):\n",
    "    def __init__(self, **kwargs):\n",
    "        super(my_model_class, self).__init__(**kwargs)\n",
    "        self.net = mx.gluon.nn.HybridSequential()\n",
    "        self.net.add(mx.gluon.nn.Conv2D(channels=4,layout=\"NCHW\",kernel_size=3))\n",
    "        self.net.add(mx.gluon.nn.Conv2D(channels=16,layout=\"NCHW\",kernel_size=3))\n",
    "        self.net.add(mx.gluon.nn.Conv2D(channels=16,layout=\"NCHW\",kernel_size=2))\n",
    "        self.net.add(mx.gluon.nn.Conv2D(channels=8,layout=\"NCHW\",kernel_size=2))\n",
    "        self.net.add(mx.gluon.nn.Conv2D(channels=4,layout=\"NCHW\",kernel_size=3))\n",
    "        self.net.add(mx.gluon.nn.AvgPool2D(layout=\"NCHW\",pool_size=2))\n",
    "        #\n",
    "        self.actions_conv2d = mx.gluon.nn.Conv2D(channels=1,layout=\"NCHW\",kernel_size=3)\n",
    "        self.actions_desen = mx.gluon.nn.Dense(6,activation='relu')\n",
    "        #\n",
    "        self.values_conv2d = mx.gluon.nn.Conv2D(channels=1,layout=\"NCHW\",kernel_size=3)\n",
    "        self.values_desen = mx.gluon.nn.Dense(1,activation='sigmoid')\n",
    "    def hybrid_forward(self,F,x):\n",
    "        middle_x = self.net(x)\n",
    "        y_actions = self.actions_conv2d(middle_x)\n",
    "        y_actions = self.actions_desen(y_actions)\n",
    "        y_values = self.values_conv2d(middle_x)\n",
    "        y_values = self.values_desen(y_values)\n",
    "        return y_actions, y_values\n",
    "\n",
    "model = my_model_class()\n",
    "print(model)\n",
    "model.initialize(init=mx.init.Xavier())\n",
    "model.hybridize()"
   ]
  },
  {
   "cell_type": "markdown",
   "metadata": {},
   "source": [
    "You will also need to define and use a policy that wraps the model. While the model computes logits for all actions, the policy will sample actions and also compute their log probabilities.  `policy.act` should return a dictionary of all the arrays that are needed to interact with an environment and train the model.\n",
    " Note that actions must be an `np.ndarray` while the other\n",
    "tensors need to have the type determined by your deep learning framework. "
   ]
  },
  {
   "cell_type": "code",
   "execution_count": 40,
   "metadata": {},
   "outputs": [
    {
     "name": "stdout",
     "output_type": "stream",
     "text": [
      "(8, 4, 48, 48)\n"
     ]
    },
    {
     "data": {
      "text/plain": [
       "{'logits': \n",
       " [[7.8249885e-31 9.1588831e-01 7.8249885e-31 2.9682927e-27 8.4111705e-02\n",
       "   7.8249885e-31]\n",
       "  [1.0681485e-19 3.4122545e-02 3.9990695e-23 1.1608352e-13 9.6587747e-01\n",
       "   3.9990695e-23]\n",
       "  [1.6666667e-01 1.6666667e-01 1.6666667e-01 1.6666667e-01 1.6666667e-01\n",
       "   1.6666667e-01]\n",
       "  [9.6887113e-31 1.0000000e+00 5.0957469e-31 5.0957469e-31 1.0348655e-30\n",
       "   5.0957469e-31]\n",
       "  [3.4279261e-02 2.1384282e-07 2.1384282e-07 2.1384282e-07 9.6571976e-01\n",
       "   2.1384282e-07]\n",
       "  [2.3978490e-09 2.3978490e-09 2.3978490e-09 1.0000000e+00 2.3978490e-09\n",
       "   2.3978490e-09]\n",
       "  [1.3233224e-01 3.9723707e-14 3.9723707e-14 8.6766779e-01 3.9723707e-14\n",
       "   3.9723707e-14]\n",
       "  [1.7453045e-02 1.7453045e-02 1.7453045e-02 4.7650632e-01 4.5368150e-01\n",
       "   1.7453045e-02]]\n",
       " <NDArray 8x6 @cpu(0)>, 'actions': [4, 4, 5, 1, 4, 3, 3, 4], 'log_probs': \n",
       " [[-6.9322815e+01 -8.7860882e-02 -6.9322815e+01 -6.1081810e+01\n",
       "   -2.4756095e+00 -6.9322815e+01]\n",
       "  [-4.3683189e+01 -3.3777969e+00 -5.1573395e+01 -2.9784466e+01\n",
       "   -3.4718312e-02 -5.1573395e+01]\n",
       "  [-1.7917595e+00 -1.7917595e+00 -1.7917595e+00 -1.7917595e+00\n",
       "   -1.7917595e+00 -1.7917595e+00]\n",
       "  [-6.9109177e+01  0.0000000e+00 -6.9751732e+01 -6.9751732e+01\n",
       "   -6.9043282e+01 -6.9751732e+01]\n",
       "  [-3.3732145e+00 -1.5358025e+01 -1.5358025e+01 -1.5358025e+01\n",
       "   -3.4881458e-02 -1.5358025e+01]\n",
       "  [-1.9848694e+01 -1.9848694e+01 -1.9848694e+01  0.0000000e+00\n",
       "   -1.9848694e+01 -1.9848694e+01]\n",
       "  [-2.0224397e+00 -3.0856829e+01 -3.0856829e+01 -1.4194645e-01\n",
       "   -3.0856829e+01 -3.0856829e+01]\n",
       "  [-4.0482411e+00 -4.0482411e+00 -4.0482411e+00 -7.4127430e-01\n",
       "   -7.9035991e-01 -4.0482411e+00]]\n",
       " <NDArray 8x6 @cpu(0)>, 'values': \n",
       " [[3.6971137e-15]\n",
       "  [1.0000000e+00]\n",
       "  [1.0000000e+00]\n",
       "  [9.9997854e-01]\n",
       "  [1.0000000e+00]\n",
       "  [9.9999964e-01]\n",
       "  [1.0000000e+00]\n",
       "  [1.0000000e+00]]\n",
       " <NDArray 8x1 @cpu(0)>}"
      ]
     },
     "execution_count": 40,
     "metadata": {},
     "output_type": "execute_result"
    }
   ],
   "source": [
    "class Policy:\n",
    "  def __init__(self, model):\n",
    "    self.model = model\n",
    "    \n",
    "  def act(self, inputs):\n",
    "    #<Implement policy by calling model, sampling actions and computing their log probs>\n",
    "    # Should return a dict containing keys ['actions', 'logits', 'log_probs', 'values'].\n",
    "    y_actions, y_values = self.model(inputs)\n",
    "    #print(y_actions.shape)\n",
    "    #print(y_values.shape)\n",
    "    rel = {}\n",
    "    logits = mx.nd.softmax(y_actions,axis=-1)\n",
    "    #print(logits.shape)\n",
    "    rel['logits'] = logits\n",
    "    m,n = logits.shape\n",
    "    rel['actions'] = []\n",
    "    for i in np.arange(m):\n",
    "        probs = logits[i,:].asnumpy()\n",
    "        #print(probs)\n",
    "        rel['actions'].append(np.random.choice(np.array([0,1,2,3,4,5]),1,p = probs)[0])\n",
    "    #print(rel['actions'])\n",
    "    log_probs = mx.nd.log_softmax(y_actions,axis=-1)\n",
    "    rel['log_probs'] = log_probs\n",
    "    rel['values'] = y_values\n",
    "    return rel\n",
    "\n",
    "test_policy = Policy(model)\n",
    "inputs = mx.nd.random.uniform(low=0, high=255,shape = (8,4,48,48),dtype='float32')\n",
    "print(inputs.shape)\n",
    "test_policy.act(inputs)"
   ]
  },
  {
   "cell_type": "markdown",
   "metadata": {},
   "source": [
    "Next will pass the environment and policy to a runner that collects partial trajectories from the environment. \n",
    "The class that does is is already implemented for you."
   ]
  },
  {
   "cell_type": "code",
   "execution_count": null,
   "metadata": {
    "collapsed": true
   },
   "outputs": [],
   "source": [
    "from runners import EnvRunner"
   ]
  },
  {
   "cell_type": "markdown",
   "metadata": {},
   "source": [
    "This runner interacts with the environment for a given number of steps and returns a dictionary containing\n",
    "keys \n",
    "\n",
    "* 'observations' \n",
    "* 'rewards' \n",
    "* 'resets'\n",
    "* 'actions'\n",
    "* all other keys that you defined in `Policy`\n",
    "\n",
    "under each of these keys there is a python `list` of interactions with the environment of specified length $T$ &mdash; the size of partial trajectory. "
   ]
  },
  {
   "cell_type": "markdown",
   "metadata": {},
   "source": [
    "To train the part of the model that predicts state values you will need to compute the value targets. \n",
    "Any callable could be passed to `EnvRunner` to be applied to each partial trajectory after it is collected. \n",
    "Thus, we can implement and use `ComputeValueTargets` callable. \n",
    "The formula for the value targets is simple:\n",
    "\n",
    "$$\n",
    "\\hat v(s_t) = \\sum_{t'=0}^{T - 1}\\gamma^{t'}r_{t+t'} + \\gamma^T \\hat{v}(s_{t+T}),\n",
    "$$\n",
    "\n",
    "In implementation, however, do not forget to use \n",
    "`trajectory['resets']` flags to check if you need to add the value targets at the next step when \n",
    "computing value targets for the current step. You can access `trajectory['state']['latest_observation']`\n",
    "to get last observations in partial trajectory &mdash; $s_{t+T}$."
   ]
  },
  {
   "cell_type": "code",
   "execution_count": null,
   "metadata": {
    "collapsed": true
   },
   "outputs": [],
   "source": [
    "class ComputeValueTargets:\n",
    "  def __init__(self, policy, gamma=0.99):\n",
    "    self.policy = policy\n",
    "    \n",
    "  def __call__(self, trajectory):\n",
    "    # This method should modify trajectory inplace by adding \n",
    "    # an item with key 'value_targets' to it. \n",
    "    <Compute value targets for a given partial trajectory>"
   ]
  },
  {
   "cell_type": "markdown",
   "metadata": {},
   "source": [
    "After computing value targets we will transform lists of interactions into tensors\n",
    "with the first dimension `batch_size` which is equal to `T * nenvs`, i.e. you essentially need\n",
    "to flatten the first two dimensions. "
   ]
  },
  {
   "cell_type": "code",
   "execution_count": null,
   "metadata": {
    "collapsed": true
   },
   "outputs": [],
   "source": [
    "class MergeTimeBatch:\n",
    "  \"\"\" Merges first two axes typically representing time and env batch. \"\"\"\n",
    "  def __call__(self, trajectory):\n",
    "    # Modify trajectory inplace. \n",
    "    <TODO: implement>"
   ]
  },
  {
   "cell_type": "code",
   "execution_count": null,
   "metadata": {
    "collapsed": true
   },
   "outputs": [],
   "source": [
    "model = <Create your model here>\n",
    "policy = Policy(model)\n",
    "runner = EnvRunner(env, policy, nsteps=5,\n",
    "                   transforms=[ComputeValueTargets(),\n",
    "                               MergeTimeBatch()])"
   ]
  },
  {
   "cell_type": "markdown",
   "metadata": {},
   "source": [
    "Now is the time to implement the advantage actor critic algorithm itself. You can look into your lecture,\n",
    "[Mnih et al. 2016](https://arxiv.org/abs/1602.01783) paper, and [lecture](https://www.youtube.com/watch?v=Tol_jw5hWnI&list=PLkFD6_40KJIxJMR-j5A1mkxK26gh_qg37&index=20) by Sergey Levine."
   ]
  },
  {
   "cell_type": "code",
   "execution_count": null,
   "metadata": {
    "collapsed": true
   },
   "outputs": [],
   "source": [
    "class A2C:\n",
    "  def __init__(self,\n",
    "               policy,\n",
    "               optimizer,\n",
    "               value_loss_coef=0.25,\n",
    "               entropy_coef=0.01,\n",
    "               max_grad_norm=0.5):\n",
    "    self.policy = policy\n",
    "    self.optimizer = optimizer\n",
    "    self.value_loss_coef = value_loss_coef\n",
    "    self.entropy_coef = entropy_coef\n",
    "    self.max_grad_norm = max_grad_norm\n",
    "    \n",
    "  def policy_loss(self, trajectory):\n",
    "    # You will need to compute advantages here. \n",
    "    <TODO: implement>\n",
    "    \n",
    "  def value_loss(self, trajectory):\n",
    "    <TODO: implement>\n",
    "    \n",
    "  def loss(self, trajectory):\n",
    "    <TODO: implement>\n",
    "      \n",
    "  def step(self, trajectory):\n",
    "    <TODO: implement>"
   ]
  },
  {
   "cell_type": "markdown",
   "metadata": {},
   "source": [
    "Now you can train your model. With reasonable hyperparameters training on a single GTX1080 for 10 million steps across all batched environments (which translates to about 5 hours of wall clock time)\n",
    "it should be possible to achieve *average raw reward over last 100 episodes* (the average is taken over 100 last \n",
    "episodes in each environment in the batch) of about 600. You should plot this quantity with respect to \n",
    "`runner.step_var` &mdash; the number of interactions with all environments. It is highly \n",
    "encouraged to also provide plots of the following quantities (these are useful for debugging as well):\n",
    "\n",
    "* [Coefficient of Determination](https://en.wikipedia.org/wiki/Coefficient_of_determination) between \n",
    "value targets and value predictions\n",
    "* Entropy of the policy $\\pi$\n",
    "* Value loss\n",
    "* Policy loss\n",
    "* Value targets\n",
    "* Value predictions\n",
    "* Gradient norm\n",
    "* Advantages\n",
    "* A2C loss\n",
    "\n",
    "For optimization we suggest you use RMSProp with learning rate starting from 7e-4 and linearly decayed to 0, smoothing constant (alpha in PyTorch and decay in TensorFlow) equal to 0.99 and epsilon equal to 1e-5."
   ]
  },
  {
   "cell_type": "code",
   "execution_count": null,
   "metadata": {
    "collapsed": true
   },
   "outputs": [],
   "source": [
    "a2c = <Create instance of the algorithm> \n",
    "\n",
    "<Write your training loop>"
   ]
  }
 ],
 "metadata": {
  "kernelspec": {
   "display_name": "Python 3",
   "language": "python",
   "name": "python3"
  },
  "language_info": {
   "codemirror_mode": {
    "name": "ipython",
    "version": 3
   },
   "file_extension": ".py",
   "mimetype": "text/x-python",
   "name": "python",
   "nbconvert_exporter": "python",
   "pygments_lexer": "ipython3",
   "version": "3.6.9"
  }
 },
 "nbformat": 4,
 "nbformat_minor": 2
}
