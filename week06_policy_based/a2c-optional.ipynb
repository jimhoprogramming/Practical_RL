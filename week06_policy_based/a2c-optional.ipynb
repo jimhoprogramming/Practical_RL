{
 "cells": [
  {
   "cell_type": "code",
   "execution_count": 1,
   "metadata": {},
   "outputs": [],
   "source": [
    "# # in google colab uncomment this\n",
    "\n",
    "# import os\n",
    "\n",
    "# os.system('apt-get install -y xvfb')\n",
    "# os.system('wget https://raw.githubusercontent.com/yandexdataschool/Practical_DL/fall18/xvfb -O ../xvfb')\n",
    "# os.system('apt-get install -y python-opengl ffmpeg')\n",
    "# os.system('pip install pyglet==1.2.4')\n",
    "\n",
    "# os.system('python -m pip install -U pygame --user')\n",
    "\n",
    "# print('setup complete')\n",
    "\n",
    "# XVFB will be launched if you run on a server\n",
    "import os\n",
    "if type(os.environ.get(\"DISPLAY\")) is not str or len(os.environ.get(\"DISPLAY\")) == 0:\n",
    "    !bash ../xvfb start\n",
    "    %env DISPLAY = : 1"
   ]
  },
  {
   "cell_type": "markdown",
   "metadata": {},
   "source": [
    "# Implementing Advantage-Actor Critic (A2C)"
   ]
  },
  {
   "cell_type": "markdown",
   "metadata": {},
   "source": [
    "In this notebook you will implement Advantage Actor Critic algorithm that trains on a batch of Atari 2600 environments running in parallel. \n",
    "\n",
    "Firstly, we will use environment wrappers implemented in file `atari_wrappers.py`. These wrappers preprocess observations (resize, grayscal, take max between frames, skip frames and stack them together) and rewards. Some of the wrappers help to reset the environment and pass `done` flag equal to `True` when agent dies.\n",
    "File `env_batch.py` includes implementation of `ParallelEnvBatch` class that allows to run multiple environments in parallel. To create an environment we can use `nature_dqn_env` function. Note that if you are using \n",
    "PyTorch and not using `tensorboardX` you will need to implement a wrapper that will log **raw** total rewards that the *unwrapped* environment returns and redefine the implemention of `nature_dqn_env` function here. \n",
    "\n"
   ]
  },
  {
   "cell_type": "code",
   "execution_count": 8,
   "metadata": {},
   "outputs": [
    {
     "name": "stdout",
     "output_type": "stream",
     "text": [
      "entry_point is :gym.envs.atari:AtariEnv\n"
     ]
    },
    {
     "name": "stderr",
     "output_type": "stream",
     "text": [
      "/home/jim/.local/lib/python3.6/site-packages/gym/envs/registration.py:14: PkgResourcesDeprecationWarning: Parameters to load are deprecated.  Call .resolve and .require separately.\n",
      "  result = entry_point.load(require = False)\n"
     ]
    },
    {
     "name": "stdout",
     "output_type": "stream",
     "text": [
      "entry_point is :gym.envs.atari:AtariEnv\n",
      "entry_point is :gym.envs.atari:AtariEnv\n",
      "entry_point is :gym.envs.atari:AtariEnv\n",
      "entry_point is :gym.envs.atari:AtariEnv\n",
      "entry_point is :gym.envs.atari:AtariEnv\n"
     ]
    },
    {
     "name": "stderr",
     "output_type": "stream",
     "text": [
      "/home/jim/.local/lib/python3.6/site-packages/gym/envs/registration.py:14: PkgResourcesDeprecationWarning: Parameters to load are deprecated.  Call .resolve and .require separately.\n",
      "  result = entry_point.load(require = False)\n"
     ]
    },
    {
     "name": "stdout",
     "output_type": "stream",
     "text": [
      "entry_point is :gym.envs.atari:AtariEnv\n"
     ]
    },
    {
     "name": "stderr",
     "output_type": "stream",
     "text": [
      "/home/jim/.local/lib/python3.6/site-packages/gym/envs/registration.py:14: PkgResourcesDeprecationWarning: Parameters to load are deprecated.  Call .resolve and .require separately.\n",
      "  result = entry_point.load(require = False)\n",
      "/home/jim/.local/lib/python3.6/site-packages/gym/envs/registration.py:14: PkgResourcesDeprecationWarning: Parameters to load are deprecated.  Call .resolve and .require separately.\n",
      "  result = entry_point.load(require = False)\n",
      "/home/jim/.local/lib/python3.6/site-packages/gym/envs/registration.py:14: PkgResourcesDeprecationWarning: Parameters to load are deprecated.  Call .resolve and .require separately.\n",
      "  result = entry_point.load(require = False)\n",
      "/home/jim/.local/lib/python3.6/site-packages/gym/envs/registration.py:14: PkgResourcesDeprecationWarning: Parameters to load are deprecated.  Call .resolve and .require separately.\n",
      "  result = entry_point.load(require = False)\n",
      "/home/jim/.local/lib/python3.6/site-packages/gym/envs/registration.py:14: PkgResourcesDeprecationWarning: Parameters to load are deprecated.  Call .resolve and .require separately.\n",
      "  result = entry_point.load(require = False)\n"
     ]
    },
    {
     "name": "stdout",
     "output_type": "stream",
     "text": [
      "entry_point is :gym.envs.atari:AtariEnv\n"
     ]
    },
    {
     "name": "stderr",
     "output_type": "stream",
     "text": [
      "/home/jim/.local/lib/python3.6/site-packages/gym/envs/registration.py:14: PkgResourcesDeprecationWarning: Parameters to load are deprecated.  Call .resolve and .require separately.\n",
      "  result = entry_point.load(require = False)\n"
     ]
    },
    {
     "name": "stdout",
     "output_type": "stream",
     "text": [
      "<env_batch.SpaceBatch object at 0x7fac0b2e78d0>\n",
      "[4 5 0 3 3 3 1 3]\n"
     ]
    }
   ],
   "source": [
    "import numpy as np\n",
    "from atari_wrappers import nature_dqn_env\n",
    "\n",
    "\n",
    "env = nature_dqn_env(\"SpaceInvadersNoFrameskip-v4\", nenvs=8)\n",
    "obs = env.reset()\n",
    "assert obs.shape == (8, 84, 84, 4) # 8 个环境并行，84x84单色，4帧合并 \n",
    "assert obs.dtype == np.uint8\n",
    "print(env.action_space) # Discrete(6) 0-5\n",
    "print(env.action_space.sample()) # 8 个环境并行 ,每个连续按动同一个动作 "
   ]
  },
  {
   "cell_type": "markdown",
   "metadata": {},
   "source": [
    "Next, we will need to implement a model that predicts logits and values. It is suggested that you use the same model as in [Nature DQN paper](https://web.stanford.edu/class/psych209/Readings/MnihEtAlHassibis15NatureControlDeepRL.pdf) with a modification that instead of having a single output layer, it will have two output layers taking as input the output of the last hidden layer. **Note** that this model is different from the model you used in homework where you implemented DQN. You can use your favorite deep learning framework here. We suggest that you use orthogonal initialization with parameter $\\sqrt{2}$ for kernels and initialize biases with zeros. "
   ]
  },
  {
   "cell_type": "code",
   "execution_count": 33,
   "metadata": {},
   "outputs": [
    {
     "name": "stdout",
     "output_type": "stream",
     "text": [
      "my_model_class(\n",
      "  (net): HybridSequential(\n",
      "    (0): Conv2D(3 -> 8, kernel_size=(3, 3), stride=(1, 1))\n",
      "    (1): Conv2D(3 -> 16, kernel_size=(3, 3), stride=(1, 1))\n",
      "    (2): Conv2D(2 -> 16, kernel_size=(2, 2), stride=(1, 1))\n",
      "    (3): Conv2D(2 -> 8, kernel_size=(2, 2), stride=(1, 1))\n",
      "    (4): Conv2D(3 -> 4, kernel_size=(3, 3), stride=(1, 1))\n",
      "    (5): AvgPool2D(size=(2, 2), stride=(2, 2), padding=(0, 0), ceil_mode=False, global_pool=False, pool_type=avg, layout=NHWC)\n",
      "  )\n",
      "  (actions_conv2d): Conv2D(3 -> 1, kernel_size=(3, 3), stride=(1, 1))\n",
      "  (actions_desen): Dense(None -> 6, Activation(relu))\n",
      "  (values_conv2d): Conv2D(3 -> 1, kernel_size=(3, 3), stride=(1, 1))\n",
      "  (values_desen): Dense(None -> 1, Activation(sigmoid))\n",
      ")\n"
     ]
    }
   ],
   "source": [
    "# import tensorflow as torch\n",
    "# import torch as tf\n",
    "import mxnet as mx\n",
    "#<Define your model here>\n",
    "class my_model_class(mx.gluon.HybridBlock):\n",
    "    def __init__(self, **kwargs):\n",
    "        super(my_model_class, self).__init__(**kwargs)\n",
    "        self.net = mx.gluon.nn.HybridSequential()\n",
    "        self.net.add(mx.gluon.nn.Conv2D(channels=8,layout=\"NHWC\",kernel_size=3))\n",
    "        self.net.add(mx.gluon.nn.Conv2D(channels=16,layout=\"NHWC\",kernel_size=3))\n",
    "        self.net.add(mx.gluon.nn.Conv2D(channels=16,layout=\"NHWC\",kernel_size=2))\n",
    "        self.net.add(mx.gluon.nn.Conv2D(channels=8,layout=\"NHWC\",kernel_size=2))\n",
    "        self.net.add(mx.gluon.nn.Conv2D(channels=4,layout=\"NHWC\",kernel_size=3))\n",
    "        self.net.add(mx.gluon.nn.AvgPool2D(layout=\"NHWC\",pool_size=2))\n",
    "        #\n",
    "        self.actions_conv2d = mx.gluon.nn.Conv2D(channels=1,layout=\"NHWC\",kernel_size=3)\n",
    "        self.actions_desen = mx.gluon.nn.Dense(6,activation='relu')\n",
    "        #\n",
    "        self.values_conv2d = mx.gluon.nn.Conv2D(channels=1,layout=\"NHWC\",kernel_size=3)\n",
    "        self.values_desen = mx.gluon.nn.Dense(1,activation='sigmoid')\n",
    "    def forward(self, x):\n",
    "        middle_x = self.net(x)\n",
    "        y_actions = self.actions_conv2d(middle_x)\n",
    "        y_actions = self.actions_desen(y_actions)\n",
    "        y_values = self.values_conv2d(middle_x)\n",
    "        y_values = self.values_desen(y_values)\n",
    "        return y_actions, y_values\n",
    "\n",
    "model = my_model_class()\n",
    "print(model)\n",
    "model.initialize(init=mx.init.Xavier())\n"
   ]
  },
  {
   "cell_type": "markdown",
   "metadata": {},
   "source": [
    "You will also need to define and use a policy that wraps the model. While the model computes logits for all actions, the policy will sample actions and also compute their log probabilities.  `policy.act` should return a dictionary of all the arrays that are needed to interact with an environment and train the model.\n",
    " Note that actions must be an `np.ndarray` while the other\n",
    "tensors need to have the type determined by your deep learning framework. "
   ]
  },
  {
   "cell_type": "code",
   "execution_count": 34,
   "metadata": {},
   "outputs": [
    {
     "name": "stdout",
     "output_type": "stream",
     "text": [
      "\n",
      "[[[[9.03990402e+01 2.46850090e+01 1.67540054e+02 8.75648880e+01]\n",
      "   [1.66338776e+02 1.50711853e+02 2.09538239e+02 1.68089996e+02]\n",
      "   [1.02705528e+02 1.01300476e+02 9.57908726e+00 2.54815887e+02]\n",
      "   ...\n",
      "   [2.38807281e+02 1.73927307e+02 1.69868515e+02 9.78254318e+01]\n",
      "   [1.31923752e+02 1.48965378e+02 2.35676743e+02 5.01118889e+01]\n",
      "   [1.41239563e+02 8.00363922e+01 6.27524033e+01 3.44114418e+01]]\n",
      "\n",
      "  [[5.17372704e+01 1.63908569e+02 2.46141174e+02 8.52064590e+01]\n",
      "   [1.47237854e+02 1.08333244e+02 8.25238876e+01 9.70443954e+01]\n",
      "   [8.02894440e+01 1.34512081e+01 1.21834946e+02 2.28442734e+02]\n",
      "   ...\n",
      "   [2.16725254e+00 4.02157822e+01 1.66741684e+02 2.05894913e+02]\n",
      "   [9.49627457e+01 5.12687340e+01 6.60949860e+01 9.04176178e+01]\n",
      "   [2.61792030e+01 9.32274246e+01 1.82784882e+02 6.82183380e+01]]\n",
      "\n",
      "  [[9.82224121e+01 5.71002693e+01 9.89497528e+01 1.90640594e+02]\n",
      "   [2.11504105e+02 1.47232605e+02 6.99215698e+01 1.97335052e+02]\n",
      "   [2.17430511e+02 4.00236664e+01 2.53549347e+02 1.38991440e+02]\n",
      "   ...\n",
      "   [1.88060364e+02 3.44850655e+01 1.83076981e+02 2.79889469e+01]\n",
      "   [2.10412323e+02 7.49688721e+01 1.26691780e+02 9.90084457e+01]\n",
      "   [6.95980759e+01 2.32272842e+02 1.42038925e+02 1.11281441e+02]]\n",
      "\n",
      "  ...\n",
      "\n",
      "  [[1.81047638e+02 3.77769356e+01 1.25780495e+02 2.10827896e+02]\n",
      "   [1.19467697e+02 4.14231968e+00 1.45978165e+02 1.20632324e+02]\n",
      "   [9.14814301e+01 1.37521225e+02 3.69217873e+01 8.84035492e+01]\n",
      "   ...\n",
      "   [6.20712700e+01 1.71071594e+02 9.37330704e+01 2.08134670e+01]\n",
      "   [2.54718948e+02 2.53833023e+02 5.21737175e+01 7.79168320e+01]\n",
      "   [2.05660049e+02 2.15393326e+02 7.84864960e+01 8.92186050e+01]]\n",
      "\n",
      "  [[4.43733788e+01 4.92555199e+01 1.95942459e+02 1.72073944e+02]\n",
      "   [2.05235001e+02 8.79714012e+00 1.53825317e+02 2.05666580e+02]\n",
      "   [1.73497391e+02 2.34780563e+02 1.40098328e+02 2.49507935e+02]\n",
      "   ...\n",
      "   [6.24591179e+01 2.10088615e+01 2.88680124e+00 1.13314217e+02]\n",
      "   [3.09119511e+01 1.74450241e+02 1.28726807e+02 7.39029541e+01]\n",
      "   [1.53355927e+02 1.67260101e+02 1.17872154e+02 1.35371078e+02]]\n",
      "\n",
      "  [[1.96083496e+02 1.72405151e+02 1.59319290e+02 2.35556427e+02]\n",
      "   [2.80024490e+01 2.36161591e+02 2.60618706e+01 3.12399139e+01]\n",
      "   [1.46277969e+02 1.57801224e+02 2.40353638e+02 5.38503647e+01]\n",
      "   ...\n",
      "   [6.75646210e+01 8.60213852e+01 1.77971146e+02 2.27472504e+02]\n",
      "   [1.43140549e+02 9.57880974e+00 2.51293198e+02 2.29563492e+02]\n",
      "   [5.40288734e+01 1.17424965e+02 2.31019867e+02 1.57747925e+02]]]\n",
      "\n",
      "\n",
      " [[[2.16128525e+02 2.33052017e+02 2.11708588e+02 1.44292297e+02]\n",
      "   [1.70250015e+02 8.97577209e+01 2.37069138e+02 4.73448229e+00]\n",
      "   [2.20245926e+02 1.02218658e+02 2.40133759e+02 2.25787048e+02]\n",
      "   ...\n",
      "   [1.52025833e+02 5.95140457e+00 1.83412872e+02 1.13043045e+02]\n",
      "   [1.23285652e+02 1.25255836e+02 2.18098068e+02 1.67236282e+02]\n",
      "   [1.09941330e+02 1.76204605e+02 2.15618118e+02 1.01048256e+02]]\n",
      "\n",
      "  [[8.86946945e+01 2.12429333e+01 2.22521057e+02 8.34713440e+01]\n",
      "   [1.23201729e+02 1.90544754e+02 5.22689676e+00 3.49532127e+01]\n",
      "   [9.37530289e+01 1.12587128e+02 9.76360321e+01 2.23661911e+02]\n",
      "   ...\n",
      "   [9.70504701e-01 9.70612869e+01 1.80261612e+02 4.81825104e+01]\n",
      "   [1.19377068e+02 2.35367775e+01 2.49290276e+01 2.30413879e+02]\n",
      "   [4.52089357e+00 6.24997139e+01 7.63925018e+01 4.07867134e-01]]\n",
      "\n",
      "  [[4.85390739e+01 1.84699188e+02 1.49264954e+02 1.58655167e+02]\n",
      "   [1.46193985e+02 1.95143616e+02 9.07840500e+01 1.03099890e+01]\n",
      "   [1.59966064e+02 1.84908539e+02 1.84240372e+02 1.35645615e+02]\n",
      "   ...\n",
      "   [2.14318924e+02 1.37931076e+02 1.20113480e+02 1.76077286e+02]\n",
      "   [1.29181427e+02 1.05477524e+02 1.18660412e+01 8.73532772e+00]\n",
      "   [1.51998764e+02 6.09511108e+01 2.39211548e+02 8.10656815e+01]]\n",
      "\n",
      "  ...\n",
      "\n",
      "  [[1.43717316e+02 2.95017796e+01 1.78446823e+02 1.85488663e+02]\n",
      "   [1.17019943e+02 1.06434891e+02 1.56417130e+02 1.96572006e+02]\n",
      "   [1.75369583e+02 2.53809525e+02 5.43965864e+00 8.38048172e+01]\n",
      "   ...\n",
      "   [1.53096680e+02 7.93392715e+01 1.27920288e+02 5.86197548e+01]\n",
      "   [8.80358047e+01 1.96337158e+02 2.15217026e+02 4.74349022e+01]\n",
      "   [3.31124306e+01 2.43993362e+02 1.40397812e+02 1.41794983e+02]]\n",
      "\n",
      "  [[6.39653893e+01 2.05713364e+02 1.22787193e+02 1.70637093e+01]\n",
      "   [7.43803482e+01 4.24504280e+01 3.28049240e+01 3.56971970e+01]\n",
      "   [1.07872437e+02 2.10558304e+02 2.83267765e+01 1.21448524e+02]\n",
      "   ...\n",
      "   [3.29172363e+01 1.21422586e+01 2.45029205e+02 2.35089417e+01]\n",
      "   [2.52764328e+02 1.03939125e+02 2.83721790e+01 2.42319565e+01]\n",
      "   [1.06097115e+02 1.39321152e+02 1.80230286e+02 2.53405060e+02]]\n",
      "\n",
      "  [[5.14295921e+01 2.93578548e+01 1.85420258e+02 3.44214897e+01]\n",
      "   [4.97966480e+00 2.10240707e+02 1.67596573e+02 1.76460983e+02]\n",
      "   [2.17675842e+02 1.23354080e+02 8.93175430e+01 4.02318764e+01]\n",
      "   ...\n",
      "   [6.32517395e+01 9.02725296e+01 1.07245605e+02 2.79283619e+01]\n",
      "   [1.86468826e+02 1.78666489e+02 1.82584915e+02 1.66134354e+02]\n",
      "   [6.37641335e+01 2.25474609e+02 9.28850403e+01 6.24686813e+01]]]\n",
      "\n",
      "\n",
      " [[[1.13005325e+02 9.58316956e+01 2.35247040e+02 1.27143517e+02]\n",
      "   [7.06242523e+01 2.42675674e+02 1.39568863e+02 1.47143997e+02]\n",
      "   [2.23582428e+02 1.31537292e+02 7.91862030e+01 9.75838394e+01]\n",
      "   ...\n",
      "   [3.13138604e+00 3.84317551e+01 1.41594757e+02 6.69099731e+01]\n",
      "   [1.37814255e+02 1.80441925e+02 7.30399475e+01 1.06714077e+01]\n",
      "   [7.33878403e+01 1.45485458e+02 6.33948059e+01 3.59669495e+01]]\n",
      "\n",
      "  [[8.95050735e+01 1.44848434e+02 1.00025642e+02 2.38503754e+02]\n",
      "   [1.37981644e+02 1.73810471e+02 1.51220627e+02 1.64828873e+02]\n",
      "   [1.39080292e+02 2.22746613e+02 1.90600388e+02 9.44113235e+01]\n",
      "   ...\n",
      "   [1.78937073e+02 1.85042099e+02 2.10301361e+02 4.32314148e+01]\n",
      "   [6.03182840e+00 2.19300186e+02 8.73941956e+01 9.52770004e+01]\n",
      "   [6.79393864e+00 1.92097397e+02 9.50646057e+01 1.67748184e+02]]\n",
      "\n",
      "  [[1.39163208e+02 9.42661285e+01 1.67367722e+02 1.18778229e+02]\n",
      "   [2.30793625e+02 2.08252136e+02 2.01011229e+00 8.89363403e+01]\n",
      "   [2.38722778e+02 2.07311356e+02 1.03658936e+02 1.67616501e+02]\n",
      "   ...\n",
      "   [1.83119980e+02 1.64238846e+02 1.65385452e+02 2.51783188e+02]\n",
      "   [1.00628975e+02 7.74768353e+00 2.00067795e+02 1.55609528e+02]\n",
      "   [1.41996506e+02 1.37154205e+02 1.59542908e+02 2.12048172e+02]]\n",
      "\n",
      "  ...\n",
      "\n",
      "  [[2.46781448e+02 1.57375961e+02 2.36543869e+02 3.20430641e+01]\n",
      "   [5.95519867e+01 1.03200279e+02 1.12827927e+02 1.79490417e+02]\n",
      "   [8.39685059e+01 2.62953873e+01 2.50289383e+02 6.22807007e+01]\n",
      "   ...\n",
      "   [7.73490982e+01 2.09500687e+02 2.57972183e+01 2.33247814e+01]\n",
      "   [9.70422745e+01 1.63136230e+02 2.18874283e+02 2.08552170e+02]\n",
      "   [5.72934036e+01 1.76269562e+02 1.58115349e+01 1.53089828e+02]]\n",
      "\n",
      "  [[2.05359344e+02 8.93210602e+01 5.58627701e+01 5.20598106e+01]\n",
      "   [2.32121979e+02 1.14202881e+02 1.96982117e+02 4.63092308e+01]\n",
      "   [5.56712112e+01 1.86140671e+02 2.49927689e+02 1.59812210e+02]\n",
      "   ...\n",
      "   [2.26763706e+01 1.32042953e+02 1.50578369e+02 2.20987854e+02]\n",
      "   [1.98256577e+02 2.19375114e+01 3.90791779e+01 1.79749680e+02]\n",
      "   [6.63971007e-02 2.46445480e+02 2.42109604e+02 3.19934425e+01]]\n",
      "\n",
      "  [[8.38681717e+01 1.33943222e+02 1.58019180e+02 1.71606033e+02]\n",
      "   [2.21581116e+02 8.47052612e+01 7.45944786e+00 2.32991180e+02]\n",
      "   [1.41144974e+02 1.49419220e+02 3.81033707e+01 6.65151596e+00]\n",
      "   ...\n",
      "   [1.03680099e+02 1.21292259e+02 7.19554749e+01 2.30103912e+02]\n",
      "   [3.98363914e+01 1.81971359e+01 9.78453445e+01 3.66150284e+01]\n",
      "   [2.45587021e+02 7.38585892e+01 1.77033279e+02 7.99249649e+01]]]\n",
      "\n",
      "\n",
      " ...\n",
      "\n",
      "\n",
      " [[[1.62049042e+02 2.40573517e+02 1.38188782e+01 1.98008820e+02]\n",
      "   [1.22253586e+02 4.89443741e+01 6.13998947e+01 3.03099594e+01]\n",
      "   [1.16488548e+02 9.30807800e+01 2.42797607e+02 2.04983292e+02]\n",
      "   ...\n",
      "   [8.83538132e+01 2.19565155e+02 1.59227509e+02 1.24594604e+02]\n",
      "   [2.85272255e+01 2.19622742e+02 2.36132111e+02 1.77544144e+02]\n",
      "   [2.14071640e+02 2.39010864e+02 1.76699097e+02 8.94728394e+01]]\n",
      "\n",
      "  [[1.67022278e+02 4.62930183e+01 5.57951202e+01 2.03919083e+02]\n",
      "   [1.09960594e+02 2.23091736e+02 1.11232529e+02 2.05492340e+02]\n",
      "   [1.31195862e+02 1.32202774e+02 1.04171867e+02 8.88090057e+01]\n",
      "   ...\n",
      "   [1.40934128e+02 2.22554443e+02 1.45953003e+02 6.03198280e+01]\n",
      "   [9.61008148e+01 1.43040314e+02 5.66609077e+01 6.70629807e+01]\n",
      "   [2.40807114e+02 8.09563522e+01 5.56412086e+01 7.75156174e+01]]\n",
      "\n",
      "  [[1.99599014e+02 2.85707893e+01 1.58859619e+02 1.27774620e+02]\n",
      "   [2.21816818e+02 1.77209335e+02 6.93591080e+01 5.04104233e+01]\n",
      "   [1.71360947e+02 2.06363434e+02 2.16707134e+01 2.08118988e+02]\n",
      "   ...\n",
      "   [3.40683746e+01 1.39943573e+02 2.07937653e+02 9.03843384e+01]\n",
      "   [3.93936768e+01 1.83863419e+02 1.15010002e+02 2.09939911e+02]\n",
      "   [1.34439804e+02 2.25568066e+01 2.89972382e+01 1.56372871e+01]]\n",
      "\n",
      "  ...\n",
      "\n",
      "  [[9.50145569e+01 2.21140366e+02 1.95918839e+02 9.73235016e+01]\n",
      "   [5.05327761e-01 1.82804596e+02 1.21233009e+02 6.57725983e+01]\n",
      "   [1.24062561e+02 1.98070374e+02 3.02373600e+01 2.34119812e+02]\n",
      "   ...\n",
      "   [2.39885834e+02 1.81929596e+02 1.21128738e+02 1.16519119e+02]\n",
      "   [1.01649025e+02 6.81988716e+00 2.85581741e+01 1.04174835e+02]\n",
      "   [8.62128525e+01 1.16394188e+02 5.32870636e+01 1.67901306e+02]]\n",
      "\n",
      "  [[1.76395996e+02 6.55606766e+01 2.29115250e+02 1.28935944e+02]\n",
      "   [1.61084824e+02 1.77009506e+02 1.04142921e+02 1.87964630e+02]\n",
      "   [1.49764603e+02 2.05798065e+02 8.63357315e+01 1.88552399e+01]\n",
      "   ...\n",
      "   [1.08067253e+02 2.37782211e+02 1.25706383e+02 4.68271980e+01]\n",
      "   [1.78322388e+02 2.90326328e+01 2.05616150e+02 5.74711113e+01]\n",
      "   [2.19289215e+02 2.21843506e+02 2.46688904e+02 6.17530861e+01]]\n",
      "\n",
      "  [[2.52827545e+02 4.22815971e+01 1.15950851e+02 1.92726944e+02]\n",
      "   [1.11954384e+02 1.61102631e+02 1.28111847e+02 2.24891464e+02]\n",
      "   [1.87546158e+02 1.86128937e+02 4.19477005e+01 1.06026489e+02]\n",
      "   ...\n",
      "   [1.94012039e+02 1.56984421e+02 1.60731384e+02 5.36206856e+01]\n",
      "   [4.65095406e+01 2.34463882e+02 1.51320862e+02 9.29229126e+01]\n",
      "   [1.33765671e+02 9.07871780e+01 2.45843826e+02 9.35701599e+01]]]\n",
      "\n",
      "\n",
      " [[[4.09128227e+01 1.52156525e+02 1.21517906e+02 2.25172745e+02]\n",
      "   [2.14569168e+02 1.03034386e+02 2.50029969e+00 4.66556053e+01]\n",
      "   [2.15820923e+02 2.97806931e+01 2.44135391e+02 1.98050766e+02]\n",
      "   ...\n",
      "   [5.95091820e+01 1.20783371e+02 1.73122086e+02 2.22226349e+02]\n",
      "   [2.32279633e+02 1.47125656e+02 1.73148300e+02 1.21284325e+02]\n",
      "   [4.33575363e+01 1.94664719e+02 7.04797974e+01 1.98702602e+01]]\n",
      "\n",
      "  [[2.47868546e+02 7.90403976e+01 2.18312805e+02 1.84642670e+02]\n",
      "   [3.12886829e+01 1.09498260e+02 1.08043167e+02 2.11149673e+02]\n",
      "   [1.67659851e+02 6.27510529e+01 9.41554947e+01 2.28707489e+02]\n",
      "   ...\n",
      "   [4.31088066e+01 2.28706528e+02 1.41981766e+02 2.05457649e+01]\n",
      "   [4.56448822e+01 4.90142326e+01 7.32298279e+01 2.44683323e+01]\n",
      "   [1.49249680e+02 1.84097786e+01 1.70461838e+02 1.24384079e+02]]\n",
      "\n",
      "  [[2.06479080e+02 2.29132248e+02 1.64069519e+02 2.13049896e+02]\n",
      "   [1.79307587e+02 7.44091644e+01 2.36112167e+02 2.38554276e+02]\n",
      "   [7.96540833e+01 1.53920853e+02 1.17247673e+02 1.22258072e+02]\n",
      "   ...\n",
      "   [2.01529251e+02 1.30102112e+02 2.07929214e+02 2.34721680e+02]\n",
      "   [4.39747467e+01 3.01858664e+00 4.77468014e+00 1.97857559e+02]\n",
      "   [1.61949249e+02 1.84501999e+02 2.61438293e+01 2.53793304e+02]]\n",
      "\n",
      "  ...\n",
      "\n",
      "  [[1.71325363e+02 2.76569099e+01 1.29304123e+02 1.45095474e+02]\n",
      "   [2.46046860e+02 1.94234451e+02 1.62166840e+02 7.23205795e+01]\n",
      "   [1.54533569e+02 1.82321609e+02 2.17963104e+02 5.19392738e+01]\n",
      "   ...\n",
      "   [3.34067993e+01 2.92203617e+01 8.64915752e+00 9.84134674e+01]\n",
      "   [8.97354317e+00 6.45272141e+01 1.85300858e+02 7.80632172e+01]\n",
      "   [5.46826134e+01 1.89349838e+02 5.95965996e+01 2.29920670e+02]]\n",
      "\n",
      "  [[6.56720886e+01 1.08164642e+02 1.54949417e+02 1.56470673e+02]\n",
      "   [2.09252899e+02 2.09283733e+01 2.59145947e+01 2.03735474e+02]\n",
      "   [3.70674629e+01 2.44418732e+02 9.25378189e+01 1.09352074e+02]\n",
      "   ...\n",
      "   [4.36760788e+01 5.98780251e+01 2.07251389e+02 2.47053589e+02]\n",
      "   [1.86923889e+02 1.54739960e+02 1.00727859e+02 8.46421051e+01]\n",
      "   [1.10113487e+02 2.13950577e+02 1.66170227e+02 5.21593170e+01]]\n",
      "\n",
      "  [[1.59448822e+02 1.35125875e+01 2.65364075e+01 2.51122757e+02]\n",
      "   [2.40802727e+01 9.26535950e+01 2.50317749e+02 1.22103729e+02]\n",
      "   [1.13117928e+02 1.14586571e+02 8.21112537e+00 3.26174088e+01]\n",
      "   ...\n",
      "   [5.81626034e+00 1.08444283e+02 1.97731445e+02 2.09876575e+01]\n",
      "   [7.11675262e+01 5.30165215e+01 8.02647934e+01 7.22388763e+01]\n",
      "   [6.85255890e+01 9.98764801e+01 1.15794624e+02 3.31363182e+01]]]\n",
      "\n",
      "\n",
      " [[[2.25038635e+02 1.33482132e+02 5.17612267e+01 1.97862122e+02]\n",
      "   [2.37966858e+02 1.05362183e+02 9.84794159e+01 9.94953079e+01]\n",
      "   [1.02297707e+02 2.36433029e+02 2.74542961e+01 1.04320175e+02]\n",
      "   ...\n",
      "   [1.34281830e+02 2.29962479e+02 6.43348618e+01 1.43697189e+02]\n",
      "   [5.39674530e+01 1.03291870e+02 2.32219757e+02 9.53857727e+01]\n",
      "   [6.01476707e+01 1.78932739e+02 9.52991791e+01 4.36436920e+01]]\n",
      "\n",
      "  [[2.83197937e+01 2.17463665e+01 1.33122437e+02 2.50111572e+02]\n",
      "   [5.03964615e+01 5.85958405e+01 2.53917465e+02 6.82003479e+01]\n",
      "   [3.63949928e+01 1.39788757e+02 7.91736069e+01 5.05664139e+01]\n",
      "   ...\n",
      "   [8.57851410e+01 1.81826843e+02 2.10190491e+02 8.19733200e+01]\n",
      "   [2.50607727e+02 5.60713120e+01 1.75320568e+01 1.47721186e+01]\n",
      "   [1.88642685e+02 1.04795197e+02 1.38339081e+02 2.37005463e+02]]\n",
      "\n",
      "  [[2.26812653e+02 5.53058701e+01 1.66936890e+02 1.87283463e+02]\n",
      "   [9.67341766e+01 1.97732010e+02 2.12315170e+02 1.28507645e+02]\n",
      "   [1.81745178e+02 1.88359924e+02 2.32860443e+02 2.29959106e+02]\n",
      "   ...\n",
      "   [5.39646072e+01 6.63565750e+01 1.94836990e+02 5.26710796e+00]\n",
      "   [2.38154236e+02 2.24372467e+02 2.07828506e+02 7.28324356e+01]\n",
      "   [5.86649609e+00 1.46084579e+02 1.68357529e+02 2.54335220e+02]]\n",
      "\n",
      "  ...\n",
      "\n",
      "  [[1.35555820e+01 3.44292617e+00 6.32944641e+01 1.82238083e+02]\n",
      "   [3.76355095e+01 1.34377182e+02 2.49816681e+02 2.15721909e+02]\n",
      "   [2.20396576e+02 1.08115440e+02 6.27078629e+01 2.07852493e+02]\n",
      "   ...\n",
      "   [1.16195320e+02 2.46752731e+02 1.23129311e+02 1.65030579e+02]\n",
      "   [1.14023867e+01 9.61783752e+01 1.99765091e+02 8.23452682e+01]\n",
      "   [9.92990952e+01 2.02699524e+02 1.49512833e+02 2.47924614e+01]]\n",
      "\n",
      "  [[2.33938293e+02 2.00375305e+02 5.61425257e+00 1.79491501e+02]\n",
      "   [1.51659441e+01 1.24062813e+02 1.12064018e+02 2.96610813e+01]\n",
      "   [1.58035080e+02 1.09727898e+02 2.09067352e+02 2.35866776e+01]\n",
      "   ...\n",
      "   [6.61158981e+01 7.27574921e+01 1.07691536e+02 1.65965439e+02]\n",
      "   [2.35345886e+02 1.17446365e+02 6.62205648e+00 3.15719271e+00]\n",
      "   [1.21690430e+02 2.07854568e+02 1.34917847e+02 1.81880692e+02]]\n",
      "\n",
      "  [[7.98870087e+01 1.78894241e+02 3.24476153e-01 2.18039383e+02]\n",
      "   [2.00107788e+02 1.06854874e+02 5.86478310e+01 2.29045135e+02]\n",
      "   [2.39469482e+02 1.13360333e+00 1.13811989e+02 2.10461502e+02]\n",
      "   ...\n",
      "   [5.56466370e+01 1.59466949e+02 1.84781250e+02 1.24950722e+02]\n",
      "   [1.30518036e+02 2.13016251e+02 9.47751389e+01 7.82654648e+01]\n",
      "   [6.84332848e+00 1.62389084e+02 1.62553253e+02 2.05704880e+02]]]]\n",
      "<NDArray 8x48x48x4 @cpu(0)>\n"
     ]
    },
    {
     "ename": "MXNetError",
     "evalue": "MXNetError: could not create a descriptor for a dilated convolution forward propagation primitive",
     "output_type": "error",
     "traceback": [
      "\u001b[0;31m---------------------------------------------------------------------------\u001b[0m",
      "\u001b[0;31mMXNetError\u001b[0m                                Traceback (most recent call last)",
      "\u001b[0;32m<ipython-input-34-8ae78dfea621>\u001b[0m in \u001b[0;36m<module>\u001b[0;34m()\u001b[0m\n\u001b[1;32m     20\u001b[0m \u001b[0minputs\u001b[0m \u001b[0;34m=\u001b[0m \u001b[0mmx\u001b[0m\u001b[0;34m.\u001b[0m\u001b[0mnd\u001b[0m\u001b[0;34m.\u001b[0m\u001b[0mrandom\u001b[0m\u001b[0;34m.\u001b[0m\u001b[0muniform\u001b[0m\u001b[0;34m(\u001b[0m\u001b[0mlow\u001b[0m\u001b[0;34m=\u001b[0m\u001b[0;36m0\u001b[0m\u001b[0;34m,\u001b[0m \u001b[0mhigh\u001b[0m\u001b[0;34m=\u001b[0m\u001b[0;36m255\u001b[0m\u001b[0;34m,\u001b[0m\u001b[0mshape\u001b[0m \u001b[0;34m=\u001b[0m \u001b[0;34m(\u001b[0m\u001b[0;36m8\u001b[0m\u001b[0;34m,\u001b[0m\u001b[0;36m48\u001b[0m\u001b[0;34m,\u001b[0m\u001b[0;36m48\u001b[0m\u001b[0;34m,\u001b[0m\u001b[0;36m4\u001b[0m\u001b[0;34m)\u001b[0m\u001b[0;34m,\u001b[0m\u001b[0mdtype\u001b[0m\u001b[0;34m=\u001b[0m\u001b[0;34m'float32'\u001b[0m\u001b[0;34m)\u001b[0m\u001b[0;34m\u001b[0m\u001b[0;34m\u001b[0m\u001b[0m\n\u001b[1;32m     21\u001b[0m \u001b[0mprint\u001b[0m\u001b[0;34m(\u001b[0m\u001b[0minputs\u001b[0m\u001b[0;34m)\u001b[0m\u001b[0;34m\u001b[0m\u001b[0;34m\u001b[0m\u001b[0m\n\u001b[0;32m---> 22\u001b[0;31m \u001b[0mtest_policy\u001b[0m\u001b[0;34m.\u001b[0m\u001b[0mact\u001b[0m\u001b[0;34m(\u001b[0m\u001b[0minputs\u001b[0m\u001b[0;34m)\u001b[0m\u001b[0;34m\u001b[0m\u001b[0;34m\u001b[0m\u001b[0m\n\u001b[0m",
      "\u001b[0;32m<ipython-input-34-8ae78dfea621>\u001b[0m in \u001b[0;36mact\u001b[0;34m(self, inputs)\u001b[0m\n\u001b[1;32m      9\u001b[0m     \u001b[0mrel\u001b[0m \u001b[0;34m=\u001b[0m \u001b[0;34m{\u001b[0m\u001b[0;34m}\u001b[0m\u001b[0;34m\u001b[0m\u001b[0;34m\u001b[0m\u001b[0m\n\u001b[1;32m     10\u001b[0m     \u001b[0mlogits\u001b[0m \u001b[0;34m=\u001b[0m \u001b[0mmx\u001b[0m\u001b[0;34m.\u001b[0m\u001b[0mnd\u001b[0m\u001b[0;34m.\u001b[0m\u001b[0msoftmax\u001b[0m\u001b[0;34m(\u001b[0m\u001b[0my_actions\u001b[0m\u001b[0;34m,\u001b[0m\u001b[0maxis\u001b[0m\u001b[0;34m=\u001b[0m\u001b[0;34m-\u001b[0m\u001b[0;36m1\u001b[0m\u001b[0;34m)\u001b[0m\u001b[0;34m\u001b[0m\u001b[0;34m\u001b[0m\u001b[0m\n\u001b[0;32m---> 11\u001b[0;31m     \u001b[0mprint\u001b[0m\u001b[0;34m(\u001b[0m\u001b[0mlogits\u001b[0m\u001b[0;34m)\u001b[0m\u001b[0;34m\u001b[0m\u001b[0;34m\u001b[0m\u001b[0m\n\u001b[0m\u001b[1;32m     12\u001b[0m     \u001b[0mrel\u001b[0m\u001b[0;34m[\u001b[0m\u001b[0;34m'logits'\u001b[0m\u001b[0;34m]\u001b[0m \u001b[0;34m=\u001b[0m \u001b[0mlogits\u001b[0m\u001b[0;34m\u001b[0m\u001b[0;34m\u001b[0m\u001b[0m\n\u001b[1;32m     13\u001b[0m     \u001b[0mrel\u001b[0m\u001b[0;34m[\u001b[0m\u001b[0;34m'actions'\u001b[0m\u001b[0;34m]\u001b[0m \u001b[0;34m=\u001b[0m \u001b[0;34m[\u001b[0m\u001b[0mnp\u001b[0m\u001b[0;34m.\u001b[0m\u001b[0mrandom\u001b[0m\u001b[0;34m.\u001b[0m\u001b[0mchoice\u001b[0m\u001b[0;34m(\u001b[0m\u001b[0;34m[\u001b[0m\u001b[0;36m0\u001b[0m\u001b[0;34m,\u001b[0m\u001b[0;36m1\u001b[0m\u001b[0;34m,\u001b[0m\u001b[0;36m2\u001b[0m\u001b[0;34m,\u001b[0m\u001b[0;36m3\u001b[0m\u001b[0;34m,\u001b[0m\u001b[0;36m4\u001b[0m\u001b[0;34m,\u001b[0m\u001b[0;36m5\u001b[0m\u001b[0;34m]\u001b[0m\u001b[0;34m,\u001b[0m\u001b[0;36m1\u001b[0m\u001b[0;34m,\u001b[0m\u001b[0mi\u001b[0m\u001b[0;34m)\u001b[0m\u001b[0;34m[\u001b[0m\u001b[0;36m0\u001b[0m\u001b[0;34m]\u001b[0m \u001b[0;32mfor\u001b[0m \u001b[0mi\u001b[0m \u001b[0;32min\u001b[0m \u001b[0mlogits\u001b[0m\u001b[0;34m]\u001b[0m\u001b[0;34m\u001b[0m\u001b[0;34m\u001b[0m\u001b[0m\n",
      "\u001b[0;32m~/.local/lib/python3.6/site-packages/mxnet/ndarray/ndarray.py\u001b[0m in \u001b[0;36m__repr__\u001b[0;34m(self)\u001b[0m\n\u001b[1;32m    255\u001b[0m         \u001b[0;34m\"\"\"Returns a string representation of the array.\"\"\"\u001b[0m\u001b[0;34m\u001b[0m\u001b[0;34m\u001b[0m\u001b[0m\n\u001b[1;32m    256\u001b[0m         \u001b[0mshape_info\u001b[0m \u001b[0;34m=\u001b[0m \u001b[0;34m'x'\u001b[0m\u001b[0;34m.\u001b[0m\u001b[0mjoin\u001b[0m\u001b[0;34m(\u001b[0m\u001b[0;34m[\u001b[0m\u001b[0;34m'%d'\u001b[0m \u001b[0;34m%\u001b[0m \u001b[0mx\u001b[0m \u001b[0;32mfor\u001b[0m \u001b[0mx\u001b[0m \u001b[0;32min\u001b[0m \u001b[0mself\u001b[0m\u001b[0;34m.\u001b[0m\u001b[0mshape\u001b[0m\u001b[0;34m]\u001b[0m\u001b[0;34m)\u001b[0m\u001b[0;34m\u001b[0m\u001b[0;34m\u001b[0m\u001b[0m\n\u001b[0;32m--> 257\u001b[0;31m         return '\\n%s\\n<%s %s @%s>' % (str(self.asnumpy()),\n\u001b[0m\u001b[1;32m    258\u001b[0m                                       \u001b[0mself\u001b[0m\u001b[0;34m.\u001b[0m\u001b[0m__class__\u001b[0m\u001b[0;34m.\u001b[0m\u001b[0m__name__\u001b[0m\u001b[0;34m,\u001b[0m\u001b[0;34m\u001b[0m\u001b[0;34m\u001b[0m\u001b[0m\n\u001b[1;32m    259\u001b[0m                                       shape_info, self.ctx)\n",
      "\u001b[0;32m~/.local/lib/python3.6/site-packages/mxnet/ndarray/ndarray.py\u001b[0m in \u001b[0;36masnumpy\u001b[0;34m(self)\u001b[0m\n\u001b[1;32m   2564\u001b[0m             \u001b[0mself\u001b[0m\u001b[0;34m.\u001b[0m\u001b[0mhandle\u001b[0m\u001b[0;34m,\u001b[0m\u001b[0;34m\u001b[0m\u001b[0;34m\u001b[0m\u001b[0m\n\u001b[1;32m   2565\u001b[0m             \u001b[0mdata\u001b[0m\u001b[0;34m.\u001b[0m\u001b[0mctypes\u001b[0m\u001b[0;34m.\u001b[0m\u001b[0mdata_as\u001b[0m\u001b[0;34m(\u001b[0m\u001b[0mctypes\u001b[0m\u001b[0;34m.\u001b[0m\u001b[0mc_void_p\u001b[0m\u001b[0;34m)\u001b[0m\u001b[0;34m,\u001b[0m\u001b[0;34m\u001b[0m\u001b[0;34m\u001b[0m\u001b[0m\n\u001b[0;32m-> 2566\u001b[0;31m             ctypes.c_size_t(data.size)))\n\u001b[0m\u001b[1;32m   2567\u001b[0m         \u001b[0;32mreturn\u001b[0m \u001b[0mdata\u001b[0m\u001b[0;34m\u001b[0m\u001b[0;34m\u001b[0m\u001b[0m\n\u001b[1;32m   2568\u001b[0m \u001b[0;34m\u001b[0m\u001b[0m\n",
      "\u001b[0;32m~/.local/lib/python3.6/site-packages/mxnet/base.py\u001b[0m in \u001b[0;36mcheck_call\u001b[0;34m(ret)\u001b[0m\n\u001b[1;32m    244\u001b[0m     \"\"\"\n\u001b[1;32m    245\u001b[0m     \u001b[0;32mif\u001b[0m \u001b[0mret\u001b[0m \u001b[0;34m!=\u001b[0m \u001b[0;36m0\u001b[0m\u001b[0;34m:\u001b[0m\u001b[0;34m\u001b[0m\u001b[0;34m\u001b[0m\u001b[0m\n\u001b[0;32m--> 246\u001b[0;31m         \u001b[0;32mraise\u001b[0m \u001b[0mget_last_ffi_error\u001b[0m\u001b[0;34m(\u001b[0m\u001b[0;34m)\u001b[0m\u001b[0;34m\u001b[0m\u001b[0;34m\u001b[0m\u001b[0m\n\u001b[0m\u001b[1;32m    247\u001b[0m \u001b[0;34m\u001b[0m\u001b[0m\n\u001b[1;32m    248\u001b[0m \u001b[0;34m\u001b[0m\u001b[0m\n",
      "\u001b[0;31mMXNetError\u001b[0m: MXNetError: could not create a descriptor for a dilated convolution forward propagation primitive"
     ]
    }
   ],
   "source": [
    "class Policy:\n",
    "  def __init__(self, model):\n",
    "    self.model = model\n",
    "    \n",
    "  def act(self, inputs):\n",
    "    #<Implement policy by calling model, sampling actions and computing their log probs>\n",
    "    # Should return a dict containing keys ['actions', 'logits', 'log_probs', 'values'].\n",
    "    y_actions, y_values = self.model(inputs)\n",
    "    rel = {}\n",
    "    logits = mx.nd.softmax(y_actions,axis=-1)\n",
    "    print(logits)\n",
    "    rel['logits'] = logits\n",
    "    rel['actions'] = [np.random.choice([0,1,2,3,4,5],1,i)[0] for i in logits]\n",
    "    log_probs = mx.nd.log_softmax(y_actions,axis=-1)\n",
    "    rel['log_probs'] = log_probs\n",
    "    rel = ['values']\n",
    "    return rel\n",
    "\n",
    "test_policy = Policy(model)\n",
    "inputs = mx.nd.random.uniform(low=0, high=255,shape = (8,48,48,4),dtype='float32')\n",
    "print(inputs)\n",
    "test_policy.act(inputs)"
   ]
  },
  {
   "cell_type": "markdown",
   "metadata": {},
   "source": [
    "Next will pass the environment and policy to a runner that collects partial trajectories from the environment. \n",
    "The class that does is is already implemented for you."
   ]
  },
  {
   "cell_type": "code",
   "execution_count": null,
   "metadata": {
    "collapsed": true
   },
   "outputs": [],
   "source": [
    "from runners import EnvRunner"
   ]
  },
  {
   "cell_type": "markdown",
   "metadata": {},
   "source": [
    "This runner interacts with the environment for a given number of steps and returns a dictionary containing\n",
    "keys \n",
    "\n",
    "* 'observations' \n",
    "* 'rewards' \n",
    "* 'resets'\n",
    "* 'actions'\n",
    "* all other keys that you defined in `Policy`\n",
    "\n",
    "under each of these keys there is a python `list` of interactions with the environment of specified length $T$ &mdash; the size of partial trajectory. "
   ]
  },
  {
   "cell_type": "markdown",
   "metadata": {},
   "source": [
    "To train the part of the model that predicts state values you will need to compute the value targets. \n",
    "Any callable could be passed to `EnvRunner` to be applied to each partial trajectory after it is collected. \n",
    "Thus, we can implement and use `ComputeValueTargets` callable. \n",
    "The formula for the value targets is simple:\n",
    "\n",
    "$$\n",
    "\\hat v(s_t) = \\sum_{t'=0}^{T - 1}\\gamma^{t'}r_{t+t'} + \\gamma^T \\hat{v}(s_{t+T}),\n",
    "$$\n",
    "\n",
    "In implementation, however, do not forget to use \n",
    "`trajectory['resets']` flags to check if you need to add the value targets at the next step when \n",
    "computing value targets for the current step. You can access `trajectory['state']['latest_observation']`\n",
    "to get last observations in partial trajectory &mdash; $s_{t+T}$."
   ]
  },
  {
   "cell_type": "code",
   "execution_count": null,
   "metadata": {
    "collapsed": true
   },
   "outputs": [],
   "source": [
    "class ComputeValueTargets:\n",
    "  def __init__(self, policy, gamma=0.99):\n",
    "    self.policy = policy\n",
    "    \n",
    "  def __call__(self, trajectory):\n",
    "    # This method should modify trajectory inplace by adding \n",
    "    # an item with key 'value_targets' to it. \n",
    "    <Compute value targets for a given partial trajectory>"
   ]
  },
  {
   "cell_type": "markdown",
   "metadata": {},
   "source": [
    "After computing value targets we will transform lists of interactions into tensors\n",
    "with the first dimension `batch_size` which is equal to `T * nenvs`, i.e. you essentially need\n",
    "to flatten the first two dimensions. "
   ]
  },
  {
   "cell_type": "code",
   "execution_count": null,
   "metadata": {
    "collapsed": true
   },
   "outputs": [],
   "source": [
    "class MergeTimeBatch:\n",
    "  \"\"\" Merges first two axes typically representing time and env batch. \"\"\"\n",
    "  def __call__(self, trajectory):\n",
    "    # Modify trajectory inplace. \n",
    "    <TODO: implement>"
   ]
  },
  {
   "cell_type": "code",
   "execution_count": null,
   "metadata": {
    "collapsed": true
   },
   "outputs": [],
   "source": [
    "model = <Create your model here>\n",
    "policy = Policy(model)\n",
    "runner = EnvRunner(env, policy, nsteps=5,\n",
    "                   transforms=[ComputeValueTargets(),\n",
    "                               MergeTimeBatch()])"
   ]
  },
  {
   "cell_type": "markdown",
   "metadata": {},
   "source": [
    "Now is the time to implement the advantage actor critic algorithm itself. You can look into your lecture,\n",
    "[Mnih et al. 2016](https://arxiv.org/abs/1602.01783) paper, and [lecture](https://www.youtube.com/watch?v=Tol_jw5hWnI&list=PLkFD6_40KJIxJMR-j5A1mkxK26gh_qg37&index=20) by Sergey Levine."
   ]
  },
  {
   "cell_type": "code",
   "execution_count": null,
   "metadata": {
    "collapsed": true
   },
   "outputs": [],
   "source": [
    "class A2C:\n",
    "  def __init__(self,\n",
    "               policy,\n",
    "               optimizer,\n",
    "               value_loss_coef=0.25,\n",
    "               entropy_coef=0.01,\n",
    "               max_grad_norm=0.5):\n",
    "    self.policy = policy\n",
    "    self.optimizer = optimizer\n",
    "    self.value_loss_coef = value_loss_coef\n",
    "    self.entropy_coef = entropy_coef\n",
    "    self.max_grad_norm = max_grad_norm\n",
    "    \n",
    "  def policy_loss(self, trajectory):\n",
    "    # You will need to compute advantages here. \n",
    "    <TODO: implement>\n",
    "    \n",
    "  def value_loss(self, trajectory):\n",
    "    <TODO: implement>\n",
    "    \n",
    "  def loss(self, trajectory):\n",
    "    <TODO: implement>\n",
    "      \n",
    "  def step(self, trajectory):\n",
    "    <TODO: implement>"
   ]
  },
  {
   "cell_type": "markdown",
   "metadata": {},
   "source": [
    "Now you can train your model. With reasonable hyperparameters training on a single GTX1080 for 10 million steps across all batched environments (which translates to about 5 hours of wall clock time)\n",
    "it should be possible to achieve *average raw reward over last 100 episodes* (the average is taken over 100 last \n",
    "episodes in each environment in the batch) of about 600. You should plot this quantity with respect to \n",
    "`runner.step_var` &mdash; the number of interactions with all environments. It is highly \n",
    "encouraged to also provide plots of the following quantities (these are useful for debugging as well):\n",
    "\n",
    "* [Coefficient of Determination](https://en.wikipedia.org/wiki/Coefficient_of_determination) between \n",
    "value targets and value predictions\n",
    "* Entropy of the policy $\\pi$\n",
    "* Value loss\n",
    "* Policy loss\n",
    "* Value targets\n",
    "* Value predictions\n",
    "* Gradient norm\n",
    "* Advantages\n",
    "* A2C loss\n",
    "\n",
    "For optimization we suggest you use RMSProp with learning rate starting from 7e-4 and linearly decayed to 0, smoothing constant (alpha in PyTorch and decay in TensorFlow) equal to 0.99 and epsilon equal to 1e-5."
   ]
  },
  {
   "cell_type": "code",
   "execution_count": null,
   "metadata": {
    "collapsed": true
   },
   "outputs": [],
   "source": [
    "a2c = <Create instance of the algorithm> \n",
    "\n",
    "<Write your training loop>"
   ]
  }
 ],
 "metadata": {
  "kernelspec": {
   "display_name": "Python 3",
   "language": "python",
   "name": "python3"
  },
  "language_info": {
   "codemirror_mode": {
    "name": "ipython",
    "version": 3
   },
   "file_extension": ".py",
   "mimetype": "text/x-python",
   "name": "python",
   "nbconvert_exporter": "python",
   "pygments_lexer": "ipython3",
   "version": "3.6.9"
  }
 },
 "nbformat": 4,
 "nbformat_minor": 2
}
