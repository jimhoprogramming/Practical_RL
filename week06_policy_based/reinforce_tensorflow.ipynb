{
 "cells": [
  {
   "cell_type": "markdown",
   "metadata": {},
   "source": [
    "# REINFORCE in TensorFlow (3 pts)¶\n",
    "\n",
    "This notebook implements a basic reinforce algorithm a.k.a. policy gradient for CartPole env.\n",
    "\n",
    "It has been deliberately written to be as simple and human-readable.\n",
    "\n",
    "Authors: [Practical_RL](https://github.com/yandexdataschool/Practical_RL) course team"
   ]
  },
  {
   "cell_type": "code",
   "execution_count": 1,
   "metadata": {
    "code_folding": []
   },
   "outputs": [
    {
     "name": "stdout",
     "output_type": "stream",
     "text": [
      "env: THEANO_FLAGS='floatX=float32'\n",
      ":99\n",
      "3\n"
     ]
    },
    {
     "data": {
      "text/plain": [
       "'\\n# 运行一个终段程序虚拟显示器0给它\\nif os.environ.get(\\'DISPLAY\\') == \\':0\\':\\n    print(\\'create display 0\\')\\n    !bash xvfb-run -a -s \"-screen 0 800x600x32\" bash\\n    %env DISPLAY = :0\\n\\n#if type(os.environ.get(\"DISPLAY\")) is not str or len(os.environ.get(\"DISPLAY\")) == 0:\\n    #!bash xvfb-run -a bash\\n    !bash xvfb-run -s \"-screen 0 800x600x32\"\\n    #!bash ../xvfb start\\n    %env DISPLAY = : 0\\n'"
      ]
     },
     "execution_count": 1,
     "metadata": {},
     "output_type": "execute_result"
    }
   ],
   "source": [
    "'''\n",
    "要使用rander 就要一开始器启动jupyter时建立一个虚拟显示器通信给jupyter用\n",
    "命令为 xvfb -s \"-screen 0 1400x900x24\" jupyter-notebook\n",
    "'''\n",
    "%env THEANO_FLAGS = 'floatX=float32'\n",
    "import os\n",
    "print(os.environ.get('DISPLAY'))  # :1 str\n",
    "print(len(os.environ.get(\"DISPLAY\")))  # 2\n",
    "'''\n",
    "# 运行一个终段程序虚拟显示器0给它\n",
    "if os.environ.get('DISPLAY') == ':0':\n",
    "    print('create display 0')\n",
    "    !bash xvfb-run -a -s \"-screen 0 800x600x32\" bash\n",
    "    %env DISPLAY = :0\n",
    "\n",
    "#if type(os.environ.get(\"DISPLAY\")) is not str or len(os.environ.get(\"DISPLAY\")) == 0:\n",
    "    #!bash xvfb-run -a bash\n",
    "    !bash xvfb-run -s \"-screen 0 800x600x32\"\n",
    "    #!bash ../xvfb start\n",
    "    %env DISPLAY = : 0\n",
    "'''"
   ]
  },
  {
   "cell_type": "markdown",
   "metadata": {},
   "source": [
    "The notebook assumes that you have [openai gym](https://github.com/openai/gym) installed.\n",
    "\n",
    "In case you're running on a server, [use xvfb](https://github.com/openai/gym#rendering-on-a-server)"
   ]
  },
  {
   "cell_type": "code",
   "execution_count": 2,
   "metadata": {
    "code_folding": []
   },
   "outputs": [
    {
     "name": "stdout",
     "output_type": "stream",
     "text": [
      "entry_point is :gym.envs.classic_control:CartPoleEnv\n",
      "\u001b[33mWARN: gym.spaces.Box autodetected dtype as <class 'numpy.float32'>. Please provide explicit dtype.\u001b[0m\n",
      "(4,)\n",
      "[ 0.00597587  0.02153169 -0.02694756 -0.0181432 ]\n",
      "2\n"
     ]
    },
    {
     "name": "stderr",
     "output_type": "stream",
     "text": [
      "/home/jim/.local/lib/python3.6/site-packages/gym/envs/registration.py:14: PkgResourcesDeprecationWarning: Parameters to load are deprecated.  Call .resolve and .require separately.\n",
      "  result = entry_point.load(require = False)\n"
     ]
    },
    {
     "data": {
      "text/plain": [
       "<matplotlib.image.AxesImage at 0x7f1d2804fc50>"
      ]
     },
     "execution_count": 2,
     "metadata": {},
     "output_type": "execute_result"
    },
    {
     "data": {
      "image/png": "[encoded data removed]",
      "text/plain": [
       "<Figure size 432x288 with 1 Axes>"
      ]
     },
     "metadata": {},
     "output_type": "display_data"
    }
   ],
   "source": [
    "import gym\n",
    "import numpy as np\n",
    "import pandas as pd\n",
    "import matplotlib.pyplot as plt\n",
    "%matplotlib inline\n",
    "\n",
    "env = gym.make(\"CartPole-v0\")\n",
    "\n",
    "# gym compatibility: unwrap TimeLimit\n",
    "if hasattr(env, 'env'):\n",
    "    env = env.env\n",
    "\n",
    "s = env.reset()\n",
    "n_actions = env.action_space.n\n",
    "state_dim = env.observation_space.shape\n",
    "print(state_dim)\n",
    "print(s)\n",
    "print(n_actions)\n",
    "plt.imshow(env.render(\"rgb_array\"))"
   ]
  },
  {
   "cell_type": "markdown",
   "metadata": {},
   "source": [
    "# Building the network for REINFORCE"
   ]
  },
  {
   "cell_type": "markdown",
   "metadata": {},
   "source": [
    "For REINFORCE algorithm, we'll need a model that predicts action probabilities given states."
   ]
  },
  {
   "cell_type": "code",
   "execution_count": 44,
   "metadata": {},
   "outputs": [
    {
     "name": "stdout",
     "output_type": "stream",
     "text": [
      "[[ 0.00597587  0.02153169 -0.02694756 -0.0181432 ]]\n",
      "[0, 1]\n"
     ]
    }
   ],
   "source": [
    "import tensorflow as tf\n",
    "import tensorflow.keras as keras\n",
    "import tensorflow.keras.layers as layers\n",
    "tf.keras.backend.set_floatx('float64')\n",
    "\n",
    "# create input variables. We only need <s,a,R> for REINFORCE\n",
    "'''\n",
    "states = tf.placeholder('float32', (None,)+state_dim, name=\"states\")\n",
    "actions = tf.placeholder('int32', name=\"action_ids\")\n",
    "cumulative_rewards = tf.placeholder('float32', name=\"cumulative_returns\")\n",
    "'''\n",
    "states = s.reshape(1,-1)   # an array of 4 numbers\n",
    "print(states)\n",
    "actions = [0,1]  #  0 or 1\n",
    "print(actions)\n",
    "cumulative = None"
   ]
  },
  {
   "cell_type": "code",
   "execution_count": 45,
   "metadata": {},
   "outputs": [],
   "source": [
    "'''\n",
    "<define network graph using raw tf or any deep learning library >\n",
    "'''\n",
    "\n",
    "model = keras.Sequential()\n",
    "model.add(layers.Dense(2, activation=\"relu\"))\n",
    "model.add(layers.Dense(3, activation=\"relu\"))\n",
    "model.add(layers.Dense(n_actions))\n"
   ]
  },
  {
   "cell_type": "code",
   "execution_count": 46,
   "metadata": {},
   "outputs": [
    {
     "name": "stdout",
     "output_type": "stream",
     "text": [
      "[0.5, 0.5]\n",
      "[-0.6931471805599453, -0.6931471805599453]\n"
     ]
    }
   ],
   "source": [
    "# utility function to pick action in one given state\n",
    "def get_action_proba(s):\n",
    "    logits = model(s)\n",
    "    policy = tf.nn.softmax(logits)\n",
    "    log_policy = tf.nn.log_softmax(logits)\n",
    "    return policy.numpy().tolist()[0], log_policy.numpy().tolist()[0]\n",
    "policy, log_policy = get_action_proba(states)\n",
    "print(policy)\n",
    "print(log_policy)"
   ]
  },
  {
   "cell_type": "markdown",
   "metadata": {},
   "source": [
    "#### Loss function and updates\n",
    "\n",
    "We now need to define objective and update over policy gradient.\n",
    "\n",
    "Our objective function is\n",
    "\n",
    "$$ J \\approx  { 1 \\over N } \\sum  _{s_i,a_i} \\pi_\\theta (a_i | s_i) \\cdot G(s_i,a_i) $$\n",
    "\n",
    "\n",
    "Following the REINFORCE algorithm, we can define our objective as follows: \n",
    "\n",
    "$$ \\hat J \\approx { 1 \\over N } \\sum  _{s_i,a_i} log \\pi_\\theta (a_i | s_i) \\cdot G(s_i,a_i) $$\n",
    "\n",
    "When you compute gradient of that function over network weights $ \\theta $, it will become exactly the policy gradient.\n"
   ]
  },
  {
   "cell_type": "code",
   "execution_count": 48,
   "metadata": {},
   "outputs": [
    {
     "name": "stdout",
     "output_type": "stream",
     "text": [
      "{'0': -0.6931471805599453, '1': -0.6931471805599453}\n"
     ]
    }
   ],
   "source": [
    "# get probabilities for parti \n",
    "# 搞甘复杂的一个按索引插入张量表不如用dict,真不明白这老师的想法。\n",
    "#tf.stack?\n",
    "#tf.gather_nd?\n",
    "'''\n",
    "indices = tf.stack([tf.range(actions.shape[-1]), actions], axis=-1)\n",
    "log_policy_for_actions = tf.gather_nd(log_policy, indices)\n",
    "'''\n",
    "log_policy_for_actions = {str(a):l_p for a,l_p in zip(actions, log_policy)}\n",
    "print(log_policy_for_actions)"
   ]
  },
  {
   "cell_type": "code",
   "execution_count": 49,
   "metadata": {},
   "outputs": [
    {
     "ename": "SyntaxError",
     "evalue": "invalid syntax (<ipython-input-49-81e85012bcca>, line 4)",
     "output_type": "error",
     "traceback": [
      "\u001b[0;36m  File \u001b[0;32m\"<ipython-input-49-81e85012bcca>\"\u001b[0;36m, line \u001b[0;32m4\u001b[0m\n\u001b[0;31m    J =  # <policy objective as in the last formula. Please use mean, not sum.>\u001b[0m\n\u001b[0m                                                                               ^\u001b[0m\n\u001b[0;31mSyntaxError\u001b[0m\u001b[0;31m:\u001b[0m invalid syntax\n"
     ]
    }
   ],
   "source": [
    "# REINFORCE objective function\n",
    "# hint: you need to use log_policy_for_actions to get log probabilities for actions taken\n",
    "\n",
    "# <policy objective as in the last formula. Please use mean, not sum.>\n",
    "J = tf.mean(tf.sum())"
   ]
  },
  {
   "cell_type": "code",
   "execution_count": 6,
   "metadata": {
    "collapsed": true
   },
   "outputs": [],
   "source": [
    "# regularize with entropy\n",
    "entropy = <compute entropy. Don't forget the sign!>"
   ]
  },
  {
   "cell_type": "code",
   "execution_count": 7,
   "metadata": {
    "collapsed": true
   },
   "outputs": [],
   "source": [
    "# all network weights\n",
    "all_weights = <a list of all trainable weights in your network >\n",
    "\n",
    "# weight updates. maximizing J is same as minimizing -J. Adding negative entropy.\n",
    "loss = -J - 0.1*entropy\n",
    "\n",
    "update = tf.train.AdamOptimizer().minimize(loss, var_list=all_weights)"
   ]
  },
  {
   "cell_type": "markdown",
   "metadata": {},
   "source": [
    "### Computing cumulative rewards"
   ]
  },
  {
   "cell_type": "code",
   "execution_count": 36,
   "metadata": {},
   "outputs": [],
   "source": [
    "\n",
    "\n",
    "def get_cumulative_rewards(rewards,  # rewards at each step\n",
    "                           gamma=0.99  # discount for reward\n",
    "                           ):\n",
    "    \"\"\"\n",
    "    take a list of immediate rewards r(s,a) for the whole session \n",
    "    compute cumulative rewards R(s,a) (a.k.a. G(s,a) in Sutton '16)\n",
    "    R_t = r_t + gamma*r_{t+1} + gamma^2*r_{t+2} + ...\n",
    "\n",
    "    The simple way to compute cumulative rewards is to iterate from last to first time tick\n",
    "    and compute R_t = r_t + gamma*R_{t+1} recurrently\n",
    "\n",
    "    You must return an array/list of cumulative rewards with as many elements as in the initial rewards.\n",
    "    \"\"\"\n",
    "\n",
    "    #<your code here >\n",
    "    rewards_list = []\n",
    "    m = len(rewards)\n",
    "    print('rewards len = {}'.format(m))\n",
    "    for r_t in rewards.reverse():\n",
    "        \n",
    "        print(R_t)\n",
    "        rewards_list.append(R_t)\n",
    "    return rewards_list"
   ]
  },
  {
   "cell_type": "code",
   "execution_count": 37,
   "metadata": {},
   "outputs": [
    {
     "name": "stdout",
     "output_type": "stream",
     "text": [
      "2642.380210770436\n",
      "2669.060818960035\n",
      "2694.990726222259\n",
      "2720.1623497194537\n",
      "2744.5680300196505\n",
      "2768.2000303228783\n",
      "2791.050535679675\n",
      "2813.1116522016914\n",
      "2834.3754062643357\n",
      "2854.83374370135\n",
      "2874.4785289912616\n",
      "2893.301544435619\n",
      "2911.2944893289077\n",
      "2928.448979120107\n",
      "2944.7565445657665\n",
      "2960.2086308745115\n",
      "2974.7965968429403\n",
      "2988.511713982769\n",
      "3001.34516563916\n",
      "3013.2880461001623\n",
      "3024.331359697133\n",
      "3034.466019896094\n",
      "3043.6828483798927\n",
      "3051.972574121104\n",
      "3059.32583244556\n",
      "3065.7331640864236\n",
      "3071.1850142287117\n",
      "3075.671731544152\n",
      "3079.183567216315\n",
      "3081.710673955874\n",
      "3083.2431050059336\n",
      "3083.7708131373074\n",
      "3083.283649633643\n",
      "3081.771363266306\n",
      "3079.223599258896\n",
      "3075.629898241307\n",
      "3070.9796951932394\n",
      "3065.262318377011\n",
      "3058.4669882596068\n",
      "3050.582816423846\n",
      "3041.59880446853\n",
      "3031.5038428975063\n",
      "3020.2867099974806\n",
      "3007.936070704527\n",
      "2994.4404754591174\n",
      "2979.788359049614\n",
      "2963.968039444055\n",
      "2946.967716610157\n",
      "2928.7754713233894\n",
      "2909.379263963019\n",
      "2888.766933295979\n",
      "2866.9261952484644\n",
      "2843.8446416651154\n",
      "2819.509739055672\n",
      "2793.908827328961\n",
      "2767.0291185141036\n",
      "2738.857695468791\n",
      "2709.381510574536\n",
      "2678.5873844187236\n",
      "2646.462004463357\n",
      "2612.991923700361\n",
      "2578.1635592932935\n",
      "2541.9631912053474\n",
      "2504.3769608134826\n",
      "2465.390869508568\n",
      "2424.9907772813817\n",
      "2383.1624012943253\n",
      "2339.8913144387125\n",
      "2295.162943877487\n",
      "2248.9625695732198\n",
      "2201.2753228012316\n",
      "2152.086184647709\n",
      "2101.3799844926352\n",
      "2049.14139847741\n",
      "1995.354947956979\n",
      "1940.0049979363425\n",
      "1883.075755491255\n",
      "1824.5512681729847\n",
      "1764.4154223969545\n",
      "1702.6519418151056\n",
      "1639.2443856718235\n",
      "1574.1761471432562\n",
      "1507.4304516598547\n",
      "1438.990355211975\n",
      "1368.838742638358\n",
      "1296.9583258973316\n",
      "1223.3316423205367\n",
      "1147.9410528490273\n",
      "1070.7687402515426\n",
      "991.7967073247906\n",
      "911.006775075546\n",
      "828.3805808843899\n",
      "743.8995766508991\n",
      "657.5450269201\n",
      "569.29800699\n",
      "479.13940099999996\n",
      "387.0499\n",
      "293.01\n",
      "197.0\n",
      "99\n",
      "1.5561\n",
      "1.729\n",
      "1.81\n",
      "0.9\n",
      "1.0\n",
      "1.0\n",
      "0\n"
     ]
    },
    {
     "ename": "AssertionError",
     "evalue": "",
     "output_type": "error",
     "traceback": [
      "\u001b[0;31m---------------------------------------------------------------------------\u001b[0m",
      "\u001b[0;31mAssertionError\u001b[0m                            Traceback (most recent call last)",
      "\u001b[0;32m<ipython-input-37-c97c71f54a0c>\u001b[0m in \u001b[0;36m<module>\u001b[0;34m()\u001b[0m\n\u001b[1;32m      1\u001b[0m \u001b[0;32massert\u001b[0m \u001b[0mlen\u001b[0m\u001b[0;34m(\u001b[0m\u001b[0mget_cumulative_rewards\u001b[0m\u001b[0;34m(\u001b[0m\u001b[0mrange\u001b[0m\u001b[0;34m(\u001b[0m\u001b[0;36m100\u001b[0m\u001b[0;34m)\u001b[0m\u001b[0;34m)\u001b[0m\u001b[0;34m)\u001b[0m \u001b[0;34m==\u001b[0m \u001b[0;36m100\u001b[0m\u001b[0;34m\u001b[0m\u001b[0;34m\u001b[0m\u001b[0m\n\u001b[1;32m      2\u001b[0m assert np.allclose(get_cumulative_rewards([0, 0, 1, 0, 0, 1, 0], gamma=0.9), [\n\u001b[0;32m----> 3\u001b[0;31m                    1.40049, 1.5561, 1.729, 0.81, 0.9, 1.0, 0.0])\n\u001b[0m\u001b[1;32m      4\u001b[0m assert np.allclose(get_cumulative_rewards(\n\u001b[1;32m      5\u001b[0m     [0, 0, 1, -2, 3, -4, 0], gamma=0.5), [0.0625, 0.125, 0.25, -1.5, 1.0, -4.0, 0.0])\n",
      "\u001b[0;31mAssertionError\u001b[0m: "
     ]
    }
   ],
   "source": [
    "assert len(get_cumulative_rewards(range(100))) == 100\n",
    "assert np.allclose(get_cumulative_rewards([0, 0, 1, 0, 0, 1, 0], gamma=0.9), [\n",
    "                   1.40049, 1.5561, 1.729, 0.81, 0.9, 1.0, 0.0])\n",
    "assert np.allclose(get_cumulative_rewards(\n",
    "    [0, 0, 1, -2, 3, -4, 0], gamma=0.5), [0.0625, 0.125, 0.25, -1.5, 1.0, -4.0, 0.0])\n",
    "assert np.allclose(get_cumulative_rewards(\n",
    "    [0, 0, 1, 2, 3, 4, 0], gamma=0), [0, 0, 1, 2, 3, 4, 0])\n",
    "print(\"looks good!\")"
   ]
  },
  {
   "cell_type": "code",
   "execution_count": 31,
   "metadata": {},
   "outputs": [],
   "source": [
    "def train_step(_states, _actions, _rewards):\n",
    "    \"\"\"given full session, trains agent with policy gradient\"\"\"\n",
    "    _cumulative_rewards = get_cumulative_rewards(_rewards)\n",
    "    update.run({states: _states, actions: _actions,\n",
    "                cumulative_rewards: _cumulative_rewards})"
   ]
  },
  {
   "cell_type": "markdown",
   "metadata": {},
   "source": [
    "### Playing the game"
   ]
  },
  {
   "cell_type": "code",
   "execution_count": 11,
   "metadata": {
    "collapsed": true
   },
   "outputs": [],
   "source": [
    "def generate_session(t_max=1000):\n",
    "    \"\"\"play env with REINFORCE agent and train at the session end\"\"\"\n",
    "\n",
    "    # arrays to record session\n",
    "    states, actions, rewards = [], [], []\n",
    "\n",
    "    s = env.reset()\n",
    "\n",
    "    for t in range(t_max):\n",
    "\n",
    "        # action probabilities array aka pi(a|s)\n",
    "        action_probas = get_action_proba(s)\n",
    "\n",
    "        a = <pick random action using action_probas >\n",
    "\n",
    "        new_s, r, done, info = env.step(a)\n",
    "\n",
    "        # record session history to train later\n",
    "        states.append(s)\n",
    "        actions.append(a)\n",
    "        rewards.append(r)\n",
    "\n",
    "        s = new_s\n",
    "        if done:\n",
    "            break\n",
    "\n",
    "    train_step(states, actions, rewards)\n",
    "\n",
    "    return sum(rewards)"
   ]
  },
  {
   "cell_type": "code",
   "execution_count": 12,
   "metadata": {},
   "outputs": [
    {
     "name": "stdout",
     "output_type": "stream",
     "text": [
      "mean reward:27.590\n",
      "mean reward:70.340\n",
      "mean reward:129.570\n",
      "mean reward:188.330\n",
      "mean reward:211.530\n",
      "mean reward:240.490\n",
      "mean reward:235.760\n",
      "mean reward:218.030\n",
      "mean reward:258.470\n",
      "mean reward:184.760\n",
      "mean reward:298.920\n",
      "mean reward:507.360\n",
      "You Win!\n"
     ]
    }
   ],
   "source": [
    "s = tf.InteractiveSession()\n",
    "s.run(tf.global_variables_initializer())\n",
    "\n",
    "for i in range(100):\n",
    "\n",
    "    rewards = [generate_session() for _ in range(100)]  # generate new sessions\n",
    "\n",
    "    print(\"mean reward:%.3f\" % (np.mean(rewards)))\n",
    "\n",
    "    if np.mean(rewards) > 300:\n",
    "        print(\"You Win!\")\n",
    "        break"
   ]
  },
  {
   "cell_type": "markdown",
   "metadata": {},
   "source": [
    "### Results & video"
   ]
  },
  {
   "cell_type": "code",
   "execution_count": 13,
   "metadata": {},
   "outputs": [
    {
     "name": "stderr",
     "output_type": "stream",
     "text": [
      "[2017-04-08 03:29:10,315] Making new env: CartPole-v0\n",
      "[2017-04-08 03:29:10,324] DEPRECATION WARNING: env.spec.timestep_limit has been deprecated. Replace your call to `env.spec.timestep_limit` with `env.spec.tags.get('wrapper_config.TimeLimit.max_episode_steps')`. This change was made 12/28/2016 and is included in version 0.7.0\n",
      "[2017-04-08 03:29:10,329] Clearing 6 monitor files from previous run (because force=True was provided)\n",
      "[2017-04-08 03:29:10,336] Starting new video recorder writing to /home/jheuristic/Downloads/sonnet/sonnet/examples/videos/openaigym.video.0.14221.video000000.mp4\n",
      "[2017-04-08 03:29:16,834] Starting new video recorder writing to /home/jheuristic/Downloads/sonnet/sonnet/examples/videos/openaigym.video.0.14221.video000001.mp4\n",
      "[2017-04-08 03:29:23,689] Starting new video recorder writing to /home/jheuristic/Downloads/sonnet/sonnet/examples/videos/openaigym.video.0.14221.video000008.mp4\n",
      "[2017-04-08 03:29:33,407] Starting new video recorder writing to /home/jheuristic/Downloads/sonnet/sonnet/examples/videos/openaigym.video.0.14221.video000027.mp4\n",
      "[2017-04-08 03:29:45,840] Starting new video recorder writing to /home/jheuristic/Downloads/sonnet/sonnet/examples/videos/openaigym.video.0.14221.video000064.mp4\n",
      "[2017-04-08 03:29:56,812] Finished writing results. You can upload them to the scoreboard via gym.upload('/home/jheuristic/Downloads/sonnet/sonnet/examples/videos')\n"
     ]
    }
   ],
   "source": [
    "# record sessions\n",
    "import gym.wrappers\n",
    "env = gym.wrappers.Monitor(gym.make(\"CartPole-v0\"),\n",
    "                           directory=\"videos\", force=True)\n",
    "sessions = [generate_session() for _ in range(100)]\n",
    "env.close()"
   ]
  },
  {
   "cell_type": "code",
   "execution_count": 14,
   "metadata": {},
   "outputs": [
    {
     "data": {
      "text/html": [
       "\n",
       "<video width=\"640\" height=\"480\" controls>\n",
       "  <source src=\"./videos/openaigym.video.0.14221.video000027.mp4\" type=\"video/mp4\">\n",
       "</video>\n"
      ],
      "text/plain": [
       "<IPython.core.display.HTML object>"
      ]
     },
     "execution_count": 14,
     "metadata": {},
     "output_type": "execute_result"
    }
   ],
   "source": [
    "# show video\n",
    "from IPython.display import HTML\n",
    "import os\n",
    "\n",
    "video_names = list(\n",
    "    filter(lambda s: s.endswith(\".mp4\"), os.listdir(\"./videos/\")))\n",
    "\n",
    "HTML(\"\"\"\n",
    "<video width=\"640\" height=\"480\" controls>\n",
    "  <source src=\"{}\" type=\"video/mp4\">\n",
    "</video>\n",
    "\"\"\".format(\"./videos/\"+video_names[-1]))  # this may or may not be _last_ video. Try other indices"
   ]
  },
  {
   "cell_type": "code",
   "execution_count": null,
   "metadata": {
    "collapsed": true
   },
   "outputs": [],
   "source": [
    "# That's all, thank you for your attention!"
   ]
  }
 ],
 "metadata": {
  "kernelspec": {
   "display_name": "Python 3",
   "language": "python",
   "name": "python3"
  },
  "language_info": {
   "codemirror_mode": {
    "name": "ipython",
    "version": 3
   },
   "file_extension": ".py",
   "mimetype": "text/x-python",
   "name": "python",
   "nbconvert_exporter": "python",
   "pygments_lexer": "ipython3",
   "version": "3.6.9"
  }
 },
 "nbformat": 4,
 "nbformat_minor": 1
}
