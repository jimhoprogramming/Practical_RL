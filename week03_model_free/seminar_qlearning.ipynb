{
 "cells": [
  {
   "cell_type": "markdown",
   "metadata": {},
   "source": [
    "## Q-learning (3 points)\n",
    "\n",
    "This notebook will guide you through implementation of vanilla Q-learning algorithm.\n",
    "\n",
    "You need to implement QLearningAgent (follow instructions for each method) and use it on a number of tests below."
   ]
  },
  {
   "cell_type": "code",
   "execution_count": 1,
<<<<<<< HEAD
   "metadata": {},
=======
   "metadata": {
    "collapsed": true
   },
>>>>>>> 87a73886a358aa4bc0dae10efa7c7aabca3a70ac
   "outputs": [],
   "source": [
    "# In google collab, uncomment this:\n",
    "# !wget https://bit.ly/2FMJP5K -q -O setup.py\n",
    "# !bash setup.py 2>&1 1>stdout.log | tee stderr.log\n",
    "\n",
    "# This code creates a virtual display to draw game images on.\n",
    "# If you are running locally, just ignore it\n",
    "import os\n",
    "if type(os.environ.get(\"DISPLAY\")) is not str or len(os.environ.get(\"DISPLAY\")) == 0:\n",
    "    !bash ../xvfb start\n",
    "    %env DISPLAY = : 1\n",
    "\n",
    "import numpy as np\n",
    "import matplotlib.pyplot as plt\n",
    "%matplotlib inline\n",
    "%load_ext autoreload\n",
    "%autoreload 2"
   ]
  },
  {
   "cell_type": "code",
<<<<<<< HEAD
   "execution_count": 19,
   "metadata": {
    "code_folding": [
     12,
     17,
     18,
     20,
     22,
     25,
     35,
     64
    ]
   },
   "outputs": [],
   "source": [
    "#%%writefile qlearning.py\n",
=======
   "execution_count": 2,
   "metadata": {},
   "outputs": [
    {
     "name": "stdout",
     "output_type": "stream",
     "text": [
      "Overwriting qlearning.py\n"
     ]
    }
   ],
   "source": [
    "%%writefile qlearning.py\n",
>>>>>>> 87a73886a358aa4bc0dae10efa7c7aabca3a70ac
    "from collections import defaultdict\n",
    "import random\n",
    "import math\n",
    "import numpy as np\n",
    "\n",
    "\n",
    "class QLearningAgent:\n",
    "    def __init__(self, alpha, epsilon, discount, get_legal_actions):\n",
    "        \"\"\"\n",
    "        Q-Learning Agent\n",
    "        based on https://inst.eecs.berkeley.edu/~cs188/sp19/projects.html\n",
    "        Instance variables you have access to\n",
    "          - self.epsilon (exploration prob)\n",
    "          - self.alpha (learning rate)\n",
    "          - self.discount (discount rate aka gamma)\n",
    "\n",
    "        Functions you should use\n",
    "          - self.get_legal_actions(state) {state, hashable -> list of actions, each is hashable}\n",
    "            which returns legal actions for a state\n",
    "          - self.get_qvalue(state,action)\n",
    "            which returns Q(state,action)\n",
    "          - self.set_qvalue(state,action,value)\n",
    "            which sets Q(state,action) := value\n",
    "        !!!Important!!!\n",
    "        Note: please avoid using self._qValues directly. \n",
    "            There's a special self.get_qvalue/set_qvalue for that.\n",
    "        \"\"\"\n",
    "\n",
    "        self.get_legal_actions = get_legal_actions\n",
    "        self._qvalues = defaultdict(lambda: defaultdict(lambda: 0))\n",
    "        self.alpha = alpha\n",
    "        self.epsilon = epsilon\n",
    "        self.discount = discount\n",
    "\n",
    "    def get_qvalue(self, state, action):\n",
    "        \"\"\" Returns Q(state,action) \"\"\"\n",
    "        return self._qvalues[state][action]\n",
    "\n",
    "    def set_qvalue(self, state, action, value):\n",
    "        \"\"\" Sets the Qvalue for [state,action] to the given value \"\"\"\n",
    "        self._qvalues[state][action] = value\n",
    "\n",
    "    #---------------------START OF YOUR CODE---------------------#\n",
    "\n",
    "    def get_value(self, state):\n",
    "        \"\"\"\n",
    "        Compute your agent's estimate of V(s) using current q-values\n",
    "        V(s) = max_over_action Q(state,action) over possible actions.\n",
    "        Note: please take into account that q-values can be negative.\n",
    "        \"\"\"\n",
    "        possible_actions = self.get_legal_actions(state)\n",
    "\n",
    "        # If there are no legal actions, return 0.0\n",
    "        if len(possible_actions) == 0:\n",
    "            return 0.0\n",
    "\n",
<<<<<<< HEAD
    "        #<YOUR CODE HERE >\n",
    "        v_over_action = [self.get_qvalue(state,a) for a in possible_actions]\n",
    "        value = max(v_over_action) \n",
=======
    "        <YOUR CODE HERE >\n",
    "\n",
>>>>>>> 87a73886a358aa4bc0dae10efa7c7aabca3a70ac
    "        return value\n",
    "\n",
    "    def update(self, state, action, reward, next_state):\n",
    "        \"\"\"\n",
    "        You should do your Q-Value update here:\n",
    "           Q(s,a) := (1 - alpha) * Q(s,a) + alpha * (r + gamma * V(s'))\n",
    "        \"\"\"\n",
    "\n",
    "        # agent parameters\n",
    "        gamma = self.discount\n",
    "        learning_rate = self.alpha\n",
    "\n",
<<<<<<< HEAD
    "        #<YOUR CODE HERE >\n",
    "        YOUR_QVALUE = (1 - learning_rate) * self.get_qvalue(state, action) + learning_rate * (reward + gamma * self.get_value(next_state))\n",
    "        self.set_qvalue(state, action, YOUR_QVALUE)\n",
=======
    "        <YOUR CODE HERE >\n",
    "\n",
    "        self.set_qvalue(state, action, < YOUR_QVALUE > )\n",
>>>>>>> 87a73886a358aa4bc0dae10efa7c7aabca3a70ac
    "\n",
    "    def get_best_action(self, state):\n",
    "        \"\"\"\n",
    "        Compute the best action to take in a state (using current q-values). \n",
    "        \"\"\"\n",
    "        possible_actions = self.get_legal_actions(state)\n",
    "\n",
    "        # If there are no legal actions, return None\n",
    "        if len(possible_actions) == 0:\n",
    "            return None\n",
    "\n",
<<<<<<< HEAD
    "        #<YOUR CODE HERE >\n",
    "        qsa_all_a = {a:self.get_qvalue(state,a) for a in possible_actions}\n",
    "        index = np.argmax(qsa_all_a.values())\n",
    "        best_action = [a for a in qsa_all_a.keys()][index]\n",
=======
    "        <YOUR CODE HERE >\n",
    "\n",
>>>>>>> 87a73886a358aa4bc0dae10efa7c7aabca3a70ac
    "        return best_action\n",
    "\n",
    "    def get_action(self, state):\n",
    "        \"\"\"\n",
    "        Compute the action to take in the current state, including exploration.  \n",
    "        With probability self.epsilon, we should take a random action.\n",
    "            otherwise - the best policy action (self.get_best_action).\n",
    "\n",
    "        Note: To pick randomly from a list, use random.choice(list). \n",
    "              To pick True or False with a given probablity, generate uniform number in [0, 1]\n",
    "              and compare it with your probability\n",
    "        \"\"\"\n",
    "\n",
    "        # Pick Action\n",
    "        possible_actions = self.get_legal_actions(state)\n",
    "        action = None\n",
    "\n",
    "        # If there are no legal actions, return None\n",
    "        if len(possible_actions) == 0:\n",
    "            return None\n",
    "\n",
    "        # agent parameters:\n",
    "        epsilon = self.epsilon\n",
    "\n",
<<<<<<< HEAD
    "        #<YOUR CODE HERE >\n",
    "        if np.random.uniform(0,1)<epsilon:\n",
    "            chosen_action = np.random.choice(possible_actions,1)[0]\n",
    "        else:\n",
    "            chosen_action = self.get_best_action(state)\n",
=======
    "        <YOUR CODE HERE >\n",
    "\n",
>>>>>>> 87a73886a358aa4bc0dae10efa7c7aabca3a70ac
    "        return chosen_action"
   ]
  },
  {
   "cell_type": "markdown",
   "metadata": {},
   "source": [
    "### Try it on taxi\n",
    "\n",
    "Here we use the qlearning agent on taxi env from openai gym.\n",
    "You will need to insert a few agent functions here."
   ]
  },
  {
   "cell_type": "code",
<<<<<<< HEAD
   "execution_count": 20,
   "metadata": {},
   "outputs": [
    {
     "name": "stdout",
     "output_type": "stream",
     "text": [
      "entry_point is :gym.envs.toy_text.taxi:TaxiEnv\n"
     ]
    },
    {
     "name": "stderr",
     "output_type": "stream",
     "text": [
      "/home/jim/.local/lib/python3.6/site-packages/gym/envs/registration.py:14: PkgResourcesDeprecationWarning: Parameters to load are deprecated.  Call .resolve and .require separately.\n",
      "  result = entry_point.load(require = False)\n"
     ]
    }
   ],
=======
   "execution_count": 3,
   "metadata": {
    "collapsed": true
   },
   "outputs": [],
>>>>>>> 87a73886a358aa4bc0dae10efa7c7aabca3a70ac
   "source": [
    "import gym\n",
    "env = gym.make(\"Taxi-v2\")\n",
    "\n",
    "n_actions = env.action_space.n"
   ]
  },
  {
   "cell_type": "code",
<<<<<<< HEAD
   "execution_count": 35,
   "metadata": {},
   "outputs": [],
   "source": [
    "#from qlearning import QLearningAgent\n",
=======
   "execution_count": 4,
   "metadata": {
    "collapsed": true
   },
   "outputs": [],
   "source": [
    "from qlearning import QLearningAgent\n",
>>>>>>> 87a73886a358aa4bc0dae10efa7c7aabca3a70ac
    "\n",
    "agent = QLearningAgent(alpha=0.5, epsilon=0.25, discount=0.99,\n",
    "                       get_legal_actions=lambda s: range(n_actions))"
   ]
  },
  {
   "cell_type": "code",
<<<<<<< HEAD
   "execution_count": 36,
   "metadata": {},
=======
   "execution_count": 5,
   "metadata": {
    "collapsed": true
   },
>>>>>>> 87a73886a358aa4bc0dae10efa7c7aabca3a70ac
   "outputs": [],
   "source": [
    "def play_and_train(env, agent, t_max=10**4):\n",
    "    \"\"\"\n",
    "    This function should \n",
    "    - run a full game, actions given by agent's e-greedy policy\n",
    "    - train agent using agent.update(...) whenever it is possible\n",
    "    - return total reward\n",
    "    \"\"\"\n",
    "    total_reward = 0.0\n",
    "    s = env.reset()\n",
    "\n",
    "    for t in range(t_max):\n",
    "        # get agent to pick action given state s.\n",
<<<<<<< HEAD
    "        # <YOUR CODE >\n",
    "        a = agent.get_action(s) \n",
    "        next_s, r, done, _ = env.step(a)\n",
    "\n",
    "        # train (update) agent for state s\n",
    "        # <YOUR CODE HERE >\n",
    "        agent.update(state = s, action = a, reward = r, next_state = next_s)\n",
=======
    "        a = <YOUR CODE >\n",
    "\n",
    "        next_s, r, done, _ = env.step(a)\n",
    "\n",
    "        # train (update) agent for state s\n",
    "        <YOUR CODE HERE >\n",
    "\n",
>>>>>>> 87a73886a358aa4bc0dae10efa7c7aabca3a70ac
    "        s = next_s\n",
    "        total_reward += r\n",
    "        if done:\n",
    "            break\n",
    "\n",
    "    return total_reward"
   ]
  },
  {
   "cell_type": "code",
<<<<<<< HEAD
   "execution_count": 37,
=======
   "execution_count": 6,
>>>>>>> 87a73886a358aa4bc0dae10efa7c7aabca3a70ac
   "metadata": {},
   "outputs": [
    {
     "name": "stdout",
     "output_type": "stream",
     "text": [
<<<<<<< HEAD
      "eps = 2.9191091959171894e-05 mean reward = -200.0\n"
=======
      "eps = 2.9191091959171894e-05 mean reward = 8.5\n"
>>>>>>> 87a73886a358aa4bc0dae10efa7c7aabca3a70ac
     ]
    },
    {
     "data": {
<<<<<<< HEAD
      "image/png": "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\n",
      "text/plain": [
       "<Figure size 432x288 with 1 Axes>"
=======
      "image/png": "iVBORw0KGgoAAAANSUhEUgAAAYIAAAD8CAYAAAB6paOMAAAABHNCSVQICAgIfAhkiAAAAAlwSFlz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\nf9DA+hiS03yrAAAAAElFTkSuQmCC\n",
      "text/plain": [
       "<matplotlib.figure.Figure at 0x7f7cb30164a8>"
>>>>>>> 87a73886a358aa4bc0dae10efa7c7aabca3a70ac
      ]
     },
     "metadata": {},
     "output_type": "display_data"
    }
   ],
   "source": [
    "from IPython.display import clear_output\n",
    "\n",
    "rewards = []\n",
    "for i in range(1000):\n",
    "    rewards.append(play_and_train(env, agent))\n",
    "    agent.epsilon *= 0.99\n",
    "\n",
    "    if i % 100 == 0:\n",
    "        clear_output(True)\n",
    "        print('eps =', agent.epsilon, 'mean reward =', np.mean(rewards[-10:]))\n",
    "        plt.plot(rewards)\n",
    "        plt.show()"
   ]
  },
  {
   "cell_type": "markdown",
   "metadata": {
    "collapsed": true
   },
   "source": [
    "# Binarized state spaces\n",
    "\n",
    "Use agent to train efficiently on CartPole-v0.\n",
    "This environment has a continuous set of possible states, so you will have to group them into bins somehow.\n",
    "\n",
    "The simplest way is to use `round(x,n_digits)` (or numpy round) to round real number to a given amount of digits.\n",
    "\n",
    "The tricky part is to get the n_digits right for each state to train effectively.\n",
    "\n",
    "Note that you don't need to convert state to integers, but to __tuples__ of any kind of values."
   ]
  },
  {
   "cell_type": "code",
<<<<<<< HEAD
   "execution_count": 39,
   "metadata": {},
   "outputs": [
    {
     "name": "stdout",
     "output_type": "stream",
     "text": [
      "entry_point is :gym.envs.classic_control:CartPoleEnv\n",
      "\u001b[33mWARN: gym.spaces.Box autodetected dtype as <class 'numpy.float32'>. Please provide explicit dtype.\u001b[0m\n",
      "first state:[-0.0470169  -0.0179386  -0.01799376  0.04980367]\n"
     ]
    },
    {
     "name": "stderr",
     "output_type": "stream",
     "text": [
      "/home/jim/.local/lib/python3.6/site-packages/gym/envs/registration.py:14: PkgResourcesDeprecationWarning: Parameters to load are deprecated.  Call .resolve and .require separately.\n",
      "  result = entry_point.load(require = False)\n"
     ]
    },
    {
     "ename": "NameError",
     "evalue": "name 'base' is not defined",
     "output_type": "error",
     "traceback": [
      "\u001b[0;31m---------------------------------------------------------------------------\u001b[0m",
      "\u001b[0;31mNameError\u001b[0m                                 Traceback (most recent call last)",
      "\u001b[0;32m<ipython-input-39-fded2e470610>\u001b[0m in \u001b[0;36m<module>\u001b[0;34m()\u001b[0m\n\u001b[1;32m      3\u001b[0m \u001b[0;34m\u001b[0m\u001b[0m\n\u001b[1;32m      4\u001b[0m \u001b[0mprint\u001b[0m\u001b[0;34m(\u001b[0m\u001b[0;34m\"first state:%s\"\u001b[0m \u001b[0;34m%\u001b[0m \u001b[0;34m(\u001b[0m\u001b[0menv\u001b[0m\u001b[0;34m.\u001b[0m\u001b[0mreset\u001b[0m\u001b[0;34m(\u001b[0m\u001b[0;34m)\u001b[0m\u001b[0;34m)\u001b[0m\u001b[0;34m)\u001b[0m\u001b[0;34m\u001b[0m\u001b[0;34m\u001b[0m\u001b[0m\n\u001b[0;32m----> 5\u001b[0;31m \u001b[0mplt\u001b[0m\u001b[0;34m.\u001b[0m\u001b[0mimshow\u001b[0m\u001b[0;34m(\u001b[0m\u001b[0menv\u001b[0m\u001b[0;34m.\u001b[0m\u001b[0mrender\u001b[0m\u001b[0;34m(\u001b[0m\u001b[0;34m'rgb_array'\u001b[0m\u001b[0;34m)\u001b[0m\u001b[0;34m)\u001b[0m\u001b[0;34m\u001b[0m\u001b[0;34m\u001b[0m\u001b[0m\n\u001b[0m",
      "\u001b[0;32m~/.local/lib/python3.6/site-packages/gym/core.py\u001b[0m in \u001b[0;36mrender\u001b[0;34m(self, mode)\u001b[0m\n\u001b[1;32m    282\u001b[0m \u001b[0;34m\u001b[0m\u001b[0m\n\u001b[1;32m    283\u001b[0m     \u001b[0;32mdef\u001b[0m \u001b[0mrender\u001b[0m\u001b[0;34m(\u001b[0m\u001b[0mself\u001b[0m\u001b[0;34m,\u001b[0m \u001b[0mmode\u001b[0m\u001b[0;34m=\u001b[0m\u001b[0;34m'human'\u001b[0m\u001b[0;34m)\u001b[0m\u001b[0;34m:\u001b[0m\u001b[0;34m\u001b[0m\u001b[0;34m\u001b[0m\u001b[0m\n\u001b[0;32m--> 284\u001b[0;31m         \u001b[0;32mreturn\u001b[0m \u001b[0mself\u001b[0m\u001b[0;34m.\u001b[0m\u001b[0menv\u001b[0m\u001b[0;34m.\u001b[0m\u001b[0mrender\u001b[0m\u001b[0;34m(\u001b[0m\u001b[0mmode\u001b[0m\u001b[0;34m)\u001b[0m\u001b[0;34m\u001b[0m\u001b[0;34m\u001b[0m\u001b[0m\n\u001b[0m\u001b[1;32m    285\u001b[0m \u001b[0;34m\u001b[0m\u001b[0m\n\u001b[1;32m    286\u001b[0m     \u001b[0;32mdef\u001b[0m \u001b[0mclose\u001b[0m\u001b[0;34m(\u001b[0m\u001b[0mself\u001b[0m\u001b[0;34m)\u001b[0m\u001b[0;34m:\u001b[0m\u001b[0;34m\u001b[0m\u001b[0;34m\u001b[0m\u001b[0m\n",
      "\u001b[0;32m~/.local/lib/python3.6/site-packages/gym/envs/classic_control/cartpole.py\u001b[0m in \u001b[0;36mrender\u001b[0;34m(self, mode)\u001b[0m\n\u001b[1;32m    104\u001b[0m \u001b[0;34m\u001b[0m\u001b[0m\n\u001b[1;32m    105\u001b[0m         \u001b[0;32mif\u001b[0m \u001b[0mself\u001b[0m\u001b[0;34m.\u001b[0m\u001b[0mviewer\u001b[0m \u001b[0;32mis\u001b[0m \u001b[0;32mNone\u001b[0m\u001b[0;34m:\u001b[0m\u001b[0;34m\u001b[0m\u001b[0;34m\u001b[0m\u001b[0m\n\u001b[0;32m--> 106\u001b[0;31m             \u001b[0;32mfrom\u001b[0m \u001b[0mgym\u001b[0m\u001b[0;34m.\u001b[0m\u001b[0menvs\u001b[0m\u001b[0;34m.\u001b[0m\u001b[0mclassic_control\u001b[0m \u001b[0;32mimport\u001b[0m \u001b[0mrendering\u001b[0m\u001b[0;34m\u001b[0m\u001b[0;34m\u001b[0m\u001b[0m\n\u001b[0m\u001b[1;32m    107\u001b[0m             \u001b[0mself\u001b[0m\u001b[0;34m.\u001b[0m\u001b[0mviewer\u001b[0m \u001b[0;34m=\u001b[0m \u001b[0mrendering\u001b[0m\u001b[0;34m.\u001b[0m\u001b[0mViewer\u001b[0m\u001b[0;34m(\u001b[0m\u001b[0mscreen_width\u001b[0m\u001b[0;34m,\u001b[0m \u001b[0mscreen_height\u001b[0m\u001b[0;34m)\u001b[0m\u001b[0;34m\u001b[0m\u001b[0;34m\u001b[0m\u001b[0m\n\u001b[1;32m    108\u001b[0m             \u001b[0ml\u001b[0m\u001b[0;34m,\u001b[0m\u001b[0mr\u001b[0m\u001b[0;34m,\u001b[0m\u001b[0mt\u001b[0m\u001b[0;34m,\u001b[0m\u001b[0mb\u001b[0m \u001b[0;34m=\u001b[0m \u001b[0;34m-\u001b[0m\u001b[0mcartwidth\u001b[0m\u001b[0;34m/\u001b[0m\u001b[0;36m2\u001b[0m\u001b[0;34m,\u001b[0m \u001b[0mcartwidth\u001b[0m\u001b[0;34m/\u001b[0m\u001b[0;36m2\u001b[0m\u001b[0;34m,\u001b[0m \u001b[0mcartheight\u001b[0m\u001b[0;34m/\u001b[0m\u001b[0;36m2\u001b[0m\u001b[0;34m,\u001b[0m \u001b[0;34m-\u001b[0m\u001b[0mcartheight\u001b[0m\u001b[0;34m/\u001b[0m\u001b[0;36m2\u001b[0m\u001b[0;34m\u001b[0m\u001b[0;34m\u001b[0m\u001b[0m\n",
      "\u001b[0;32m~/.local/lib/python3.6/site-packages/gym/envs/classic_control/rendering.py\u001b[0m in \u001b[0;36m<module>\u001b[0;34m()\u001b[0m\n\u001b[1;32m     21\u001b[0m \u001b[0;34m\u001b[0m\u001b[0m\n\u001b[1;32m     22\u001b[0m \u001b[0;32mtry\u001b[0m\u001b[0;34m:\u001b[0m\u001b[0;34m\u001b[0m\u001b[0;34m\u001b[0m\u001b[0m\n\u001b[0;32m---> 23\u001b[0;31m     \u001b[0;32mfrom\u001b[0m \u001b[0mpyglet\u001b[0m\u001b[0;34m.\u001b[0m\u001b[0mgl\u001b[0m \u001b[0;32mimport\u001b[0m \u001b[0;34m*\u001b[0m\u001b[0;34m\u001b[0m\u001b[0;34m\u001b[0m\u001b[0m\n\u001b[0m\u001b[1;32m     24\u001b[0m \u001b[0;32mexcept\u001b[0m \u001b[0mImportError\u001b[0m \u001b[0;32mas\u001b[0m \u001b[0me\u001b[0m\u001b[0;34m:\u001b[0m\u001b[0;34m\u001b[0m\u001b[0;34m\u001b[0m\u001b[0m\n\u001b[1;32m     25\u001b[0m     \u001b[0mreraise\u001b[0m\u001b[0;34m(\u001b[0m\u001b[0mprefix\u001b[0m\u001b[0;34m=\u001b[0m\u001b[0;34m\"Error occured while running `from pyglet.gl import *`\"\u001b[0m\u001b[0;34m,\u001b[0m\u001b[0msuffix\u001b[0m\u001b[0;34m=\u001b[0m\u001b[0;34m\"HINT: make sure you have OpenGL install. On Ubuntu, you can run 'apt-get install python-opengl'. If you're running on a server, you may need a virtual frame buffer; something like this should work: 'xvfb-run -s \\\"-screen 0 1400x900x24\\\" python <your_script.py>'\"\u001b[0m\u001b[0;34m)\u001b[0m\u001b[0;34m\u001b[0m\u001b[0;34m\u001b[0m\u001b[0m\n",
      "\u001b[0;32m~/.local/lib/python3.6/site-packages/pyglet/gl/__init__.py\u001b[0m in \u001b[0;36m<module>\u001b[0;34m()\u001b[0m\n\u001b[1;32m    225\u001b[0m     \u001b[0;32melse\u001b[0m\u001b[0;34m:\u001b[0m\u001b[0;34m\u001b[0m\u001b[0;34m\u001b[0m\u001b[0m\n\u001b[1;32m    226\u001b[0m         \u001b[0;32mfrom\u001b[0m \u001b[0;34m.\u001b[0m\u001b[0mcarbon\u001b[0m \u001b[0;32mimport\u001b[0m \u001b[0mCarbonConfig\u001b[0m \u001b[0;32mas\u001b[0m \u001b[0mConfig\u001b[0m\u001b[0;34m\u001b[0m\u001b[0;34m\u001b[0m\u001b[0m\n\u001b[0;32m--> 227\u001b[0;31m \u001b[0;32mdel\u001b[0m \u001b[0mbase\u001b[0m\u001b[0;34m\u001b[0m\u001b[0;34m\u001b[0m\u001b[0m\n\u001b[0m\u001b[1;32m    228\u001b[0m \u001b[0;34m\u001b[0m\u001b[0m\n\u001b[1;32m    229\u001b[0m \u001b[0;31m# XXX remove\u001b[0m\u001b[0;34m\u001b[0m\u001b[0;34m\u001b[0m\u001b[0;34m\u001b[0m\u001b[0m\n",
      "\u001b[0;31mNameError\u001b[0m: name 'base' is not defined"
     ]
    }
   ],
=======
   "execution_count": null,
   "metadata": {
    "collapsed": true
   },
   "outputs": [],
>>>>>>> 87a73886a358aa4bc0dae10efa7c7aabca3a70ac
   "source": [
    "env = gym.make(\"CartPole-v0\")\n",
    "n_actions = env.action_space.n\n",
    "\n",
    "print(\"first state:%s\" % (env.reset()))\n",
    "plt.imshow(env.render('rgb_array'))"
   ]
  },
  {
   "cell_type": "markdown",
   "metadata": {},
   "source": [
    "### Play a few games\n",
    "\n",
    "We need to estimate observation distributions. To do so, we'll play a few games and record all states."
   ]
  },
  {
   "cell_type": "code",
   "execution_count": null,
   "metadata": {
    "collapsed": true
   },
   "outputs": [],
   "source": [
    "all_states = []\n",
    "for _ in range(1000):\n",
    "    all_states.append(env.reset())\n",
    "    done = False\n",
    "    while not done:\n",
    "        s, r, done, _ = env.step(env.action_space.sample())\n",
    "        all_states.append(s)\n",
    "        if done:\n",
    "            break\n",
    "\n",
    "all_states = np.array(all_states)\n",
    "\n",
    "for obs_i in range(env.observation_space.shape[0]):\n",
    "    plt.hist(all_states[:, obs_i], bins=20)\n",
    "    plt.show()"
   ]
  },
  {
   "cell_type": "markdown",
   "metadata": {},
   "source": [
    "## Binarize environment"
   ]
  },
  {
   "cell_type": "code",
   "execution_count": null,
   "metadata": {
    "collapsed": true
   },
   "outputs": [],
   "source": [
    "from gym.core import ObservationWrapper\n",
    "\n",
    "\n",
    "class Binarizer(ObservationWrapper):\n",
    "\n",
    "    def observation(self, state):\n",
    "\n",
    "        # state = <round state to some amount digits.>\n",
    "        # hint: you can do that with round(x,n_digits)\n",
    "        # you will need to pick a different n_digits for each dimension\n",
    "\n",
    "        return tuple(state)"
   ]
  },
  {
   "cell_type": "code",
   "execution_count": null,
   "metadata": {
    "collapsed": true
   },
   "outputs": [],
   "source": [
    "env = Binarizer(gym.make(\"CartPole-v0\"))"
   ]
  },
  {
   "cell_type": "code",
   "execution_count": null,
   "metadata": {
    "collapsed": true
   },
   "outputs": [],
   "source": [
    "all_states = []\n",
    "for _ in range(1000):\n",
    "    all_states.append(env.reset())\n",
    "    done = False\n",
    "    while not done:\n",
    "        s, r, done, _ = env.step(env.action_space.sample())\n",
    "        all_states.append(s)\n",
    "        if done:\n",
    "            break\n",
    "\n",
    "all_states = np.array(all_states)\n",
    "\n",
    "for obs_i in range(env.observation_space.shape[0]):\n",
    "\n",
    "    plt.hist(all_states[:, obs_i], bins=20)\n",
    "    plt.show()"
   ]
  },
  {
   "cell_type": "markdown",
   "metadata": {},
   "source": [
    "## Learn binarized policy\n",
    "\n",
    "Now let's train a policy that uses binarized state space.\n",
    "\n",
    "__Tips:__ \n",
    "* If your binarization is too coarse, your agent may fail to find optimal policy. In that case, change binarization. \n",
    "* If your binarization is too fine-grained, your agent will take much longer than 1000 steps to converge. You can either increase number of iterations and decrease epsilon decay or change binarization.\n",
    "* Having 10^3 ~ 10^4 distinct states is recommended (`len(QLearningAgent._qvalues)`), but not required.\n",
    "* A reasonable agent should get to an average reward of >=50."
   ]
  },
  {
   "cell_type": "code",
   "execution_count": null,
   "metadata": {
    "collapsed": true
   },
   "outputs": [],
   "source": [
    "agent = QLearningAgent(alpha=0.5, epsilon=0.25, discount=0.99,\n",
    "                       get_legal_actions=lambda s: range(n_actions))"
   ]
  },
  {
   "cell_type": "code",
   "execution_count": null,
   "metadata": {
    "collapsed": true
   },
   "outputs": [],
   "source": [
    "rewards = []\n",
    "for i in range(1000):\n",
    "    rewards.append(play_and_train(env, agent))\n",
    "\n",
    "    # OPTIONAL YOUR CODE: adjust epsilon\n",
    "    if i % 100 == 0:\n",
    "        clear_output(True)\n",
    "        print('eps =', agent.epsilon, 'mean reward =', np.mean(rewards[-10:]))\n",
    "        plt.plot(rewards)\n",
    "        plt.show()"
   ]
  }
 ],
 "metadata": {
  "kernelspec": {
   "display_name": "Python 3",
   "language": "python",
   "name": "python3"
  },
  "language_info": {
   "codemirror_mode": {
    "name": "ipython",
    "version": 3
   },
   "file_extension": ".py",
   "mimetype": "text/x-python",
   "name": "python",
   "nbconvert_exporter": "python",
   "pygments_lexer": "ipython3",
<<<<<<< HEAD
   "version": "3.6.9"
=======
   "version": "3.6.8"
>>>>>>> 87a73886a358aa4bc0dae10efa7c7aabca3a70ac
  }
 },
 "nbformat": 4,
 "nbformat_minor": 1
}
