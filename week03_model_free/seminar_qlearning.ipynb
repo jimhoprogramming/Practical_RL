{
 "cells": [
  {
   "cell_type": "markdown",
   "metadata": {},
   "source": [
    "## Q-learning (3 points)\n",
    "\n",
    "This notebook will guide you through implementation of vanilla Q-learning algorithm.\n",
    "\n",
    "You need to implement QLearningAgent (follow instructions for each method) and use it on a number of tests below."
   ]
  },
  {
   "cell_type": "code",
<<<<<<< HEAD
   "execution_count": 1,
<<<<<<< HEAD
   "metadata": {},
=======
   "metadata": {
    "collapsed": true
   },
>>>>>>> 87a73886a358aa4bc0dae10efa7c7aabca3a70ac
=======
   "execution_count": 2,
   "metadata": {},
>>>>>>> dev
   "outputs": [],
   "source": [
    "# In google collab, uncomment this:\n",
    "# !wget https://bit.ly/2FMJP5K -q -O setup.py\n",
    "# !bash setup.py 2>&1 1>stdout.log | tee stderr.log\n",
    "\n",
    "# This code creates a virtual display to draw game images on.\n",
    "# If you are running locally, just ignore it\n",
    "import os\n",
    "if type(os.environ.get(\"DISPLAY\")) is not str or len(os.environ.get(\"DISPLAY\")) == 0:\n",
    "    !bash ../xvfb start\n",
    "    %env DISPLAY = : 1\n",
    "\n",
    "import numpy as np\n",
    "import matplotlib.pyplot as plt\n",
    "%matplotlib inline\n",
    "%load_ext autoreload\n",
    "%autoreload 2"
   ]
  },
  {
   "cell_type": "code",
<<<<<<< HEAD
<<<<<<< HEAD
   "execution_count": 19,
=======
   "execution_count": 3,
>>>>>>> dev
   "metadata": {
    "code_folding": [
     12,
     17,
     18,
     20,
     22,
     25,
     35,
     64
    ]
   },
   "outputs": [],
   "source": [
    "#%%writefile qlearning.py\n",
<<<<<<< HEAD
=======
   "execution_count": 2,
   "metadata": {},
   "outputs": [
    {
     "name": "stdout",
     "output_type": "stream",
     "text": [
      "Overwriting qlearning.py\n"
     ]
    }
   ],
   "source": [
    "%%writefile qlearning.py\n",
>>>>>>> 87a73886a358aa4bc0dae10efa7c7aabca3a70ac
=======
>>>>>>> dev
    "from collections import defaultdict\n",
    "import random\n",
    "import math\n",
    "import numpy as np\n",
    "\n",
    "\n",
    "class QLearningAgent:\n",
    "    def __init__(self, alpha, epsilon, discount, get_legal_actions):\n",
    "        \"\"\"\n",
    "        Q-Learning Agent\n",
    "        based on https://inst.eecs.berkeley.edu/~cs188/sp19/projects.html\n",
    "        Instance variables you have access to\n",
    "          - self.epsilon (exploration prob)\n",
    "          - self.alpha (learning rate)\n",
    "          - self.discount (discount rate aka gamma)\n",
    "\n",
    "        Functions you should use\n",
    "          - self.get_legal_actions(state) {state, hashable -> list of actions, each is hashable}\n",
    "            which returns legal actions for a state\n",
    "          - self.get_qvalue(state,action)\n",
    "            which returns Q(state,action)\n",
    "          - self.set_qvalue(state,action,value)\n",
    "            which sets Q(state,action) := value\n",
    "        !!!Important!!!\n",
    "        Note: please avoid using self._qValues directly. \n",
    "            There's a special self.get_qvalue/set_qvalue for that.\n",
    "        \"\"\"\n",
    "\n",
    "        self.get_legal_actions = get_legal_actions\n",
    "        self._qvalues = defaultdict(lambda: defaultdict(lambda: 0))\n",
    "        self.alpha = alpha\n",
    "        self.epsilon = epsilon\n",
    "        self.discount = discount\n",
    "\n",
    "    def get_qvalue(self, state, action):\n",
    "        \"\"\" Returns Q(state,action) \"\"\"\n",
    "        return self._qvalues[state][action]\n",
    "\n",
    "    def set_qvalue(self, state, action, value):\n",
    "        \"\"\" Sets the Qvalue for [state,action] to the given value \"\"\"\n",
    "        self._qvalues[state][action] = value\n",
    "\n",
    "    #---------------------START OF YOUR CODE---------------------#\n",
    "\n",
    "    def get_value(self, state):\n",
    "        \"\"\"\n",
    "        Compute your agent's estimate of V(s) using current q-values\n",
    "        V(s) = max_over_action Q(state,action) over possible actions.\n",
    "        Note: please take into account that q-values can be negative.\n",
    "        \"\"\"\n",
    "        possible_actions = self.get_legal_actions(state)\n",
    "\n",
    "        # If there are no legal actions, return 0.0\n",
    "        if len(possible_actions) == 0:\n",
    "            return 0.0\n",
    "\n",
<<<<<<< HEAD
<<<<<<< HEAD
    "        #<YOUR CODE HERE >\n",
    "        v_over_action = [self.get_qvalue(state,a) for a in possible_actions]\n",
    "        value = max(v_over_action) \n",
=======
    "        <YOUR CODE HERE >\n",
    "\n",
>>>>>>> 87a73886a358aa4bc0dae10efa7c7aabca3a70ac
=======
    "        #<YOUR CODE HERE >\n",
    "        v_over_action = [self.get_qvalue(state,a) for a in possible_actions]\n",
    "        value = max(v_over_action) \n",
>>>>>>> dev
    "        return value\n",
    "\n",
    "    def update(self, state, action, reward, next_state):\n",
    "        \"\"\"\n",
    "        You should do your Q-Value update here:\n",
    "           Q(s,a) := (1 - alpha) * Q(s,a) + alpha * (r + gamma * V(s'))\n",
    "        \"\"\"\n",
    "\n",
    "        # agent parameters\n",
    "        gamma = self.discount\n",
    "        learning_rate = self.alpha\n",
    "\n",
<<<<<<< HEAD
<<<<<<< HEAD
    "        #<YOUR CODE HERE >\n",
    "        YOUR_QVALUE = (1 - learning_rate) * self.get_qvalue(state, action) + learning_rate * (reward + gamma * self.get_value(next_state))\n",
    "        self.set_qvalue(state, action, YOUR_QVALUE)\n",
=======
    "        <YOUR CODE HERE >\n",
    "\n",
    "        self.set_qvalue(state, action, < YOUR_QVALUE > )\n",
>>>>>>> 87a73886a358aa4bc0dae10efa7c7aabca3a70ac
=======
    "        #<YOUR CODE HERE >\n",
    "        YOUR_QVALUE = (1 - learning_rate) * self.get_qvalue(state, action) + learning_rate * (reward + gamma * self.get_value(next_state))\n",
    "        self.set_qvalue(state, action, YOUR_QVALUE)\n",
>>>>>>> dev
    "\n",
    "    def get_best_action(self, state):\n",
    "        \"\"\"\n",
    "        Compute the best action to take in a state (using current q-values). \n",
    "        \"\"\"\n",
    "        possible_actions = self.get_legal_actions(state)\n",
    "\n",
    "        # If there are no legal actions, return None\n",
    "        if len(possible_actions) == 0:\n",
    "            return None\n",
    "\n",
<<<<<<< HEAD
<<<<<<< HEAD
=======
>>>>>>> dev
    "        #<YOUR CODE HERE >\n",
    "        qsa_all_a = {a:self.get_qvalue(state,a) for a in possible_actions}\n",
    "        index = np.argmax(qsa_all_a.values())\n",
    "        best_action = [a for a in qsa_all_a.keys()][index]\n",
<<<<<<< HEAD
=======
    "        <YOUR CODE HERE >\n",
    "\n",
>>>>>>> 87a73886a358aa4bc0dae10efa7c7aabca3a70ac
=======
>>>>>>> dev
    "        return best_action\n",
    "\n",
    "    def get_action(self, state):\n",
    "        \"\"\"\n",
    "        Compute the action to take in the current state, including exploration.  \n",
    "        With probability self.epsilon, we should take a random action.\n",
    "            otherwise - the best policy action (self.get_best_action).\n",
    "\n",
    "        Note: To pick randomly from a list, use random.choice(list). \n",
    "              To pick True or False with a given probablity, generate uniform number in [0, 1]\n",
    "              and compare it with your probability\n",
    "        \"\"\"\n",
    "\n",
    "        # Pick Action\n",
    "        possible_actions = self.get_legal_actions(state)\n",
    "        action = None\n",
    "\n",
    "        # If there are no legal actions, return None\n",
    "        if len(possible_actions) == 0:\n",
    "            return None\n",
    "\n",
    "        # agent parameters:\n",
    "        epsilon = self.epsilon\n",
    "\n",
<<<<<<< HEAD
<<<<<<< HEAD
=======
>>>>>>> dev
    "        #<YOUR CODE HERE >\n",
    "        if np.random.uniform(0,1)<epsilon:\n",
    "            chosen_action = np.random.choice(possible_actions,1)[0]\n",
    "        else:\n",
    "            chosen_action = self.get_best_action(state)\n",
<<<<<<< HEAD
=======
    "        <YOUR CODE HERE >\n",
    "\n",
>>>>>>> 87a73886a358aa4bc0dae10efa7c7aabca3a70ac
=======
>>>>>>> dev
    "        return chosen_action"
   ]
  },
  {
   "cell_type": "markdown",
   "metadata": {},
   "source": [
    "### Try it on taxi\n",
    "\n",
    "Here we use the qlearning agent on taxi env from openai gym.\n",
    "You will need to insert a few agent functions here."
   ]
  },
  {
   "cell_type": "code",
<<<<<<< HEAD
<<<<<<< HEAD
   "execution_count": 20,
   "metadata": {},
   "outputs": [
    {
     "name": "stdout",
     "output_type": "stream",
     "text": [
      "entry_point is :gym.envs.toy_text.taxi:TaxiEnv\n"
     ]
    },
    {
     "name": "stderr",
     "output_type": "stream",
     "text": [
      "/home/jim/.local/lib/python3.6/site-packages/gym/envs/registration.py:14: PkgResourcesDeprecationWarning: Parameters to load are deprecated.  Call .resolve and .require separately.\n",
      "  result = entry_point.load(require = False)\n"
     ]
    }
   ],
=======
   "execution_count": 3,
   "metadata": {
    "collapsed": true
   },
   "outputs": [],
>>>>>>> 87a73886a358aa4bc0dae10efa7c7aabca3a70ac
=======
   "execution_count": 4,
   "metadata": {},
   "outputs": [],
>>>>>>> dev
   "source": [
    "import gym\n",
    "env = gym.make(\"Taxi-v2\")\n",
    "\n",
    "n_actions = env.action_space.n"
   ]
  },
  {
   "cell_type": "code",
<<<<<<< HEAD
<<<<<<< HEAD
   "execution_count": 35,
=======
   "execution_count": 5,
>>>>>>> dev
   "metadata": {},
   "outputs": [],
   "source": [
    "#from qlearning import QLearningAgent\n",
<<<<<<< HEAD
=======
   "execution_count": 4,
   "metadata": {
    "collapsed": true
   },
   "outputs": [],
   "source": [
    "from qlearning import QLearningAgent\n",
>>>>>>> 87a73886a358aa4bc0dae10efa7c7aabca3a70ac
=======
>>>>>>> dev
    "\n",
    "agent = QLearningAgent(alpha=0.5, epsilon=0.25, discount=0.99,\n",
    "                       get_legal_actions=lambda s: range(n_actions))"
   ]
  },
  {
   "cell_type": "code",
<<<<<<< HEAD
<<<<<<< HEAD
   "execution_count": 36,
   "metadata": {},
=======
   "execution_count": 5,
   "metadata": {
    "collapsed": true
   },
>>>>>>> 87a73886a358aa4bc0dae10efa7c7aabca3a70ac
=======
   "execution_count": 6,
   "metadata": {},
>>>>>>> dev
   "outputs": [],
   "source": [
    "def play_and_train(env, agent, t_max=10**4):\n",
    "    \"\"\"\n",
    "    This function should \n",
    "    - run a full game, actions given by agent's e-greedy policy\n",
    "    - train agent using agent.update(...) whenever it is possible\n",
    "    - return total reward\n",
    "    \"\"\"\n",
    "    total_reward = 0.0\n",
    "    s = env.reset()\n",
    "\n",
    "    for t in range(t_max):\n",
    "        # get agent to pick action given state s.\n",
<<<<<<< HEAD
<<<<<<< HEAD
=======
>>>>>>> dev
    "        # <YOUR CODE >\n",
    "        a = agent.get_action(s) \n",
    "        next_s, r, done, _ = env.step(a)\n",
    "\n",
    "        # train (update) agent for state s\n",
    "        # <YOUR CODE HERE >\n",
    "        agent.update(state = s, action = a, reward = r, next_state = next_s)\n",
<<<<<<< HEAD
=======
    "        a = <YOUR CODE >\n",
    "\n",
    "        next_s, r, done, _ = env.step(a)\n",
    "\n",
    "        # train (update) agent for state s\n",
    "        <YOUR CODE HERE >\n",
    "\n",
>>>>>>> 87a73886a358aa4bc0dae10efa7c7aabca3a70ac
=======
>>>>>>> dev
    "        s = next_s\n",
    "        total_reward += r\n",
    "        if done:\n",
    "            break\n",
    "\n",
    "    return total_reward"
   ]
  },
  {
   "cell_type": "code",
<<<<<<< HEAD
<<<<<<< HEAD
   "execution_count": 37,
=======
   "execution_count": 6,
>>>>>>> 87a73886a358aa4bc0dae10efa7c7aabca3a70ac
=======
   "execution_count": 7,
>>>>>>> dev
   "metadata": {},
   "outputs": [
    {
     "name": "stdout",
     "output_type": "stream",
     "text": [
<<<<<<< HEAD
<<<<<<< HEAD
      "eps = 2.9191091959171894e-05 mean reward = -200.0\n"
=======
      "eps = 2.9191091959171894e-05 mean reward = 8.5\n"
>>>>>>> 87a73886a358aa4bc0dae10efa7c7aabca3a70ac
=======
      "eps = 2.9191091959171894e-05 mean reward = -200.0\n"
>>>>>>> dev
     ]
    },
    {
     "data": {
<<<<<<< HEAD
<<<<<<< HEAD
      "image/png": "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\n",
      "text/plain": [
       "<Figure size 432x288 with 1 Axes>"
=======
      "image/png": "iVBORw0KGgoAAAANSUhEUgAAAYIAAAD8CAYAAAB6paOMAAAABHNCSVQICAgIfAhkiAAAAAlwSFlz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\nf9DA+hiS03yrAAAAAElFTkSuQmCC\n",
      "text/plain": [
       "<matplotlib.figure.Figure at 0x7f7cb30164a8>"
>>>>>>> 87a73886a358aa4bc0dae10efa7c7aabca3a70ac
=======
      "image/png": "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\n",
      "text/plain": [
       "<Figure size 432x288 with 1 Axes>"
>>>>>>> dev
      ]
     },
     "metadata": {
      "needs_background": "light"
     },
     "output_type": "display_data"
    }
   ],
   "source": [
    "from IPython.display import clear_output\n",
    "\n",
    "rewards = []\n",
    "for i in range(1000):\n",
    "    rewards.append(play_and_train(env, agent))\n",
    "    agent.epsilon *= 0.99\n",
    "\n",
    "    if i % 100 == 0:\n",
    "        clear_output(True)\n",
    "        print('eps =', agent.epsilon, 'mean reward =', np.mean(rewards[-10:]))\n",
    "        plt.plot(rewards)\n",
    "        plt.show()"
   ]
  },
  {
   "cell_type": "markdown",
   "metadata": {
    "collapsed": true
   },
   "source": [
    "# Binarized state spaces\n",
    "\n",
    "Use agent to train efficiently on CartPole-v0.\n",
    "This environment has a continuous set of possible states, so you will have to group them into bins somehow.\n",
    "\n",
    "The simplest way is to use `round(x,n_digits)` (or numpy round) to round real number to a given amount of digits.\n",
    "\n",
    "The tricky part is to get the n_digits right for each state to train effectively.\n",
    "\n",
    "Note that you don't need to convert state to integers, but to __tuples__ of any kind of values."
   ]
  },
  {
   "cell_type": "code",
<<<<<<< HEAD
<<<<<<< HEAD
   "execution_count": 39,
=======
   "execution_count": 30,
>>>>>>> dev
   "metadata": {},
   "outputs": [
    {
     "name": "stdout",
     "output_type": "stream",
     "text": [
      "\u001b[33mWARN: gym.spaces.Box autodetected dtype as <class 'numpy.float32'>. Please provide explicit dtype.\u001b[0m\n",
      "first state:[ 0.01958333 -0.04435009 -0.01958578 -0.01836161]\n"
     ]
    },
    {
     "data": {
      "text/plain": [
       "<matplotlib.image.AxesImage at 0xd0cd780>"
      ]
     },
     "execution_count": 30,
     "metadata": {},
     "output_type": "execute_result"
    },
    {
     "data": {
      "image/png": "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\n",
      "text/plain": [
       "<Figure size 432x288 with 1 Axes>"
      ]
     },
     "metadata": {
      "needs_background": "light"
     },
     "output_type": "display_data"
    }
   ],
<<<<<<< HEAD
=======
   "execution_count": null,
   "metadata": {
    "collapsed": true
   },
   "outputs": [],
>>>>>>> 87a73886a358aa4bc0dae10efa7c7aabca3a70ac
=======
>>>>>>> dev
   "source": [
    "env = gym.make(\"CartPole-v0\")\n",
    "n_actions = env.action_space.n\n",
    "\n",
    "print(\"first state:%s\" % (env.reset()))\n",
    "plt.imshow(env.render('rgb_array'))"
   ]
  },
  {
   "cell_type": "markdown",
   "metadata": {},
   "source": [
    "### Play a few games\n",
    "\n",
    "We need to estimate observation distributions. To do so, we'll play a few games and record all states."
   ]
  },
  {
   "cell_type": "code",
   "execution_count": 31,
   "metadata": {},
   "outputs": [
    {
     "data": {
      "image/png": "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\n",
      "text/plain": [
       "<Figure size 432x288 with 1 Axes>"
      ]
     },
     "metadata": {
      "needs_background": "light"
     },
     "output_type": "display_data"
    },
    {
     "data": {
      "image/png": "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\n",
      "text/plain": [
       "<Figure size 432x288 with 1 Axes>"
      ]
     },
     "metadata": {
      "needs_background": "light"
     },
     "output_type": "display_data"
    },
    {
     "data": {
      "image/png": "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\n",
      "text/plain": [
       "<Figure size 432x288 with 1 Axes>"
      ]
     },
     "metadata": {
      "needs_background": "light"
     },
     "output_type": "display_data"
    },
    {
     "data": {
      "image/png": "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\n",
      "text/plain": [
       "<Figure size 432x288 with 1 Axes>"
      ]
     },
     "metadata": {
      "needs_background": "light"
     },
     "output_type": "display_data"
    }
   ],
   "source": [
    "all_states = []\n",
    "for _ in range(1000):\n",
    "    all_states.append(env.reset())\n",
    "    done = False\n",
    "    while not done:\n",
    "        s, r, done, _ = env.step(env.action_space.sample())\n",
    "        all_states.append(s)\n",
    "        if done:\n",
    "            break\n",
    "\n",
    "all_states = np.array(all_states)\n",
    "\n",
    "for obs_i in range(env.observation_space.shape[0]):\n",
    "    plt.hist(all_states[:, obs_i], bins=20)\n",
    "    plt.show()"
   ]
  },
  {
   "cell_type": "markdown",
   "metadata": {},
   "source": [
    "## Binarize environment"
   ]
  },
  {
   "cell_type": "code",
   "execution_count": 53,
   "metadata": {},
   "outputs": [],
   "source": [
    "from gym.core import ObservationWrapper\n",
    "\n",
    "\n",
    "class Binarizer(ObservationWrapper):\n",
    "\n",
    "    def observation(self, state):\n",
    "\n",
    "        # state = <round state to some amount digits.>\n",
    "        # hint: you can do that with round(x,n_digits)\n",
    "        # you will need to pick a different n_digits for each dimension\n",
    "        \n",
    "        n_digits_list = [2, 0, 1, 0]\n",
    "        state = [round(state[i],  n_digits_list[i]) for i in range(len(state))] \n",
    "        return tuple(state)"
   ]
  },
  {
   "cell_type": "code",
   "execution_count": 54,
   "metadata": {},
   "outputs": [
    {
     "name": "stdout",
     "output_type": "stream",
     "text": [
      "\u001b[33mWARN: gym.spaces.Box autodetected dtype as <class 'numpy.float32'>. Please provide explicit dtype.\u001b[0m\n"
     ]
    }
   ],
   "source": [
    "env = Binarizer(gym.make(\"CartPole-v0\"))"
   ]
  },
  {
   "cell_type": "code",
   "execution_count": 55,
   "metadata": {},
   "outputs": [
    {
     "data": {
      "image/png": "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\n",
      "text/plain": [
       "<Figure size 432x288 with 1 Axes>"
      ]
     },
     "metadata": {
      "needs_background": "light"
     },
     "output_type": "display_data"
    },
    {
     "data": {
      "image/png": "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\n",
      "text/plain": [
       "<Figure size 432x288 with 1 Axes>"
      ]
     },
     "metadata": {
      "needs_background": "light"
     },
     "output_type": "display_data"
    },
    {
     "data": {
      "image/png": "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\n",
      "text/plain": [
       "<Figure size 432x288 with 1 Axes>"
      ]
     },
     "metadata": {
      "needs_background": "light"
     },
     "output_type": "display_data"
    },
    {
     "data": {
      "image/png": "iVBORw0KGgoAAAANSUhEUgAAAYcAAAD8CAYAAACcjGjIAAAABHNCSVQICAgIfAhkiAAAAAlwSFlzAAALEgAACxIB0t1+/AAAADl0RVh0U29mdHdhcmUAbWF0cGxvdGxpYiB2ZXJzaW9uIDIuMi4zLCBodHRwOi8vbWF0cGxvdGxpYi5vcmcvIxREBQAAEElJREFUeJzt3X+snmV9x/H3R+pPnAJyNNg2K4uNE802WVPYXIyxDgoYyxJJMEYax9K4oOKyZaImawaSYLaIY5lkzehWDBMJuEAGDjvAOJOBlB9DoLI2iLTC4LgC6oi6ynd/nKvz2Ov013O3fc45fb+SJ899f+/rfp7vlbbn0/vH85xUFZIkTfeicTcgSZp9DAdJUsdwkCR1DAdJUsdwkCR1DAdJUsdwkCR1DAdJUsdwkCR1Foy7gVEdf/zxtWTJknG3IUlzxj333PP9qprYn7FzNhyWLFnCpk2bxt2GJM0ZSb67v2M9rSRJ6hgOkqSO4SBJ6hgOkqSO4SBJ6hgOkqSO4SBJ6hgOkqSO4SBJ6szZT0hLs9WSi24eed/HLjvrIHYijc4jB0lSx3CQJHUMB0lSx3CQJHUMB0lSx3CQJHUMB0lSx3CQJHUMB0lSx3CQJHX2GQ5J1id5OsmD02rHJdmYZEt7PrbVk+SKJFuTPJDk5Gn7rG7jtyRZPa3+m0m+1fa5IkkO9iQlSQdmf44c/gFYuVvtIuC2qloK3NbWAc4AlrbHGuBKmAoTYC1wCrAcWLsrUNqYNdP22/29JEmH2T7Doaq+DuzYrbwK2NCWNwBnT6tfXVPuBI5JcgJwOrCxqnZU1TPARmBl2/aqqvr3qirg6mmvJUkak1GvObyuqp4EaM+vbfWFwLZp47a32t7q22eoS5LG6GBfkJ7pekGNUJ/5xZM1STYl2TQ5OTlii5KkfRk1HJ5qp4Roz0+3+nZg8bRxi4An9lFfNEN9RlW1rqqWVdWyiYmJEVuXJO3LqOFwE7DrjqPVwI3T6ue1u5ZOBZ5rp51uBU5Lcmy7EH0acGvb9sMkp7a7lM6b9lqSpDHZ52+CS/JF4B3A8Um2M3XX0WXAdUnOBx4HzmnDbwHOBLYCzwMfBKiqHUkuAe5u4y6uql0Xuf+QqTuiXg58pT0kSWO0z3CoqvftYdOKGcYWcMEeXmc9sH6G+ibgLfvqQ5J0+PgJaUlSx3CQJHUMB0lSx3CQJHUMB0lSx3CQJHUMB0lSx3CQJHUMB0lSx3CQJHUMB0lSx3CQJHUMB0lSx3CQJHUMB0lSx3CQJHUMB0lSx3CQJHUMB0lSx3CQJHUMB0lSx3CQJHUMB0lSx3CQJHUMB0lSx3CQJHUMB0lSx3CQJHUMB0lSZ1A4JPmjJA8leTDJF5O8LMmJSe5KsiXJl5K8pI19aVvf2rYvmfY6n2j1R5KcPmxKkqShRg6HJAuBjwLLquotwFHAucBngMurainwDHB+2+V84JmqegNweRtHkpPafm8GVgKfT3LUqH1JkoYbelppAfDyJAuAVwBPAu8Erm/bNwBnt+VVbZ22fUWStPq1VfWTqvoOsBVYPrAvSdIAI4dDVX0P+EvgcaZC4TngHuDZqtrZhm0HFrblhcC2tu/ONv410+sz7CNJGoMhp5WOZep//ScCrweOBs6YYWjt2mUP2/ZUn+k91yTZlGTT5OTkgTctSdovQ04rvQv4TlVNVtX/Al8Gfhs4pp1mAlgEPNGWtwOLAdr2VwM7ptdn2OcXVNW6qlpWVcsmJiYGtC5J2psh4fA4cGqSV7RrByuAh4E7gPe2MauBG9vyTW2dtv32qqpWP7fdzXQisBT45oC+JEkDLdj3kJlV1V1JrgfuBXYC9wHrgJuBa5N8utWuartcBXwhyVamjhjOba/zUJLrmAqWncAFVfWzUfuSJA03cjgAVNVaYO1u5UeZ4W6jqvoxcM4eXudS4NIhvUiSDh4/IS1J6hgOkqSO4SBJ6hgOkqSO4SBJ6hgOkqSO4SBJ6hgOkqSO4SBJ6hgOkqSO4SBJ6hgOkqSO4SBJ6hgOkqSO4SBJ6hgOkqSO4SBJ6hgOkqSO4SBJ6hgOkqSO4SBJ6hgOkqSO4SBJ6hgOkqSO4SBJ6hgOkqSO4SBJ6hgOkqSO4SBJ6hgOkqTOoHBIckyS65N8O8nmJL+V5LgkG5Nsac/HtrFJckWSrUkeSHLytNdZ3cZvSbJ66KQkScMMPXL4K+BfqupXgV8HNgMXAbdV1VLgtrYOcAawtD3WAFcCJDkOWAucAiwH1u4KFEnSeIwcDkleBbwduAqgqn5aVc8Cq4ANbdgG4Oy2vAq4uqbcCRyT5ATgdGBjVe2oqmeAjcDKUfuSJA035MjhV4BJ4O+T3Jfk75IcDbyuqp4EaM+vbeMXAtum7b+91fZU7yRZk2RTkk2Tk5MDWpck7c2QcFgAnAxcWVVvBf6Hn59CmklmqNVe6n2xal1VLauqZRMTEwfaryRpPw0Jh+3A9qq6q61fz1RYPNVOF9Gen542fvG0/RcBT+ylLkkak5HDoar+C9iW5I2ttAJ4GLgJ2HXH0WrgxrZ8E3Beu2vpVOC5dtrpVuC0JMe2C9GntZokaUwWDNz/I8A1SV4CPAp8kKnAuS7J+cDjwDlt7C3AmcBW4Pk2lqrakeQS4O427uKq2jGwL0nSAIPCoaruB5bNsGnFDGMLuGAPr7MeWD+kF0nSweMnpCVJHcNBktQxHCRJHcNBktQxHCRJHcNBktQxHCRJnaEfgpM0Tyy56OaR933ssrMOYieaDTxykCR1DAdJUsdwkCR1DAdJUsdwkCR1DAdJUsdbWXVIeXukNDd55CBJ6hgOkqSO4SBJ6hgOkqSO4SBJ6hgOkqSO4SBJ6hgOkqSO4SBJ6hgOkqSO4SBJ6hgOkqSO4SBJ6hgOkqTO4HBIclSS+5L8c1s/McldSbYk+VKSl7T6S9v61rZ9ybTX+ESrP5Lk9KE9SZKGORhHDhcCm6etfwa4vKqWAs8A57f6+cAzVfUG4PI2jiQnAecCbwZWAp9PctRB6EuSNKJB4ZBkEXAW8HdtPcA7gevbkA3A2W15VVunbV/Rxq8Crq2qn1TVd4CtwPIhfUmShhl65PA54E+BF9r6a4Bnq2pnW98OLGzLC4FtAG37c238/9dn2EeSNAYjh0OSdwNPV9U908szDK19bNvbPru/55okm5JsmpycPKB+JUn7b8iRw9uA9yR5DLiWqdNJnwOOSbLrd1MvAp5oy9uBxQBt+6uBHdPrM+zzC6pqXVUtq6plExMTA1qXJO3NyOFQVZ+oqkVVtYSpC8q3V9X7gTuA97Zhq4Eb2/JNbZ22/faqqlY/t93NdCKwFPjmqH1JkoZbsO8hB+zjwLVJPg3cB1zV6lcBX0iylakjhnMBquqhJNcBDwM7gQuq6meHoC9J0n46KOFQVV8DvtaWH2WGu42q6sfAOXvY/1Lg0oPRiyRpOD8hLUnqGA6SpI7hIEnqGA6SpI7hIEnqGA6SpI7hIEnqGA6SpI7hIEnqGA6SpI7hIEnqGA6SpI7hIEnqGA6SpI7hIEnqGA6SpI7hIEnqGA6SpI7hIEnqGA6SpI7hIEnqGA6SpI7hIEnqGA6SpI7hIEnqGA6SpI7hIEnqGA6SpI7hIEnqGA6SpM7I4ZBkcZI7kmxO8lCSC1v9uCQbk2xpz8e2epJckWRrkgeSnDzttVa38VuSrB4+LUnSEEOOHHYCf1xVbwJOBS5IchJwEXBbVS0FbmvrAGcAS9tjDXAlTIUJsBY4BVgOrN0VKJKk8Rg5HKrqyaq6ty3/ENgMLARWARvasA3A2W15FXB1TbkTOCbJCcDpwMaq2lFVzwAbgZWj9iVJGu6gXHNIsgR4K3AX8LqqehKmAgR4bRu2ENg2bbftrban+kzvsybJpiSbJicnD0brkqQZDA6HJK8EbgA+VlU/2NvQGWq1l3pfrFpXVcuqatnExMSBNytJ2i+DwiHJi5kKhmuq6sut/FQ7XUR7frrVtwOLp+2+CHhiL3VJ0pgMuVspwFXA5qr67LRNNwG77jhaDdw4rX5eu2vpVOC5dtrpVuC0JMe2C9GntZokaUwWDNj3bcAHgG8lub/VPglcBlyX5HzgceCctu0W4ExgK/A88EGAqtqR5BLg7jbu4qraMaAvSdJAI4dDVX2Dma8XAKyYYXwBF+zhtdYD60ftRZJ0cPkJaUlSx3CQJHUMB0lSx3CQJHUMB0lSx3CQJHUMB0lSx3CQJHUMB0lSx3CQJHUMB0lSx3CQJHUMB0lSx3CQJHUMB0lSZ8gv+5GksVpy0c2D9n/ssrMOUifzj+EwR/iPQNLh5GklSVLHcJAkdQwHSVLHcJAkdQwHSVLHcJAkdQwHSVLHcJAkdQwHSVLHcJAkdQwHSVLHcJAkdWZNOCRZmeSRJFuTXDTufiTpSDYrwiHJUcDfAGcAJwHvS3LSeLuSpCPXrAgHYDmwtaoeraqfAtcCq8bckyQdsWbL73NYCGybtr4dOOVQvdmQ343g70WQNNRc+BmUqjosb7TXJpJzgNOr6g/a+geA5VX1kd3GrQHWtNU3Ao+M+JbHA98fcd/ZZr7MZb7MA5zLbDRf5gHD5vLLVTWxPwNny5HDdmDxtPVFwBO7D6qqdcC6oW+WZFNVLRv6OrPBfJnLfJkHOJfZaL7MAw7fXGbLNYe7gaVJTkzyEuBc4KYx9yRJR6xZceRQVTuTfBi4FTgKWF9VD425LUk6Ys2KcACoqluAWw7T2w0+NTWLzJe5zJd5gHOZjebLPOAwzWVWXJCWJM0us+WagyRpFjliwyHJJUkeSHJ/kq8mef24expFkr9I8u02l39Kcsy4expVknOSPJTkhSRz7s6S+fQVMEnWJ3k6yYPj7mWIJIuT3JFkc/u7deG4expVkpcl+WaS/2hz+fND+n5H6mmlJK+qqh+05Y8CJ1XVh8bc1gFLchpwe7uo/xmAqvr4mNsaSZI3AS8Afwv8SVVtGnNL+619Bcx/Ar/L1K3ZdwPvq6qHx9rYiJK8HfgRcHVVvWXc/YwqyQnACVV1b5JfAu4Bzp6Lfy5JAhxdVT9K8mLgG8CFVXXnoXi/I/bIYVcwNEcDczIlq+qrVbWzrd7J1GdE5qSq2lxVo36wcdzm1VfAVNXXgR3j7mOoqnqyqu5tyz8ENjP1jQxzTk35UVt9cXscsp9bR2w4ACS5NMk24P3An427n4Pg94GvjLuJI9RMXwEzJ38IzVdJlgBvBe4abyejS3JUkvuBp4GNVXXI5jKvwyHJvyZ5cIbHKoCq+lRVLQauAT483m73bF/zaGM+Bexkai6z1v7MZY7KDLU5eTQ6HyV5JXAD8LHdzhrMKVX1s6r6DabOECxPcshO+c2azzkcClX1rv0c+o/AzcDaQ9jOyPY1jySrgXcDK2qWX0Q6gD+TuWa/vgJGh187P38DcE1VfXnc/RwMVfVskq8BK4FDctPAvD5y2JskS6etvgf49rh6GSLJSuDjwHuq6vlx93ME8ytgZqF2EfcqYHNVfXbc/QyRZGLX3YhJXg68i0P4c+tIvlvpBqa+2fUF4LvAh6rqe+Pt6sAl2Qq8FPjvVrpzLt51BZDk94C/BiaAZ4H7q+r08Xa1/5KcCXyOn38FzKVjbmlkSb4IvIOpbwB9ClhbVVeNtakRJPkd4N+AbzH1bx3gk+0bGeaUJL8GbGDq79eLgOuq6uJD9n5HajhIkvbsiD2tJEnaM8NBktQxHCRJHcNBktQxHCRJHcNBktQxHCRJHcNBktT5P3zCg7Y/NeZAAAAAAElFTkSuQmCC\n",
      "text/plain": [
       "<Figure size 432x288 with 1 Axes>"
      ]
     },
     "metadata": {
      "needs_background": "light"
     },
     "output_type": "display_data"
    }
   ],
   "source": [
    "all_states = []\n",
    "for _ in range(1000):\n",
    "    all_states.append(env.reset())\n",
    "    done = False\n",
    "    while not done:\n",
    "        s, r, done, _ = env.step(env.action_space.sample())\n",
    "        all_states.append(s)\n",
    "        if done:\n",
    "            break\n",
    "\n",
    "all_states = np.array(all_states)\n",
    "\n",
    "for obs_i in range(env.observation_space.shape[0]):\n",
    "\n",
    "    plt.hist(all_states[:, obs_i], bins=20)\n",
    "    plt.show()"
   ]
  },
  {
   "cell_type": "markdown",
   "metadata": {},
   "source": [
    "## Learn binarized policy\n",
    "\n",
    "Now let's train a policy that uses binarized state space.\n",
    "\n",
    "__Tips:__ \n",
    "* If your binarization is too coarse, your agent may fail to find optimal policy. In that case, change binarization. \n",
    "* If your binarization is too fine-grained, your agent will take much longer than 1000 steps to converge. You can either increase number of iterations and decrease epsilon decay or change binarization.\n",
    "* Having 10^3 ~ 10^4 distinct states is recommended (`len(QLearningAgent._qvalues)`), but not required.\n",
    "* A reasonable agent should get to an average reward of >=50."
   ]
  },
  {
   "cell_type": "code",
   "execution_count": 51,
   "metadata": {},
   "outputs": [],
   "source": [
    "agent = QLearningAgent(alpha=0.5, epsilon=0.25, discount=0.99,\n",
    "                       get_legal_actions=lambda s: range(n_actions))"
   ]
  },
  {
   "cell_type": "code",
   "execution_count": 56,
   "metadata": {},
   "outputs": [
    {
     "ename": "NameError",
     "evalue": "name 'agenet' is not defined",
     "output_type": "error",
     "traceback": [
      "\u001b[1;31m---------------------------------------------------------------------------\u001b[0m",
      "\u001b[1;31mNameError\u001b[0m                                 Traceback (most recent call last)",
      "\u001b[1;32m<ipython-input-56-0970fc506b15>\u001b[0m in \u001b[0;36m<module>\u001b[1;34m()\u001b[0m\n\u001b[0;32m      6\u001b[0m     \u001b[1;32mif\u001b[0m \u001b[0mi\u001b[0m \u001b[1;33m%\u001b[0m \u001b[1;36m100\u001b[0m \u001b[1;33m==\u001b[0m \u001b[1;36m0\u001b[0m\u001b[1;33m:\u001b[0m\u001b[1;33m\u001b[0m\u001b[0m\n\u001b[0;32m      7\u001b[0m         \u001b[0mclear_output\u001b[0m\u001b[1;33m(\u001b[0m\u001b[1;32mTrue\u001b[0m\u001b[1;33m)\u001b[0m\u001b[1;33m\u001b[0m\u001b[0m\n\u001b[1;32m----> 8\u001b[1;33m         \u001b[0magenet\u001b[0m\u001b[1;33m.\u001b[0m\u001b[0mepsilon\u001b[0m \u001b[1;33m*=\u001b[0m \u001b[1;36m0.99\u001b[0m\u001b[1;33m\u001b[0m\u001b[0m\n\u001b[0m\u001b[0;32m      9\u001b[0m         \u001b[0mprint\u001b[0m\u001b[1;33m(\u001b[0m\u001b[1;34m'eps ='\u001b[0m\u001b[1;33m,\u001b[0m \u001b[0magent\u001b[0m\u001b[1;33m.\u001b[0m\u001b[0mepsilon\u001b[0m\u001b[1;33m,\u001b[0m \u001b[1;34m'mean reward ='\u001b[0m\u001b[1;33m,\u001b[0m \u001b[0mnp\u001b[0m\u001b[1;33m.\u001b[0m\u001b[0mmean\u001b[0m\u001b[1;33m(\u001b[0m\u001b[0mrewards\u001b[0m\u001b[1;33m[\u001b[0m\u001b[1;33m-\u001b[0m\u001b[1;36m10\u001b[0m\u001b[1;33m:\u001b[0m\u001b[1;33m]\u001b[0m\u001b[1;33m)\u001b[0m\u001b[1;33m)\u001b[0m\u001b[1;33m\u001b[0m\u001b[0m\n\u001b[0;32m     10\u001b[0m         \u001b[0mplt\u001b[0m\u001b[1;33m.\u001b[0m\u001b[0mplot\u001b[0m\u001b[1;33m(\u001b[0m\u001b[0mrewards\u001b[0m\u001b[1;33m)\u001b[0m\u001b[1;33m\u001b[0m\u001b[0m\n",
      "\u001b[1;31mNameError\u001b[0m: name 'agenet' is not defined"
     ]
    }
   ],
   "source": [
    "rewards = []\n",
    "for i in range(1000):\n",
    "    rewards.append(play_and_train(env, agent))\n",
    "\n",
    "    # OPTIONAL YOUR CODE: adjust epsilon\n",
    "    if i % 100 == 0:\n",
    "        clear_output(True)\n",
    "        agenet.epsilon = agent.epsilon * 0.99 \n",
    "        print('eps =', agent.epsilon, 'mean reward =', np.mean(rewards[-10:]))\n",
    "        plt.plot(rewards)\n",
    "        plt.show()"
   ]
  },
  {
   "cell_type": "code",
   "execution_count": null,
   "metadata": {},
   "outputs": [],
   "source": []
  }
 ],
 "metadata": {
  "kernelspec": {
   "display_name": "Python 3",
   "language": "python",
   "name": "python3"
  },
  "language_info": {
   "codemirror_mode": {
    "name": "ipython",
    "version": 3
   },
   "file_extension": ".py",
   "mimetype": "text/x-python",
   "name": "python",
   "nbconvert_exporter": "python",
   "pygments_lexer": "ipython3",
<<<<<<< HEAD
<<<<<<< HEAD
   "version": "3.6.9"
=======
   "version": "3.6.8"
>>>>>>> 87a73886a358aa4bc0dae10efa7c7aabca3a70ac
=======
   "version": "3.6.9"
>>>>>>> dev
  }
 },
 "nbformat": 4,
 "nbformat_minor": 1
}
